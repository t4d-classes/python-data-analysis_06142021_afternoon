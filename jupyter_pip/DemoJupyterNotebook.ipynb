{
 "cells": [
  {
   "cell_type": "markdown",
   "id": "18d31425",
   "metadata": {},
   "source": [
    "# Demo Jupyter Notebook"
   ]
  },
  {
   "cell_type": "code",
   "execution_count": 1,
   "id": "d75a650a",
   "metadata": {
    "ExecuteTime": {
     "end_time": "2021-06-14T18:54:31.217481Z",
     "start_time": "2021-06-14T18:54:31.180935Z"
    }
   },
   "outputs": [
    {
     "output_type": "execute_result",
     "data": {
      "text/plain": [
       "2"
      ]
     },
     "metadata": {},
     "execution_count": 1
    }
   ],
   "source": [
    "x = 2\n",
    "\n",
    "x"
   ]
  },
  {
   "cell_type": "code",
   "execution_count": 2,
   "id": "7e501d3b",
   "metadata": {
    "ExecuteTime": {
     "end_time": "2021-06-14T18:57:53.497449Z",
     "start_time": "2021-06-14T18:57:53.477504Z"
    }
   },
   "outputs": [
    {
     "output_type": "display_data",
     "data": {
      "text/plain": "'this is cool!'"
     },
     "metadata": {}
    }
   ],
   "source": [
    "display(\"this is cool!\")"
   ]
  },
  {
   "cell_type": "code",
   "execution_count": 3,
   "id": "a2b44ac4",
   "metadata": {
    "ExecuteTime": {
     "end_time": "2021-06-14T18:58:01.237376Z",
     "start_time": "2021-06-14T18:58:01.184324Z"
    }
   },
   "outputs": [
    {
     "output_type": "execute_result",
     "data": {
      "text/plain": [
       "5"
      ]
     },
     "metadata": {},
     "execution_count": 3
    }
   ],
   "source": [
    "2 + 3"
   ]
  },
  {
   "cell_type": "code",
   "execution_count": null,
   "id": "160c34ec",
   "metadata": {},
   "outputs": [],
   "source": []
  }
 ],
 "metadata": {
  "kernelspec": {
   "display_name": "jupyter-pip-pm",
   "language": "python",
   "name": "jupyter-pip-pm"
  },
  "language_info": {
   "codemirror_mode": {
    "name": "ipython",
    "version": 3
   },
   "file_extension": ".py",
   "mimetype": "text/x-python",
   "name": "python",
   "nbconvert_exporter": "python",
   "pygments_lexer": "ipython3",
   "version": "3.9.5"
  },
  "varInspector": {
   "cols": {
    "lenName": 16,
    "lenType": 16,
    "lenVar": 40
   },
   "kernels_config": {
    "python": {
     "delete_cmd_postfix": "",
     "delete_cmd_prefix": "del ",
     "library": "var_list.py",
     "varRefreshCmd": "print(var_dic_list())"
    },
    "r": {
     "delete_cmd_postfix": ") ",
     "delete_cmd_prefix": "rm(",
     "library": "var_list.r",
     "varRefreshCmd": "cat(var_dic_list()) "
    }
   },
   "types_to_exclude": [
    "module",
    "function",
    "builtin_function_or_method",
    "instance",
    "_Feature"
   ],
   "window_display": false
  }
 },
 "nbformat": 4,
 "nbformat_minor": 5
}
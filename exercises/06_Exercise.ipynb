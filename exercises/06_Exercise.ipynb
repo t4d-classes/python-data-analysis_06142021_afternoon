{
 "cells": [
  {
   "cell_type": "markdown",
   "id": "d4b16b1b-f543-42f5-8051-8c44bd79f1a3",
   "metadata": {},
   "source": [
    "# Exercise 6"
   ]
  },
  {
   "cell_type": "markdown",
   "id": "422a2591-b956-4f5f-bfc7-70a799e720bd",
   "metadata": {},
   "source": [
    "Step 1. Load the May 2020 Airline CSV file into a data frame."
   ]
  },
  {
   "cell_type": "code",
   "execution_count": 1,
   "id": "a193abda-73c5-401b-9fdc-4e4846b3fddd",
   "metadata": {},
   "outputs": [],
   "source": [
    "# Step 1 Solution"
   ]
  },
  {
   "cell_type": "markdown",
   "id": "6b806aa9-e764-4df1-8e42-47e34dd88e11",
   "metadata": {},
   "source": [
    "Step 2. Count the number of flights for each origin airport. Sort the totals, and display the top 10 airports. Which origin airport had the most flights?"
   ]
  },
  {
   "cell_type": "code",
   "execution_count": 2,
   "id": "57ffa48b-2e1c-4899-8ca0-3c0fa22a3536",
   "metadata": {},
   "outputs": [],
   "source": [
    "# Step 2 Solution"
   ]
  },
  {
   "cell_type": "markdown",
   "id": "cbb12767-6a43-405e-824f-d91dd8c02bab",
   "metadata": {},
   "source": [
    "Step 3. Which origin airport had the most cancellations?"
   ]
  },
  {
   "cell_type": "code",
   "execution_count": 3,
   "id": "8584a082-11e4-4971-80fe-2812a826c6db",
   "metadata": {},
   "outputs": [],
   "source": [
    "# Step 3 Solution"
   ]
  },
  {
   "cell_type": "markdown",
   "id": "0c3aeaba-cfb9-4e31-8622-db9d89b708ab",
   "metadata": {},
   "source": [
    "Step 4. Which origin airport had the highest percentage of cancellations in relation to its total number of flights?"
   ]
  },
  {
   "cell_type": "code",
   "execution_count": 4,
   "id": "bf4d59d7-485c-4121-a5c6-e3ce7a5e2f26",
   "metadata": {},
   "outputs": [],
   "source": [
    "# Step 4 Solution"
   ]
  },
  {
   "cell_type": "markdown",
   "id": "0b77a136-31a2-4639-a50a-bee4d9c9c84b",
   "metadata": {},
   "source": [
    "Step 5. Chart the number of flights and cancellations per day, in May 2020, for ATL, LAS, DFW, and ORD. Using a pie chart show the number of canceled flights in relation to non-canceled flights for ATL, LAS, DFW, and ORD for May 2020. Draw one figure per airport, with each figure containing the daily chart and the monthly pie chart."
   ]
  },
  {
   "cell_type": "code",
   "execution_count": 5,
   "id": "889e4f24-9479-4d22-9ff4-7ab7fa2dcbb7",
   "metadata": {},
   "outputs": [],
   "source": [
    "# Step 5 Solution"
   ]
  }
 ],
 "metadata": {
  "kernelspec": {
   "display_name": "Python 3",
   "language": "python",
   "name": "python3"
  },
  "language_info": {
   "codemirror_mode": {
    "name": "ipython",
    "version": 3
   },
   "file_extension": ".py",
   "mimetype": "text/x-python",
   "name": "python",
   "nbconvert_exporter": "python",
   "pygments_lexer": "ipython3",
   "version": "3.9.5"
  }
 },
 "nbformat": 4,
 "nbformat_minor": 5
}

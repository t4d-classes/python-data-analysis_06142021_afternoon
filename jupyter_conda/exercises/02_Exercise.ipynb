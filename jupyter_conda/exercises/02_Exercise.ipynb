{
 "cells": [
  {
   "cell_type": "markdown",
   "id": "2516a108-c093-4438-881f-a2af02e4ff61",
   "metadata": {},
   "source": [
    "# Exercise #2"
   ]
  },
  {
   "cell_type": "markdown",
   "id": "e83448a1-0cda-4b58-9315-b893885bc414",
   "metadata": {},
   "source": [
    "Step 1. Use the Python Standard Library to read the currency data for 2020 from the \"eurofxref-hist.csv\"."
   ]
  },
  {
   "cell_type": "code",
   "execution_count": 2,
   "id": "8cdcc00d-fdde-48a3-99ad-0c4e37681993",
   "metadata": {},
   "outputs": [
    {
     "name": "stdout",
     "output_type": "stream",
     "text": [
      "[{'Date': '2020-12-31', 'USD': '1.2271', 'JPY': '126.49', 'BGN': '1.9558', 'CYP': 'N/A', 'CZK': '26.242', 'DKK': '7.4409', 'EEK': 'N/A', 'GBP': '0.89903', 'HUF': '363.89', 'LTL': 'N/A', 'LVL': 'N/A', 'MTL': 'N/A', 'PLN': '4.5597', 'ROL': 'N/A', 'RON': '4.8683', 'SEK': '10.0343', 'SIT': 'N/A', 'SKK': 'N/A', 'CHF': '1.0802', 'ISK': '156.1', 'NOK': '10.4703', 'HRK': '7.5519', 'RUB': '91.4671', 'TRL': 'N/A', 'TRY': '9.1131', 'AUD': '1.5896', 'BRL': '6.3735', 'CAD': '1.5633', 'CNY': '8.0225', 'HKD': '9.5142', 'IDR': '17240.76', 'ILS': '3.9447', 'INR': '89.6605', 'KRW': '1336', 'MXN': '24.416', 'MYR': '4.934', 'NZD': '1.6984', 'PHP': '59.125', 'SGD': '1.6218', 'THB': '36.727', 'ZAR': '18.0219', '': ''}, {'Date': '2020-12-30', 'USD': '1.2281', 'JPY': '126.57', 'BGN': '1.9558', 'CYP': 'N/A', 'CZK': '26.252', 'DKK': '7.4393', 'EEK': 'N/A', 'GBP': '0.90307', 'HUF': '364.88', 'LTL': 'N/A', 'LVL': 'N/A', 'MTL': 'N/A', 'PLN': '4.5565', 'ROL': 'N/A', 'RON': '4.8681', 'SEK': '10.0568', 'SIT': 'N/A', 'SKK': 'N/A', 'CHF': '1.0857', 'ISK': '156.1', 'NOK': '10.547', 'HRK': '7.546', 'RUB': '91.8851', 'TRL': 'N/A', 'TRY': '9.0321', 'AUD': '1.6025', 'BRL': '6.3574', 'CAD': '1.5701', 'CNY': '8.0134', 'HKD': '9.521', 'IDR': '17254.81', 'ILS': '3.9429', 'INR': '89.8824', 'KRW': '1335.83', 'MXN': '24.3733', 'MYR': '4.9578', 'NZD': '1.7071', 'PHP': '59.026', 'SGD': '1.6257', 'THB': '36.769', 'ZAR': '18.0053', '': ''}, {'Date': '2020-12-29', 'USD': '1.2259', 'JPY': '127.23', 'BGN': '1.9558', 'CYP': 'N/A', 'CZK': '26.302', 'DKK': '7.4382', 'EEK': 'N/A', 'GBP': '0.90863', 'HUF': '364.53', 'LTL': 'N/A', 'LVL': 'N/A', 'MTL': 'N/A', 'PLN': '4.5308', 'ROL': 'N/A', 'RON': '4.8757', 'SEK': '10.084', 'SIT': 'N/A', 'SKK': 'N/A', 'CHF': '1.0862', 'ISK': '156.3', 'NOK': '10.55', 'HRK': '7.5447', 'RUB': '90.1883', 'TRL': 'N/A', 'TRY': '9.0177', 'AUD': '1.6121', 'BRL': '6.3717', 'CAD': '1.5713', 'CNY': '8.007', 'HKD': '9.5043', 'IDR': '17305.6', 'ILS': '3.9363', 'INR': '89.942', 'KRW': '1340.33', 'MXN': '24.4001', 'MYR': '4.9655', 'NZD': '1.7171', 'PHP': '58.903', 'SGD': '1.6274', 'THB': '36.826', 'ZAR': '17.9651', '': ''}, {'Date': '2020-12-28', 'USD': '1.2219', 'JPY': '126.54', 'BGN': '1.9558', 'CYP': 'N/A', 'CZK': '26.247', 'DKK': '7.4361', 'EEK': 'N/A', 'GBP': '0.90408', 'HUF': '363.46', 'LTL': 'N/A', 'LVL': 'N/A', 'MTL': 'N/A', 'PLN': '4.4907', 'ROL': 'N/A', 'RON': '4.8745', 'SEK': '10.107', 'SIT': 'N/A', 'SKK': 'N/A', 'CHF': '1.0854', 'ISK': '156.1', 'NOK': '10.5713', 'HRK': '7.5435', 'RUB': '90.0681', 'TRL': 'N/A', 'TRY': '9.1254', 'AUD': '1.6083', 'BRL': '6.3443', 'CAD': '1.5677', 'CNY': '7.9906', 'HKD': '9.4731', 'IDR': '17337.66', 'ILS': '3.9275', 'INR': '89.8145', 'KRW': '1340.87', 'MXN': '24.3136', 'MYR': '4.949', 'NZD': '1.716', 'PHP': '58.7', 'SGD': '1.6237', 'THB': '36.865', 'ZAR': '17.8008', '': ''}, {'Date': '2020-12-24', 'USD': '1.2193', 'JPY': '126.38', 'BGN': '1.9558', 'CYP': 'N/A', 'CZK': '26.299', 'DKK': '7.4389', 'EEK': 'N/A', 'GBP': '0.89795', 'HUF': '361.62', 'LTL': 'N/A', 'LVL': 'N/A', 'MTL': 'N/A', 'PLN': '4.5022', 'ROL': 'N/A', 'RON': '4.8725', 'SEK': '10.0763', 'SIT': 'N/A', 'SKK': 'N/A', 'CHF': '1.0851', 'ISK': '155.9', 'NOK': '10.5108', 'HRK': '7.5461', 'RUB': '90.5914', 'TRL': 'N/A', 'TRY': '9.2275', 'AUD': '1.6039', 'BRL': '6.3608', 'CAD': '1.5656', 'CNY': '7.9624', 'HKD': '9.4532', 'IDR': '17314.06', 'ILS': '3.9221', 'INR': '89.6845', 'KRW': '1344.97', 'MXN': '24.3475', 'MYR': '4.951', 'NZD': '1.7168', 'PHP': '58.559', 'SGD': '1.6195', 'THB': '36.689', 'ZAR': '17.8252', '': ''}]\n"
     ]
    }
   ],
   "source": [
    "# Step 1 Solution\n",
    "\n",
    "import csv\n",
    "\n",
    "data = []\n",
    "\n",
    "with open(\"data/eurofxref-hist.csv\") as csv_file:\n",
    "    csv_reader = csv.DictReader(csv_file)\n",
    "    \n",
    "    for row in csv_reader:\n",
    "        if (row['Date'].startswith('2020')):\n",
    "            data.append(row)\n",
    "        \n",
    "print(data[:5])"
   ]
  },
  {
   "cell_type": "markdown",
   "id": "e96fc032-94af-4946-8e39-6fe145e9d48d",
   "metadata": {},
   "source": [
    "Step 2. Create a new NumPy Array from the loaded currency data. The array should only contain the following columns: USD, CAD, JPY, and the RUB. "
   ]
  },
  {
   "cell_type": "code",
   "execution_count": 3,
   "id": "860c0cb6-36ee-48e7-8ab5-44965311ed31",
   "metadata": {},
   "outputs": [
    {
     "name": "stdout",
     "output_type": "stream",
     "text": [
      "(257, 4)\n",
      "1028\n"
     ]
    },
    {
     "data": {
      "text/plain": [
       "array([[  1.2271,   1.5633, 126.49  ,  91.4671],\n",
       "       [  1.2281,   1.5701, 126.57  ,  91.8851],\n",
       "       [  1.2259,   1.5713, 127.23  ,  90.1883],\n",
       "       ...,\n",
       "       [  1.1194,   1.4525, 121.02  ,  69.4047],\n",
       "       [  1.1147,   1.4471, 120.54  ,  69.119 ],\n",
       "       [  1.1193,   1.4549, 121.75  ,  69.1893]])"
      ]
     },
     "execution_count": 3,
     "metadata": {},
     "output_type": "execute_result"
    }
   ],
   "source": [
    "# Step 2 Solution\n",
    "\n",
    "import numpy as np\n",
    "\n",
    "rates = []\n",
    "\n",
    "for row in data:\n",
    "    rates.append([ float(row[\"USD\"]), float(row['CAD']), float(row['JPY']), float(row['RUB']) ])\n",
    "\n",
    "rates = np.array(rates)\n",
    "\n",
    "print(rates.shape)\n",
    "print(rates.size)\n",
    "\n",
    "rates"
   ]
  },
  {
   "cell_type": "markdown",
   "id": "855d3882-1506-4251-a74d-e7926465d2d5",
   "metadata": {},
   "source": [
    "Step 3. Add a new column for EUR data. Initialized each element with a 1. Display the new array with the USD, CAD, JPY, RUB, and EUR columns."
   ]
  },
  {
   "cell_type": "code",
   "execution_count": 7,
   "id": "c4f82e3b-7c73-464f-bfaa-472e5b80c343",
   "metadata": {},
   "outputs": [
    {
     "data": {
      "text/plain": [
       "array([[  1.    ,   1.2271,   1.5633, 126.49  ,  91.4671],\n",
       "       [  1.    ,   1.2281,   1.5701, 126.57  ,  91.8851],\n",
       "       [  1.    ,   1.2259,   1.5713, 127.23  ,  90.1883],\n",
       "       ...,\n",
       "       [  1.    ,   1.1194,   1.4525, 121.02  ,  69.4047],\n",
       "       [  1.    ,   1.1147,   1.4471, 120.54  ,  69.119 ],\n",
       "       [  1.    ,   1.1193,   1.4549, 121.75  ,  69.1893]])"
      ]
     },
     "execution_count": 7,
     "metadata": {},
     "output_type": "execute_result"
    }
   ],
   "source": [
    "# Step 3 Solution\n",
    "\n",
    "eur_rates = np.ones( (rates.shape[0], 1) )\n",
    "\n",
    "# eur_rates\n",
    "\n",
    "all_rates = np.column_stack([ eur_rates, rates ])\n",
    "\n",
    "all_rates"
   ]
  },
  {
   "cell_type": "markdown",
   "id": "35e8f7c9-f825-43ad-8900-a6f6d4e0fc81",
   "metadata": {},
   "source": [
    "Step 4. The currency rates are all calculated with respect to the EUR. Update the rates to be calculated with respect to the USD. For each currency column on each row, divide each currency by the value for the USD. Display the array."
   ]
  },
  {
   "cell_type": "code",
   "execution_count": 30,
   "id": "75b4d122-abef-41f3-8521-ac1165136e13",
   "metadata": {},
   "outputs": [
    {
     "data": {
      "text/plain": [
       "array([[  0.81492951,   1.        ,   1.2739793 , 103.08043354,\n",
       "         74.53923886],\n",
       "       [  0.81426594,   1.        ,   1.27847895, 103.06163993,\n",
       "         74.81890726],\n",
       "       [  0.81572722,   1.        ,   1.28175218, 103.7849743 ,\n",
       "         73.56905131],\n",
       "       ...,\n",
       "       [  0.89333572,   1.        ,   1.29757013, 108.1114883 ,\n",
       "         62.00169734],\n",
       "       [  0.89710236,   1.        ,   1.29819682, 108.1367184 ,\n",
       "         62.00681798],\n",
       "       [  0.89341553,   1.        ,   1.29983025, 108.77334048,\n",
       "         61.81479496]])"
      ]
     },
     "execution_count": 30,
     "metadata": {},
     "output_type": "execute_result"
    }
   ],
   "source": [
    "# Step 4 Solution\n",
    "\n",
    "# for row_index in range(all_rates.shape[0]):    \n",
    "#   [0.8, 1, 1.1, 1.9, 1.1 ] <= [1, 1.2, 1.5, 2.3, 1.4 ] / 1.2\n",
    "#    all_rates[row_index] = all_rates[row_index] / all_rates[row_index,1]\n",
    "\n",
    "# usd_col = all_rates[:,1]\n",
    "\n",
    "# usd_table = np.column_stack([ usd_col, usd_col, usd_col, usd_col, usd_col ])\n",
    "\n",
    "# print(usd_table.shape)\n",
    "\n",
    "# all_rates[:,1,np.newaxis].shape\n",
    "all_rates = all_rates / all_rates[:,1,np.newaxis]\n",
    "# all_rates = all_rates / all_rates[:,1,None]\n",
    "# all_rates = all_rates / all_rates[:, [1]]\n",
    "# all_rates = all_rates / all_rates[:, 1].reshape(257,1)\n",
    "\n",
    "\n",
    "all_rates\n"
   ]
  },
  {
   "cell_type": "markdown",
   "id": "9a28ba22-e544-49e3-ae67-14a1e994b381",
   "metadata": {},
   "source": [
    "Step 5. For the EUR, what was the max and min value for 2020? What was the max and min value for the RUB?"
   ]
  },
  {
   "cell_type": "code",
   "execution_count": 31,
   "id": "389b2675-eb4e-4fc2-b5c1-d2162900b8b7",
   "metadata": {},
   "outputs": [
    {
     "name": "stdout",
     "output_type": "stream",
     "text": [
      "0.814265939255761\n",
      "0.933968431867003\n",
      "0.814265939255761\n",
      "0.933968431867003\n",
      "102.23463687150839\n",
      "112.01112140871177\n",
      "102.23463687150839\n",
      "112.01112140871177\n"
     ]
    }
   ],
   "source": [
    "# Step 5 Solution\n",
    "\n",
    "print(all_rates[:,0].min())\n",
    "print(all_rates[:,0].max())\n",
    "print(np.min(all_rates[:,0]))\n",
    "print(np.max(all_rates[:,0]))\n",
    "\n",
    "print(all_rates[:,3].min())\n",
    "print(all_rates[:,3].max())\n",
    "print(np.min(all_rates[:,3]))\n",
    "print(np.max(all_rates[:,3]))"
   ]
  },
  {
   "cell_type": "markdown",
   "id": "89959cce-6d84-4d9a-ac06-3940c2fac356",
   "metadata": {},
   "source": [
    "Step 6. Plot the price of th EUR, USD, and CAD for each \"day\". The date should be represented on the X-axis, and price of the currency on the Y-axis."
   ]
  },
  {
   "cell_type": "code",
   "execution_count": 33,
   "id": "92ef5617-a234-4f29-a879-adb60c7fadc3",
   "metadata": {},
   "outputs": [
    {
     "data": {
      "image/png": "[encoded data removed]",
      "text/plain": [
       "<Figure size 432x288 with 1 Axes>"
      ]
     },
     "metadata": {
      "needs_background": "light"
     },
     "output_type": "display_data"
    }
   ],
   "source": [
    "# Step 6 Solution\n",
    "\n",
    "from matplotlib import pyplot as plt\n",
    "\n",
    "%matplotlib inline\n",
    "\n",
    "\n",
    "plt.plot(all_rates[:,0], label=\"EUR\", color=\"blue\")\n",
    "plt.plot(all_rates[:,1], label=\"USD\", color=\"green\")\n",
    "plt.plot(all_rates[:,2], label=\"CAD\", color=\"orange\")\n",
    "# plt.plot(all_rates[:,3], label=\"JPY\", color=\"purple\")\n",
    "# plt.plot(all_rates[:,4], label=\"RUB\", color=\"red\")\n",
    "\n",
    "plt.title('Currency Rates by Day in 2020')\n",
    "plt.xlabel('Day of the Year')\n",
    "plt.ylabel('Rate')\n",
    "plt.legend(loc='center right')\n",
    "\n",
    "plt.show()"
   ]
  },
  {
   "cell_type": "code",
   "execution_count": null,
   "id": "79a5031a-4f66-4034-9464-62b30b070afa",
   "metadata": {},
   "outputs": [],
   "source": []
  }
 ],
 "metadata": {
  "kernelspec": {
   "display_name": "Python 3",
   "language": "python",
   "name": "python3"
  },
  "language_info": {
   "codemirror_mode": {
    "name": "ipython",
    "version": 3
   },
   "file_extension": ".py",
   "mimetype": "text/x-python",
   "name": "python",
   "nbconvert_exporter": "python",
   "pygments_lexer": "ipython3",
   "version": "3.9.5"
  }
 },
 "nbformat": 4,
 "nbformat_minor": 5
}

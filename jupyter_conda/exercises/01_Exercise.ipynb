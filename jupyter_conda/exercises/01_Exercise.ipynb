{
 "cells": [
  {
   "cell_type": "markdown",
   "id": "83b399e8-f811-4ea4-8088-4d59208d9539",
   "metadata": {},
   "source": [
    "# Exercise #1"
   ]
  },
  {
   "cell_type": "markdown",
   "id": "df6ead18-01d5-4fca-916c-9ca41df2ef01",
   "metadata": {},
   "source": [
    "1. Create a two dimensional array populated with the numbers 0 to 63. The array should have a shape of 4 rows and 16 columns."
   ]
  },
  {
   "cell_type": "code",
   "execution_count": 13,
   "id": "b572b568-6079-4670-b183-a33784020a3b",
   "metadata": {},
   "outputs": [
    {
     "data": {
      "text/plain": [
       "array([[ 0,  1,  2,  3,  4,  5,  6,  7,  8,  9, 10, 11, 12, 13, 14, 15],\n",
       "       [16, 17, 18, 19, 20, 21, 22, 23, 24, 25, 26, 27, 28, 29, 30, 31],\n",
       "       [32, 33, 34, 35, 36, 37, 38, 39, 40, 41, 42, 43, 44, 45, 46, 47],\n",
       "       [48, 49, 50, 51, 52, 53, 54, 55, 56, 57, 58, 59, 60, 61, 62, 63]],\n",
       "      dtype=int8)"
      ]
     },
     "metadata": {},
     "output_type": "display_data"
    }
   ],
   "source": [
    "# Step 1 Solution Here\n",
    "\n",
    "import numpy as np\n",
    "\n",
    "arr = np.arange(64, dtype=\"int8\").reshape(4,16)\n",
    "\n",
    "display(arr)"
   ]
  },
  {
   "cell_type": "markdown",
   "id": "3ff11523-cdda-4cac-95a1-c52dff30be9b",
   "metadata": {},
   "source": [
    "2. Using the array created in the previous step, display the following:\n",
    "\n",
    "- Element Data Type\n",
    "- Number of Dimensions\n",
    "- Shape\n",
    "- Element Count\n",
    "- Item Size in Bytes\n",
    "- Array Size in Bytes"
   ]
  },
  {
   "cell_type": "code",
   "execution_count": 14,
   "id": "4d851cb8-5fda-4ead-8e21-89c86d9767b6",
   "metadata": {},
   "outputs": [
    {
     "data": {
      "text/plain": [
       "dtype('int8')"
      ]
     },
     "metadata": {},
     "output_type": "display_data"
    },
    {
     "data": {
      "text/plain": [
       "2"
      ]
     },
     "metadata": {},
     "output_type": "display_data"
    },
    {
     "data": {
      "text/plain": [
       "(4, 16)"
      ]
     },
     "metadata": {},
     "output_type": "display_data"
    },
    {
     "data": {
      "text/plain": [
       "64"
      ]
     },
     "metadata": {},
     "output_type": "display_data"
    },
    {
     "data": {
      "text/plain": [
       "1"
      ]
     },
     "metadata": {},
     "output_type": "display_data"
    },
    {
     "data": {
      "text/plain": [
       "64"
      ]
     },
     "metadata": {},
     "output_type": "display_data"
    }
   ],
   "source": [
    "# Step 2 Solution Here\n",
    "\n",
    "display(arr.dtype)\n",
    "display(arr.ndim)\n",
    "display(arr.shape)\n",
    "display(arr.size)\n",
    "display(arr.itemsize)\n",
    "display(arr.nbytes)"
   ]
  },
  {
   "cell_type": "markdown",
   "id": "0c2904cd-93b1-4f9a-8f31-f888dea32004",
   "metadata": {},
   "source": [
    "3. Subtract 10 from each element through a one-line subtraction operation."
   ]
  },
  {
   "cell_type": "code",
   "execution_count": 15,
   "id": "bcc87466-a47c-4648-a9a1-dfbc997ffb38",
   "metadata": {},
   "outputs": [
    {
     "data": {
      "text/plain": [
       "array([[-10,  -9,  -8,  -7,  -6,  -5,  -4,  -3,  -2,  -1,   0,   1,   2,\n",
       "          3,   4,   5],\n",
       "       [  6,   7,   8,   9,  10,  11,  12,  13,  14,  15,  16,  17,  18,\n",
       "         19,  20,  21],\n",
       "       [ 22,  23,  24,  25,  26,  27,  28,  29,  30,  31,  32,  33,  34,\n",
       "         35,  36,  37],\n",
       "       [ 38,  39,  40,  41,  42,  43,  44,  45,  46,  47,  48,  49,  50,\n",
       "         51,  52,  53]], dtype=int8)"
      ]
     },
     "execution_count": 15,
     "metadata": {},
     "output_type": "execute_result"
    }
   ],
   "source": [
    "# Step 3 Solution Here\n",
    "\n",
    "arr -= 10\n",
    "\n",
    "arr"
   ]
  },
  {
   "cell_type": "markdown",
   "id": "2673e39f-e881-4553-a720-7e68c1293451",
   "metadata": {},
   "source": [
    "4. Multiply all even values with a -1."
   ]
  },
  {
   "cell_type": "code",
   "execution_count": 24,
   "id": "5381eb00-5825-4919-a961-a720ff26031b",
   "metadata": {},
   "outputs": [
    {
     "data": {
      "text/plain": [
       "array([2, 1, 2])"
      ]
     },
     "execution_count": 24,
     "metadata": {},
     "output_type": "execute_result"
    }
   ],
   "source": [
    "# Step 4 Solution Here\n",
    "\n",
    "arr[arr % 2 != 0] *= -1\n",
    "\n",
    "arr\n",
    "\n",
    "# if 4 % 2:\n",
    "#     print(\"odd\")\n",
    "# else:\n",
    "#     print(\"even\")\n",
    "\n",
    "# arr % 2\n",
    "\n",
    "# arr % 2 != 0\n",
    "    \n",
    "# arr[arr % 2] *= -1\n",
    "\n",
    "# arr\n",
    "\n",
    "# arr1 = np.array([ 1,2,3 ])\n",
    "\n",
    "# arr1[ [True, False, True ]]\n",
    "\n",
    "# arr1[ [1, 0, 1 ]]\n",
    "\n"
   ]
  },
  {
   "cell_type": "markdown",
   "id": "1a1a4af8-36ed-44b8-ab55-87bf929e1359",
   "metadata": {},
   "source": [
    "5. Replace all negative numbers with the NaN value. You may need to change data type."
   ]
  },
  {
   "cell_type": "code",
   "execution_count": 11,
   "id": "52941bbb-4fa2-414c-a131-798a84c58f9a",
   "metadata": {},
   "outputs": [
    {
     "data": {
      "text/plain": [
       "array([[10., nan,  8., nan,  6., nan,  4., nan,  2., nan,  0.,  1., nan,\n",
       "         3., nan,  5.],\n",
       "       [nan,  7., nan,  9., nan, 11., nan, 13., nan, 15., nan, 17., nan,\n",
       "        19., nan, 21.],\n",
       "       [nan, 23., nan, 25., nan, 27., nan, 29., nan, 31., nan, 33., nan,\n",
       "        35., nan, 37.],\n",
       "       [nan, 39., nan, 41., nan, 43., nan, 45., nan, 47., nan, 49., nan,\n",
       "        51., nan, 53.]], dtype=float16)"
      ]
     },
     "execution_count": 11,
     "metadata": {},
     "output_type": "execute_result"
    }
   ],
   "source": [
    "# Step 5 Solution\n",
    "\n",
    "arr = arr.astype('float16')\n",
    "\n",
    "arr[arr < 0] = np.nan\n",
    "\n",
    "arr"
   ]
  },
  {
   "cell_type": "markdown",
   "id": "7bc24e5a-25cf-4bb6-b6a5-e0b7f87d904d",
   "metadata": {},
   "source": [
    "6. Transform the 2d array into a 1d array. Drop all of the NaN values."
   ]
  },
  {
   "cell_type": "code",
   "execution_count": 12,
   "id": "16672891-38f9-49e6-b007-97f2056f95de",
   "metadata": {},
   "outputs": [
    {
     "data": {
      "text/plain": [
       "array([10.,  8.,  6.,  4.,  2.,  0.,  1.,  3.,  5.,  7.,  9., 11., 13.,\n",
       "       15., 17., 19., 21., 23., 25., 27., 29., 31., 33., 35., 37., 39.,\n",
       "       41., 43., 45., 47., 49., 51., 53.], dtype=float16)"
      ]
     },
     "execution_count": 12,
     "metadata": {},
     "output_type": "execute_result"
    }
   ],
   "source": [
    "# Step 6 Solution\n",
    "\n",
    "arr[~(np.isnan(arr))]"
   ]
  },
  {
   "cell_type": "code",
   "execution_count": null,
   "id": "f633b670-0329-46e3-9a21-07d084d60ac7",
   "metadata": {},
   "outputs": [],
   "source": []
  }
 ],
 "metadata": {
  "kernelspec": {
   "display_name": "Python 3",
   "language": "python",
   "name": "python3"
  },
  "language_info": {
   "codemirror_mode": {
    "name": "ipython",
    "version": 3
   },
   "file_extension": ".py",
   "mimetype": "text/x-python",
   "name": "python",
   "nbconvert_exporter": "python",
   "pygments_lexer": "ipython3",
   "version": "3.9.5"
  }
 },
 "nbformat": 4,
 "nbformat_minor": 5
}

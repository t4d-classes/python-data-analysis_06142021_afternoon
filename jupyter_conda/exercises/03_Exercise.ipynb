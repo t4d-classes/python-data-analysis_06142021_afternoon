{
 "cells": [
  {
   "cell_type": "markdown",
   "id": "208944c2-efa0-4d81-b92c-ea133e724eb4",
   "metadata": {},
   "source": [
    "# Exercise #3"
   ]
  },
  {
   "cell_type": "markdown",
   "id": "a175ba2f-7361-452e-88c7-911dac1a2519",
   "metadata": {},
   "source": [
    "Step 1. Use the Python Standard Library to read the currency data for 2019 from the \"eurofxref-hist.csv\". Create a new NumPy Array from the loaded currency data. The array should only contain the following columns: USD, CAD, JPY, and the RUB. Display the array."
   ]
  },
  {
   "cell_type": "code",
   "execution_count": 1,
   "id": "e47e02d4-c3a5-4cf1-bf0b-1b75b1469b72",
   "metadata": {},
   "outputs": [
    {
     "name": "stdout",
     "output_type": "stream",
     "text": [
      "(255, 4)\n"
     ]
    }
   ],
   "source": [
    "# Step 1 Solution\n",
    "\n",
    "import csv\n",
    "import numpy as np\n",
    "\n",
    "data = []\n",
    "\n",
    "with open(\"data/eurofxref-hist.csv\") as csv_file:\n",
    "    csv_reader = csv.DictReader(csv_file)\n",
    "    for row in csv_reader:\n",
    "        data.append(row)\n",
    "        \n",
    "rates = []\n",
    "\n",
    "for row in data:\n",
    "    \n",
    "    if (row['Date'].startswith('2019')):\n",
    "        rates.append([ float(row['USD']), float(row['CAD']), float(row['JPY']), float(row['RUB']) ])\n",
    "\n",
    "rates = np.array(rates)\n",
    "\n",
    "print(rates.shape)"
   ]
  },
  {
   "cell_type": "markdown",
   "id": "93d26cb9-b5fe-4551-ac23-36b8b80338fb",
   "metadata": {},
   "source": [
    "Step 2. Calculate the population min, max, range, mean, median, mode, standard deviation, and variance."
   ]
  },
  {
   "cell_type": "code",
   "execution_count": 2,
   "id": "de771389-4845-426e-b246-c4fff0826501",
   "metadata": {},
   "outputs": [
    {
     "name": "stdout",
     "output_type": "stream",
     "text": [
      "Population Stats for USD\n",
      "\n",
      "Max: 1.1535\n",
      "Min: 1.0889\n",
      "Range: 0.06459999999999999\n",
      "Mean: 1.1194745098039216\n",
      "Median: 1.1193\n",
      "Mode: 1.1075\n",
      "StdDev: 0.013633785070476334\n",
      "Variance: 0.00018588009534794336\n",
      "\n",
      "\n",
      "\n",
      "Population Stats for CAD\n",
      "\n",
      "Max: 1.5547\n",
      "Min: 1.4426\n",
      "Range: 0.11209999999999987\n",
      "Mean: 1.4854772549019608\n",
      "Median: 1.4874\n",
      "Mode: 1.4588\n",
      "StdDev: 0.022967216881632963\n",
      "Variance: 0.0005274930512879663\n",
      "\n",
      "\n",
      "\n",
      "Population Stats for JPY\n",
      "\n",
      "Max: 127.35\n",
      "Min: 116.05\n",
      "Range: 11.299999999999997\n",
      "Mean: 122.00576470588234\n",
      "Median: 121.9\n",
      "Mode: 124.45\n",
      "StdDev: 2.7151395630054567\n",
      "Variance: 7.3719828465974615\n",
      "\n",
      "\n",
      "\n",
      "Population Stats for RUB\n",
      "\n",
      "Max: 79.3589\n",
      "Min: 68.7932\n",
      "Range: 10.565700000000007\n",
      "Mean: 72.45533803921569\n",
      "Median: 72.21\n",
      "Mode: 70.5328\n",
      "StdDev: 1.890165255396967\n",
      "Variance: 3.572724692709882\n",
      "\n",
      "\n",
      "\n"
     ]
    }
   ],
   "source": [
    "# Step 2 Solution\n",
    "\n",
    "import statistics as stats2\n",
    "from scipy import stats\n",
    "\n",
    "currencies = [ \"USD\", \"CAD\", \"JPY\", \"RUB\" ]\n",
    "\n",
    "for index, currency in enumerate(currencies):\n",
    "    \n",
    "    print(\"Population Stats for \" + currency + \"\\n\")\n",
    "    \n",
    "    cur_rates = rates[:, index]\n",
    "    \n",
    "    max_rate = cur_rates.max()\n",
    "    min_rate = cur_rates.min()\n",
    "    \n",
    "    print(\"Max: \" + str(max_rate))\n",
    "    print(\"Min: \" + str(min_rate))\n",
    "    print(\"Range: \" + str(max_rate - min_rate))\n",
    "    print(\"Mean: \" + str(cur_rates.mean()))\n",
    "    print(\"Median: \" + str(np.median(cur_rates)))\n",
    "    print(\"Mode: \" + str(stats2.mode(cur_rates)))\n",
    "    print(\"StdDev: \" + str(stats2.pstdev(cur_rates)))\n",
    "    print(\"Variance: \" + str(stats2.pvariance(cur_rates)))    \n",
    "    print(\"\\n\\n\")"
   ]
  },
  {
   "cell_type": "markdown",
   "id": "c20bafd7-3892-48d3-87f0-463c51f76d34",
   "metadata": {},
   "source": [
    "Step 3. Select a random sample size of 30 for each currency. Calculate the sample min, max, range, mean, median, mode, standard deviation, and variance."
   ]
  },
  {
   "cell_type": "code",
   "execution_count": 3,
   "id": "6c503de3-09d9-4425-8129-3fce7d630806",
   "metadata": {},
   "outputs": [
    {
     "name": "stdout",
     "output_type": "stream",
     "text": [
      "Sample Stats for USD\n",
      "\n",
      "Max: 1.1488\n",
      "Min: 1.103\n",
      "Range: 0.04580000000000006\n",
      "Mean: 1.1220033333333332\n",
      "Median: 1.1218\n",
      "Mode: 1.1325\n",
      "StdDev: 0.012368494474088427\n",
      "Variance: 0.00015297965555555594\n",
      "\n",
      "\n",
      "\n",
      "Sample Stats for CAD\n",
      "\n",
      "Max: 1.5204\n",
      "Min: 1.4545\n",
      "Range: 0.06590000000000007\n",
      "Mean: 1.4924566666666668\n",
      "Median: 1.504\n",
      "Mode: 1.5204\n",
      "StdDev: 0.022552836973550698\n",
      "Variance: 0.0005086304555555553\n",
      "\n",
      "\n",
      "\n",
      "Sample Stats for JPY\n",
      "\n",
      "Max: 126.59\n",
      "Min: 118.37\n",
      "Range: 8.219999999999999\n",
      "Mean: 122.70533333333331\n",
      "Median: 124.035\n",
      "Mode: 124.65\n",
      "StdDev: 2.499202183808976\n",
      "Variance: 6.246011555555555\n",
      "\n",
      "\n",
      "\n",
      "Sample Stats for RUB\n",
      "\n",
      "Max: 75.9175\n",
      "Min: 69.0297\n",
      "Range: 6.887799999999999\n",
      "Mean: 72.76866666666666\n",
      "Median: 73.11885000000001\n",
      "Mode: 72.7646\n",
      "StdDev: 1.6548972341373824\n",
      "Variance: 2.738684855555558\n",
      "\n",
      "\n",
      "\n"
     ]
    }
   ],
   "source": [
    "# Step 3 Solution\n",
    "\n",
    "sample_rates_indexes = np.random.choice(np.arange(rates.shape[0]), size=30)\n",
    "sample_rates = rates[sample_rates_indexes] # rates[ [1,4,7,8] ]\n",
    "\n",
    "for index, currency in enumerate(currencies):\n",
    "    \n",
    "    print(\"Sample Stats for \" + currency + \"\\n\")\n",
    "    \n",
    "    cur_rates = sample_rates[:, index]\n",
    "    \n",
    "    max_rate = cur_rates.max()\n",
    "    min_rate = cur_rates.min()\n",
    "    \n",
    "    print(\"Max: \" + str(max_rate))\n",
    "    print(\"Min: \" + str(min_rate))\n",
    "    print(\"Range: \" + str(max_rate - min_rate))\n",
    "    print(\"Mean: \" + str(cur_rates.mean()))\n",
    "    print(\"Median: \" + str(np.median(cur_rates)))\n",
    "    print(\"Mode: \" + str(stats2.mode(cur_rates)))\n",
    "    print(\"StdDev: \" + str(stats2.pstdev(cur_rates)))\n",
    "    print(\"Variance: \" + str(stats2.pvariance(cur_rates)))    \n",
    "    print(\"\\n\\n\")"
   ]
  },
  {
   "cell_type": "markdown",
   "id": "75a6b12e-59a6-4995-abe2-02bd5719292f",
   "metadata": {},
   "source": [
    "Step 4. Generate a boxplot for the population of each currency."
   ]
  },
  {
   "cell_type": "code",
   "execution_count": 4,
   "id": "636b9df3-b72e-48ac-aaba-16afa5a632f2",
   "metadata": {},
   "outputs": [
    {
     "data": {
      "image/png": "[encoded data removed]",
      "text/plain": [
       "<Figure size 432x288 with 1 Axes>"
      ]
     },
     "metadata": {
      "needs_background": "light"
     },
     "output_type": "display_data"
    },
    {
     "data": {
      "image/png": "[encoded data removed]",
      "text/plain": [
       "<Figure size 432x288 with 1 Axes>"
      ]
     },
     "metadata": {
      "needs_background": "light"
     },
     "output_type": "display_data"
    }
   ],
   "source": [
    "# Step 4 Solution\n",
    "\n",
    "from matplotlib import pyplot as plt\n",
    "\n",
    "%matplotlib inline\n",
    "\n",
    "plt.title(\"Currency Rate Changes for 2019\")\n",
    "plt.xlabel(\"Currency\")\n",
    "plt.ylabel(\"Rates\")\n",
    "\n",
    "plt.boxplot(rates[:, :2], labels=currencies[:2])\n",
    "plt.show()\n",
    "\n",
    "plt.title(\"Currency Rate Changes for 2019\")\n",
    "plt.xlabel(\"Currency\")\n",
    "plt.ylabel(\"Rates\")\n",
    "\n",
    "plt.boxplot(rates[:, 2:], labels=currencies[2:])\n",
    "plt.show()"
   ]
  },
  {
   "cell_type": "code",
   "execution_count": null,
   "id": "6515d38a-db22-4d66-a127-69b3e6498f1d",
   "metadata": {},
   "outputs": [],
   "source": []
  }
 ],
 "metadata": {
  "kernelspec": {
   "display_name": "Python 3",
   "language": "python",
   "name": "python3"
  },
  "language_info": {
   "codemirror_mode": {
    "name": "ipython",
    "version": 3
   },
   "file_extension": ".py",
   "mimetype": "text/x-python",
   "name": "python",
   "nbconvert_exporter": "python",
   "pygments_lexer": "ipython3",
   "version": "3.9.5"
  }
 },
 "nbformat": 4,
 "nbformat_minor": 5
}

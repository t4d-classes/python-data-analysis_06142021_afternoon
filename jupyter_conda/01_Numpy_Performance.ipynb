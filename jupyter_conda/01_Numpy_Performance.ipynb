{
 "cells": [
  {
   "cell_type": "markdown",
   "id": "ba1d88eb-a90b-46a5-9c6c-4c23ea79826c",
   "metadata": {},
   "source": [
    "# Performance"
   ]
  },
  {
   "cell_type": "code",
   "execution_count": 1,
   "id": "a2e8e1fe-de14-4a25-aed7-6d16045e2a6f",
   "metadata": {},
   "outputs": [],
   "source": [
    "import sys\n",
    "import numpy as np\n",
    "\n",
    "item_count = 50000000"
   ]
  },
  {
   "cell_type": "code",
   "execution_count": 5,
   "id": "fe7887b7-99d1-451b-ae9d-80189f42c31f",
   "metadata": {},
   "outputs": [
    {
     "name": "stdout",
     "output_type": "stream",
     "text": [
      "100000000\n",
      "411.943896\n",
      "Wall time: 6.25 s\n"
     ]
    }
   ],
   "source": [
    "%%time\n",
    "\n",
    "nums_list = [ 1 for _ in range(item_count) ]\n",
    "\n",
    "double_nums_list = [ x * 2 for x in nums_list ]\n",
    "\n",
    "double_nums_list_sum = sum(double_nums_list)\n",
    "\n",
    "print(double_nums_list_sum)\n",
    "print(sys.getsizeof(double_nums_list) / 1000000)"
   ]
  },
  {
   "cell_type": "code",
   "execution_count": 4,
   "id": "ac270300-d40a-4c24-81c5-9018147ff7fb",
   "metadata": {},
   "outputs": [
    {
     "name": "stdout",
     "output_type": "stream",
     "text": [
      "100000000\n",
      "50.0\n",
      "Wall time: 127 ms\n"
     ]
    }
   ],
   "source": [
    "%%time\n",
    "\n",
    "nums_arr = np.ones(item_count, dtype=\"int8\")\n",
    "\n",
    "double_nums_arr = nums_arr * 2\n",
    "\n",
    "double_nums_arr_sum = np.sum(double_nums_arr)\n",
    "\n",
    "print(double_nums_arr_sum)\n",
    "print(double_nums_arr.nbytes / 1000000)"
   ]
  },
  {
   "cell_type": "code",
   "execution_count": 7,
   "id": "c771ff8f-bdda-47ef-b328-cc74584e4820",
   "metadata": {},
   "outputs": [
    {
     "name": "stdout",
     "output_type": "stream",
     "text": [
      "100000000.0\n",
      "float64\n",
      "400.0\n",
      "Wall time: 614 ms\n"
     ]
    }
   ],
   "source": [
    "%%time\n",
    "\n",
    "nums_arr = np.ones(item_count)\n",
    "\n",
    "double_nums_arr = nums_arr * 2\n",
    "\n",
    "double_nums_arr_sum = np.sum(double_nums_arr)\n",
    "\n",
    "print(double_nums_arr_sum)\n",
    "print(double_nums_arr.dtype)\n",
    "print(double_nums_arr.nbytes / 1000000)"
   ]
  },
  {
   "cell_type": "code",
   "execution_count": 9,
   "id": "cc146529-992f-4ad3-9852-6c2e13831d63",
   "metadata": {},
   "outputs": [
    {
     "name": "stdout",
     "output_type": "stream",
     "text": [
      "100000000\n",
      "int64\n",
      "400.0\n",
      "Wall time: 565 ms\n"
     ]
    }
   ],
   "source": [
    "%%time\n",
    "\n",
    "nums_arr = np.ones(item_count, dtype=\"int64\")\n",
    "\n",
    "double_nums_arr = nums_arr * 2\n",
    "\n",
    "double_nums_arr_sum = np.sum(double_nums_arr)\n",
    "\n",
    "print(double_nums_arr_sum)\n",
    "print(double_nums_arr.dtype)\n",
    "print(double_nums_arr.nbytes / 1000000)"
   ]
  },
  {
   "cell_type": "code",
   "execution_count": 13,
   "id": "4ae196f7-6a54-4202-b2df-d60323b1a7bc",
   "metadata": {},
   "outputs": [
    {
     "name": "stdout",
     "output_type": "stream",
     "text": [
      "100000000\n",
      "int32\n",
      "200.0\n",
      "Wall time: 152 ms\n"
     ]
    }
   ],
   "source": [
    "%%time\n",
    "\n",
    "nums_arr = np.ones(item_count, dtype=int)\n",
    "\n",
    "double_nums_arr = nums_arr * 2\n",
    "\n",
    "double_nums_arr_sum = np.sum(double_nums_arr)\n",
    "\n",
    "print(double_nums_arr_sum)\n",
    "print(double_nums_arr.dtype)\n",
    "print(double_nums_arr.nbytes / 1000000)"
   ]
  },
  {
   "cell_type": "code",
   "execution_count": 12,
   "id": "cb7a89ac-c0cb-41ac-94c4-76f6b02a1327",
   "metadata": {},
   "outputs": [
    {
     "name": "stdout",
     "output_type": "stream",
     "text": [
      "100000000\n",
      "int16\n",
      "100.0\n",
      "Wall time: 162 ms\n"
     ]
    }
   ],
   "source": [
    "%%time\n",
    "\n",
    "nums_arr = np.ones(item_count, dtype=np.int16)\n",
    "\n",
    "double_nums_arr = nums_arr * 2\n",
    "\n",
    "double_nums_arr_sum = np.sum(double_nums_arr)\n",
    "\n",
    "print(double_nums_arr_sum)\n",
    "print(double_nums_arr.dtype)\n",
    "print(double_nums_arr.nbytes / 1000000)"
   ]
  },
  {
   "cell_type": "code",
   "execution_count": null,
   "id": "a12c40ac-2523-4d97-8038-804118fc5078",
   "metadata": {},
   "outputs": [],
   "source": []
  }
 ],
 "metadata": {
  "kernelspec": {
   "display_name": "Python 3",
   "language": "python",
   "name": "python3"
  },
  "language_info": {
   "codemirror_mode": {
    "name": "ipython",
    "version": 3
   },
   "file_extension": ".py",
   "mimetype": "text/x-python",
   "name": "python",
   "nbconvert_exporter": "python",
   "pygments_lexer": "ipython3",
   "version": "3.9.5"
  }
 },
 "nbformat": 4,
 "nbformat_minor": 5
}

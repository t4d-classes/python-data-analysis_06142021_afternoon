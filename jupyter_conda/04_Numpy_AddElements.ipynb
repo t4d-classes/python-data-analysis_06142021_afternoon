{
 "cells": [
  {
   "cell_type": "markdown",
   "id": "3b3c0974-8be4-4324-8d03-ed07aba970f1",
   "metadata": {},
   "source": [
    "# NumPy Add Elements"
   ]
  },
  {
   "cell_type": "code",
   "execution_count": 1,
   "id": "318f4a3c-1998-4154-9e4a-4d2e5b20a9e4",
   "metadata": {},
   "outputs": [],
   "source": [
    "import numpy as np"
   ]
  },
  {
   "cell_type": "code",
   "execution_count": 2,
   "id": "d16e5941-f7aa-4441-a88e-489e02c51cb8",
   "metadata": {},
   "outputs": [
    {
     "data": {
      "text/plain": [
       "array([0, 1, 2, 3, 4])"
      ]
     },
     "execution_count": 2,
     "metadata": {},
     "output_type": "execute_result"
    }
   ],
   "source": [
    "nums = np.arange(5)\n",
    "\n",
    "nums"
   ]
  },
  {
   "cell_type": "markdown",
   "id": "e3d1dc5d-1998-4d6f-92ed-a0ed13de74eb",
   "metadata": {},
   "source": [
    "## Append Item to Array"
   ]
  },
  {
   "cell_type": "code",
   "execution_count": 4,
   "id": "0a09a233-fe6a-4c6f-a4a4-dbca64d65a12",
   "metadata": {},
   "outputs": [
    {
     "name": "stdout",
     "output_type": "stream",
     "text": [
      "[0 1 2 3 4]\n",
      "[0 1 2 3 4 5]\n"
     ]
    }
   ],
   "source": [
    "new_nums = np.append(nums, 5)\n",
    "\n",
    "print(nums)\n",
    "print(new_nums)"
   ]
  },
  {
   "cell_type": "markdown",
   "id": "00b1a2f7-1867-420a-b4ab-54a3af1c05e6",
   "metadata": {},
   "source": [
    "## Combine Lists/Arrays into a new Array"
   ]
  },
  {
   "cell_type": "code",
   "execution_count": 5,
   "id": "6a1eee67-940b-4bb8-8984-b6c009abde95",
   "metadata": {},
   "outputs": [
    {
     "name": "stdout",
     "output_type": "stream",
     "text": [
      "[ 0  1  2  3  4  5  6  7  8  9 10]\n"
     ]
    }
   ],
   "source": [
    "new_nums = np.concatenate([ nums, [5,6], [7], [8,9,10]])\n",
    "\n",
    "print(new_nums)"
   ]
  },
  {
   "cell_type": "code",
   "execution_count": 7,
   "id": "843b0c40-f0b3-44bf-9b9a-b06930c25708",
   "metadata": {},
   "outputs": [
    {
     "data": {
      "text/plain": [
       "array([ 5,  6,  7,  8,  9, 10])"
      ]
     },
     "execution_count": 7,
     "metadata": {},
     "output_type": "execute_result"
    }
   ],
   "source": [
    "np.concatenate([ [5,6], [7], [8,9,10] ])"
   ]
  },
  {
   "cell_type": "code",
   "execution_count": 13,
   "id": "c8d34574-ea1b-42f4-ae18-38529da66ce2",
   "metadata": {},
   "outputs": [
    {
     "data": {
      "text/plain": [
       "array([[ 5,  6,  9],\n",
       "       [ 7,  1,  2],\n",
       "       [ 8,  9, 10]])"
      ]
     },
     "execution_count": 13,
     "metadata": {},
     "output_type": "execute_result"
    }
   ],
   "source": [
    "np.concatenate([ [[5,6,9]], [[7,1,2]], [[8,9,10]] ], axis=0)"
   ]
  },
  {
   "cell_type": "code",
   "execution_count": 10,
   "id": "a5a2d852-787f-40b9-ba02-727c60cf54d5",
   "metadata": {},
   "outputs": [
    {
     "data": {
      "text/plain": [
       "array([[ 5,  6,  7,  8,  9, 10]])"
      ]
     },
     "execution_count": 10,
     "metadata": {},
     "output_type": "execute_result"
    }
   ],
   "source": [
    "np.concatenate([ [[5,6]], [[7]], [[8,9,10]] ], axis=1)"
   ]
  },
  {
   "cell_type": "markdown",
   "id": "01bf6153-b1b4-4366-8975-f75e7f482b03",
   "metadata": {},
   "source": [
    "## Insert an Item into an Array"
   ]
  },
  {
   "cell_type": "code",
   "execution_count": 15,
   "id": "a418462c-9c3f-402d-b76a-2ec215db9950",
   "metadata": {},
   "outputs": [
    {
     "name": "stdout",
     "output_type": "stream",
     "text": [
      "[0 1 2 3 4]\n",
      "[0 1 9 2 3 4]\n"
     ]
    }
   ],
   "source": [
    "new_nums = np.insert(nums, 2, 9)\n",
    "\n",
    "print(nums)\n",
    "print(new_nums)"
   ]
  },
  {
   "cell_type": "code",
   "execution_count": 17,
   "id": "51a8c494-4f1d-4fd4-9774-b8ebd4a29fad",
   "metadata": {},
   "outputs": [
    {
     "data": {
      "text/plain": [
       "array([[ 5,  6,  9],\n",
       "       [ 7,  1,  2],\n",
       "       [ 8,  9, 10]])"
      ]
     },
     "execution_count": 17,
     "metadata": {},
     "output_type": "execute_result"
    }
   ],
   "source": [
    "matrix = np.concatenate([ [[5,6,9]], [[7,1,2]], [[8,9,10]] ], axis=0)\n",
    "\n",
    "matrix"
   ]
  },
  {
   "cell_type": "code",
   "execution_count": 18,
   "id": "d1fc8c2a-25a9-4591-b71b-59d885ff5fa8",
   "metadata": {},
   "outputs": [
    {
     "data": {
      "text/plain": [
       "array([ 5,  9,  6,  9,  7,  1,  2,  8,  9, 10])"
      ]
     },
     "execution_count": 18,
     "metadata": {},
     "output_type": "execute_result"
    }
   ],
   "source": [
    "np.insert(matrix, 1, 9)"
   ]
  },
  {
   "cell_type": "code",
   "execution_count": 19,
   "id": "91dbfb13-f5a5-47e7-a90f-8874abf2e0e7",
   "metadata": {},
   "outputs": [
    {
     "data": {
      "text/plain": [
       "array([ 5,  7,  7,  7,  6,  9,  7,  1,  2,  8,  9, 10])"
      ]
     },
     "execution_count": 19,
     "metadata": {},
     "output_type": "execute_result"
    }
   ],
   "source": [
    "np.insert(matrix, 1, [7,7,7])"
   ]
  },
  {
   "cell_type": "code",
   "execution_count": 21,
   "id": "a084d18d-a77e-4937-a0fe-d2e1f3ed628e",
   "metadata": {},
   "outputs": [
    {
     "data": {
      "text/plain": [
       "array([[ 5,  6,  9],\n",
       "       [ 7,  7,  7],\n",
       "       [ 7,  1,  2],\n",
       "       [ 8,  9, 10]])"
      ]
     },
     "execution_count": 21,
     "metadata": {},
     "output_type": "execute_result"
    }
   ],
   "source": [
    "np.insert(matrix, 1, [7,7,7], axis=0)"
   ]
  },
  {
   "cell_type": "code",
   "execution_count": 22,
   "id": "9aff7c94-bc26-42ce-a508-57eaab7f92b8",
   "metadata": {},
   "outputs": [
    {
     "data": {
      "text/plain": [
       "array([[ 5,  7,  6,  9],\n",
       "       [ 7,  7,  1,  2],\n",
       "       [ 8,  7,  9, 10]])"
      ]
     },
     "execution_count": 22,
     "metadata": {},
     "output_type": "execute_result"
    }
   ],
   "source": [
    "np.insert(matrix, 1, [7,7,7], axis=1)"
   ]
  },
  {
   "cell_type": "code",
   "execution_count": null,
   "id": "b4ddd355-a58f-4d36-abf1-c1c876f689ca",
   "metadata": {},
   "outputs": [],
   "source": []
  }
 ],
 "metadata": {
  "kernelspec": {
   "display_name": "Python 3",
   "language": "python",
   "name": "python3"
  },
  "language_info": {
   "codemirror_mode": {
    "name": "ipython",
    "version": 3
   },
   "file_extension": ".py",
   "mimetype": "text/x-python",
   "name": "python",
   "nbconvert_exporter": "python",
   "pygments_lexer": "ipython3",
   "version": "3.9.5"
  }
 },
 "nbformat": 4,
 "nbformat_minor": 5
}

{
 "cells": [
  {
   "cell_type": "markdown",
   "id": "a49a0cb5-eace-4bd7-ac4a-a3394adde334",
   "metadata": {},
   "source": [
    "# Create NumPy Arrays"
   ]
  },
  {
   "cell_type": "code",
   "execution_count": 33,
   "id": "e578e8a7-7414-4104-936b-5f1dc7ae8781",
   "metadata": {},
   "outputs": [],
   "source": [
    "from matplotlib import pyplot as plt\n",
    "import numpy as np\n",
    "\n",
    "%matplotlib inline"
   ]
  },
  {
   "cell_type": "markdown",
   "id": "a7bdee90-9d29-4082-9ce3-bfc47c1c05ef",
   "metadata": {},
   "source": [
    "## Create NumPy Array from a Python List"
   ]
  },
  {
   "cell_type": "code",
   "execution_count": 2,
   "id": "309a6b21-e51c-48f2-8517-87a9c40a2fca",
   "metadata": {},
   "outputs": [
    {
     "name": "stdout",
     "output_type": "stream",
     "text": [
      "[1, 2, 3, 4, 5]\n",
      "[1 2 3 4 5]\n",
      "<class 'list'>\n",
      "<class 'numpy.ndarray'>\n"
     ]
    }
   ],
   "source": [
    "nums_list = [1,2,3,4,5]\n",
    "\n",
    "nums_arr = np.array(nums_list, dtype=\"int16\")\n",
    "\n",
    "print(nums_list)\n",
    "print(nums_arr)\n",
    "\n",
    "print(type(nums_list))\n",
    "print(type(nums_arr))"
   ]
  },
  {
   "cell_type": "markdown",
   "id": "17e83c44-bcd8-4259-9e19-0dcd2241d4bb",
   "metadata": {},
   "source": [
    "## NumPy Array Attributes"
   ]
  },
  {
   "cell_type": "code",
   "execution_count": 3,
   "id": "c6bf9fa9-d625-4e3f-8963-ffab39c6d44a",
   "metadata": {},
   "outputs": [
    {
     "name": "stdout",
     "output_type": "stream",
     "text": [
      "int16\n",
      "1\n",
      "(5,)\n",
      "5\n"
     ]
    }
   ],
   "source": [
    "print(nums_arr.dtype)\n",
    "print(nums_arr.ndim)\n",
    "print(nums_arr.shape)\n",
    "print(nums_arr.size)"
   ]
  },
  {
   "cell_type": "markdown",
   "id": "7f64ab01-d46d-453c-9013-f1f86090ff1a",
   "metadata": {},
   "source": [
    "## NumPy Array Memory"
   ]
  },
  {
   "cell_type": "code",
   "execution_count": 4,
   "id": "73feb5df-30dd-4923-8263-f301fd81e730",
   "metadata": {},
   "outputs": [
    {
     "name": "stdout",
     "output_type": "stream",
     "text": [
      "2\n",
      "5\n",
      "10\n",
      "10\n"
     ]
    }
   ],
   "source": [
    "print(nums_arr.itemsize)\n",
    "print(nums_arr.size)\n",
    "print(nums_arr.itemsize * nums_arr.size)\n",
    "print(nums_arr.nbytes)"
   ]
  },
  {
   "cell_type": "markdown",
   "id": "1004e5bf-872e-471a-b481-feb0df0f85f5",
   "metadata": {},
   "source": [
    "## Multi-Dimensional Arrays"
   ]
  },
  {
   "cell_type": "code",
   "execution_count": 5,
   "id": "42b0e707-8d17-4820-a22f-a1e08bcf21cf",
   "metadata": {},
   "outputs": [
    {
     "name": "stdout",
     "output_type": "stream",
     "text": [
      "[[[1 2 3]\n",
      "  [4 5 6]]\n",
      "\n",
      " [[1 2 3]\n",
      "  [4 5 6]]]\n"
     ]
    }
   ],
   "source": [
    "nums_list = [ [ [1,2,3], [4,5,6] ], [ [1,2,3], [4,5,6] ] ]\n",
    "\n",
    "nums_arr = np.array(nums_list, dtype=np.int16)\n",
    "\n",
    "print(nums_arr)"
   ]
  },
  {
   "cell_type": "code",
   "execution_count": 6,
   "id": "a69165ad-02f6-451a-9d1f-9ab2427263b4",
   "metadata": {},
   "outputs": [
    {
     "name": "stdout",
     "output_type": "stream",
     "text": [
      "int16\n",
      "3\n",
      "(2, 2, 3)\n",
      "12\n"
     ]
    }
   ],
   "source": [
    "print(nums_arr.dtype)\n",
    "print(nums_arr.ndim)\n",
    "print(nums_arr.shape)\n",
    "print(nums_arr.size)"
   ]
  },
  {
   "cell_type": "code",
   "execution_count": 7,
   "id": "e3203ebb-f0d5-441b-93d0-07e3cddefca3",
   "metadata": {},
   "outputs": [
    {
     "name": "stdout",
     "output_type": "stream",
     "text": [
      "2\n",
      "12\n",
      "24\n",
      "24\n"
     ]
    }
   ],
   "source": [
    "print(nums_arr.itemsize)\n",
    "print(nums_arr.size)\n",
    "print(nums_arr.itemsize * nums_arr.size)\n",
    "print(nums_arr.nbytes)"
   ]
  },
  {
   "cell_type": "markdown",
   "id": "f639640e-1b12-4660-95a5-e22518ca9827",
   "metadata": {},
   "source": [
    "## Array of Floats"
   ]
  },
  {
   "cell_type": "code",
   "execution_count": 8,
   "id": "8e963c66-f4af-4830-b1ab-49fa464bc114",
   "metadata": {},
   "outputs": [
    {
     "name": "stdout",
     "output_type": "stream",
     "text": [
      "[1. 2. 3. 4. 5.]\n",
      "float64\n"
     ]
    }
   ],
   "source": [
    "nums_list = [1.,2.,3.,4.,5.]\n",
    "\n",
    "nums_arr = np.array(nums_list)\n",
    "\n",
    "print(nums_arr)\n",
    "print(nums_arr.dtype)"
   ]
  },
  {
   "cell_type": "markdown",
   "id": "cfc11b9c-2893-440b-933d-ba2a710cda8f",
   "metadata": {},
   "source": [
    "## Create Arrays Filled with Numbers"
   ]
  },
  {
   "cell_type": "code",
   "execution_count": 9,
   "id": "97afee60-b81f-42cc-bd2b-f59edc445cf2",
   "metadata": {},
   "outputs": [
    {
     "name": "stdout",
     "output_type": "stream",
     "text": [
      "[0, 1, 2, 3, 4, 5, 6, 7, 8, 9]\n"
     ]
    }
   ],
   "source": [
    "nums_list = list(range(10))\n",
    "\n",
    "print(nums_list)"
   ]
  },
  {
   "cell_type": "code",
   "execution_count": 10,
   "id": "0a70d2f7-8a85-4636-87fd-c5ca6d76da51",
   "metadata": {},
   "outputs": [
    {
     "name": "stdout",
     "output_type": "stream",
     "text": [
      "[0 1 2 3 4 5 6 7 8 9]\n"
     ]
    }
   ],
   "source": [
    "nums_arr = np.arange(10)\n",
    "print(nums_arr)"
   ]
  },
  {
   "cell_type": "code",
   "execution_count": 11,
   "id": "6911b56b-fd71-4a1e-b0a7-3229540a7777",
   "metadata": {},
   "outputs": [
    {
     "name": "stdout",
     "output_type": "stream",
     "text": [
      "[10 11 12 13 14 15 16 17 18 19]\n"
     ]
    }
   ],
   "source": [
    "nums_arr = np.arange(10, 20)\n",
    "print(nums_arr)"
   ]
  },
  {
   "cell_type": "code",
   "execution_count": 12,
   "id": "998d7820-e39f-4871-82a3-3be1e084603a",
   "metadata": {},
   "outputs": [
    {
     "name": "stdout",
     "output_type": "stream",
     "text": [
      "[ 0 10 20 30 40 50 60 70 80 90]\n"
     ]
    }
   ],
   "source": [
    "nums_arr = np.arange(100, step=10)\n",
    "print(nums_arr)"
   ]
  },
  {
   "cell_type": "code",
   "execution_count": 13,
   "id": "c52becec-aa97-41e8-9526-b3e158ef7124",
   "metadata": {},
   "outputs": [
    {
     "name": "stdout",
     "output_type": "stream",
     "text": [
      "[ 0. 10. 20. 30. 40. 50. 60. 70. 80. 90.]\n"
     ]
    }
   ],
   "source": [
    "nums_arr = np.arange(100., step=10)\n",
    "print(nums_arr)"
   ]
  },
  {
   "cell_type": "code",
   "execution_count": 14,
   "id": "7692ffa7-5026-4401-9c92-d4cda7eb4557",
   "metadata": {},
   "outputs": [
    {
     "name": "stdout",
     "output_type": "stream",
     "text": [
      "[ 0 10 20 30 40 50 60 70 80 90]\n"
     ]
    }
   ],
   "source": [
    "nums_arr = np.arange(100, step=10, dtype=np.int8)\n",
    "print(nums_arr)"
   ]
  },
  {
   "cell_type": "code",
   "execution_count": 15,
   "id": "cae77b00-bc95-4ec9-9d2b-00acf51975d7",
   "metadata": {},
   "outputs": [
    {
     "name": "stdout",
     "output_type": "stream",
     "text": [
      "[ 0.          0.52631579  1.05263158  1.57894737  2.10526316  2.63157895\n",
      "  3.15789474  3.68421053  4.21052632  4.73684211  5.26315789  5.78947368\n",
      "  6.31578947  6.84210526  7.36842105  7.89473684  8.42105263  8.94736842\n",
      "  9.47368421 10.        ]\n"
     ]
    }
   ],
   "source": [
    "nums_arr = np.linspace(0, 10, num=20)\n",
    "print(nums_arr)"
   ]
  },
  {
   "cell_type": "code",
   "execution_count": 16,
   "id": "831a9d9f-a9fe-416b-b724-27e1b70ef9f4",
   "metadata": {},
   "outputs": [
    {
     "data": {
      "text/plain": [
       "array([1, 1, 1, 1, 1], dtype=int8)"
      ]
     },
     "execution_count": 16,
     "metadata": {},
     "output_type": "execute_result"
    }
   ],
   "source": [
    "x = np.ones(5, dtype=np.int8)\n",
    "x"
   ]
  },
  {
   "cell_type": "code",
   "execution_count": 17,
   "id": "d44d1d77-4965-4494-9290-31793ff73c78",
   "metadata": {},
   "outputs": [
    {
     "data": {
      "text/plain": [
       "array([1, 1, 1, 1, 1], dtype=int8)"
      ]
     },
     "execution_count": 17,
     "metadata": {},
     "output_type": "execute_result"
    }
   ],
   "source": [
    "x = np.ones( (5,), dtype=np.int8)\n",
    "x"
   ]
  },
  {
   "cell_type": "code",
   "execution_count": 18,
   "id": "f44a2084-8e27-4c8d-b738-803b0f469b19",
   "metadata": {},
   "outputs": [
    {
     "data": {
      "text/plain": [
       "array([[1, 1, 1, 1, 1],\n",
       "       [1, 1, 1, 1, 1],\n",
       "       [1, 1, 1, 1, 1],\n",
       "       [1, 1, 1, 1, 1],\n",
       "       [1, 1, 1, 1, 1]], dtype=int8)"
      ]
     },
     "execution_count": 18,
     "metadata": {},
     "output_type": "execute_result"
    }
   ],
   "source": [
    "x = np.ones( (5,5), dtype=np.int8)\n",
    "x"
   ]
  },
  {
   "cell_type": "code",
   "execution_count": 19,
   "id": "06892cbb-4968-401d-9670-963f97ce5dac",
   "metadata": {},
   "outputs": [
    {
     "data": {
      "text/plain": [
       "array([0, 0, 0, 0, 0], dtype=int8)"
      ]
     },
     "execution_count": 19,
     "metadata": {},
     "output_type": "execute_result"
    }
   ],
   "source": [
    "x = np.zeros(5, dtype=np.int8)\n",
    "x"
   ]
  },
  {
   "cell_type": "code",
   "execution_count": 20,
   "id": "04b4b1ac-c3b3-4b72-8d13-cd3aed6c69e1",
   "metadata": {},
   "outputs": [
    {
     "data": {
      "text/plain": [
       "array([0, 0, 0, 0, 0], dtype=int8)"
      ]
     },
     "execution_count": 20,
     "metadata": {},
     "output_type": "execute_result"
    }
   ],
   "source": [
    "x = np.zeros( (5,), dtype=np.int8)\n",
    "x"
   ]
  },
  {
   "cell_type": "code",
   "execution_count": 21,
   "id": "8935d671-951b-4d04-bed0-e0f8faf05e1a",
   "metadata": {},
   "outputs": [
    {
     "data": {
      "text/plain": [
       "array([[0, 0, 0, 0, 0],\n",
       "       [0, 0, 0, 0, 0],\n",
       "       [0, 0, 0, 0, 0],\n",
       "       [0, 0, 0, 0, 0],\n",
       "       [0, 0, 0, 0, 0]], dtype=int8)"
      ]
     },
     "execution_count": 21,
     "metadata": {},
     "output_type": "execute_result"
    }
   ],
   "source": [
    "x = np.zeros( (5,5), dtype=np.int8)\n",
    "x"
   ]
  },
  {
   "cell_type": "code",
   "execution_count": 22,
   "id": "769ca20e-37b6-47f0-9743-d38d2179fdc2",
   "metadata": {},
   "outputs": [
    {
     "data": {
      "text/plain": [
       "array([7, 7, 7, 7, 7], dtype=int8)"
      ]
     },
     "execution_count": 22,
     "metadata": {},
     "output_type": "execute_result"
    }
   ],
   "source": [
    "x = np.full(5, 7, dtype=np.int8)\n",
    "x"
   ]
  },
  {
   "cell_type": "code",
   "execution_count": 23,
   "id": "2e446562-b8ee-412c-9125-ee1ca33551d2",
   "metadata": {},
   "outputs": [
    {
     "data": {
      "text/plain": [
       "array([7, 7, 7, 7, 7], dtype=int8)"
      ]
     },
     "execution_count": 23,
     "metadata": {},
     "output_type": "execute_result"
    }
   ],
   "source": [
    "x = np.full( (5,), 7, dtype=np.int8)\n",
    "x"
   ]
  },
  {
   "cell_type": "code",
   "execution_count": 24,
   "id": "d81b8e95-949e-4e4a-8c51-50ed46bb39a5",
   "metadata": {},
   "outputs": [
    {
     "data": {
      "text/plain": [
       "array([[7, 7, 7, 7, 7],\n",
       "       [7, 7, 7, 7, 7],\n",
       "       [7, 7, 7, 7, 7],\n",
       "       [7, 7, 7, 7, 7],\n",
       "       [7, 7, 7, 7, 7]], dtype=int8)"
      ]
     },
     "execution_count": 24,
     "metadata": {},
     "output_type": "execute_result"
    }
   ],
   "source": [
    "x = np.full( (5,5), 7, dtype=np.int8)\n",
    "x"
   ]
  },
  {
   "cell_type": "code",
   "execution_count": 25,
   "id": "d1263c7c-1a56-4ad6-ab2e-112fd72644e3",
   "metadata": {},
   "outputs": [
    {
     "name": "stdout",
     "output_type": "stream",
     "text": [
      "[[7 7 7 7]\n",
      " [7 7 7 7]\n",
      " [7 7 7 7]\n",
      " [7 7 7 7]]\n"
     ]
    }
   ],
   "source": [
    "x = np.zeros( (4,4), dtype=np.int8)\n",
    "\n",
    "new_arr = np.full_like(x, 7)\n",
    "\n",
    "print(new_arr)"
   ]
  },
  {
   "cell_type": "markdown",
   "id": "449d92b6-597c-452d-855d-207d05f9a951",
   "metadata": {},
   "source": [
    "## Create Arrays from Random Numbers"
   ]
  },
  {
   "cell_type": "code",
   "execution_count": 26,
   "id": "cee324dc-43f3-4987-afff-b8f0427f7e3c",
   "metadata": {},
   "outputs": [
    {
     "name": "stdout",
     "output_type": "stream",
     "text": [
      "[0.99997853 0.65077853 0.19603155 0.94008367 0.79203051 0.83742434\n",
      " 0.62944069 0.6207019  0.26743993 0.6920454  0.45880464 0.93495518\n",
      " 0.40074025 0.58517409 0.63317683 0.91990387 0.87873872 0.00310188\n",
      " 0.27942158 0.17311172 0.46715153 0.48458149 0.76618473 0.75927672\n",
      " 0.76843605 0.12633081 0.89871592 0.47675047 0.770065   0.79419972\n",
      " 0.68031855 0.17584722 0.60398918 0.34023478 0.42722948 0.53906265\n",
      " 0.88477471 0.39241355 0.97467278 0.19561395 0.33254371 0.58538002\n",
      " 0.65640234 0.99125546 0.39468356 0.97229323 0.15291956 0.94311732\n",
      " 0.53011811 0.28183513 0.96550719 0.06024525 0.43335873 0.71233584\n",
      " 0.22728647 0.73593624 0.3444182  0.68020837 0.84510577 0.30164045\n",
      " 0.1149265  0.5881732  0.97931119 0.43815194 0.60053887 0.32963691\n",
      " 0.3297457  0.72338408 0.89981237 0.97531702 0.79880954 0.3800591\n",
      " 0.15820432 0.72112934 0.07086321 0.39466429 0.34032101 0.55521051\n",
      " 0.58721132 0.05984017 0.41671782 0.45379398 0.25884281 0.05474765\n",
      " 0.69946589 0.43832    0.67190058 0.41258045 0.49725449 0.16002354\n",
      " 0.53590404 0.10343336 0.13966841 0.23455382 0.94582544 0.44579428\n",
      " 0.04432744 0.60407458 0.63927565 0.97989878]\n"
     ]
    }
   ],
   "source": [
    "print(np.random.rand(100))"
   ]
  },
  {
   "cell_type": "code",
   "execution_count": 27,
   "id": "3300ec9d-6353-461f-a1a9-955302791801",
   "metadata": {},
   "outputs": [
    {
     "name": "stdout",
     "output_type": "stream",
     "text": [
      "[96 74 76 26 67 37 31 68 75 78 43 61 71  9 56 73 24 21 45 32 67 65 51 40\n",
      " 62 99  9 39 74 18  9  9 14 89 41 25 59  1 62 87 45 54 28 98  2 72 99 72\n",
      " 86 30 98 64 87 21 27  9 45 11 66 21 22 23 75 84 39 20 93 11 53 95 14 67\n",
      " 30 94 44 75 20 90 39 35  8 16 38 32 45 93  6 77 13 19 90 78 98 91 55 70\n",
      " 90 48 98 46 57 36 37 34 76 71 83 99 27 76 87 14 57 80 73 26 75 34 34 85\n",
      " 83 16 17 80 27 19 73 82 16 92 82 43 18 26 59 88  2 48 72 47 76 41 54 68\n",
      " 36 11 32 85 38 12 47 92 22 29 20 74 86 74 61 28 41 66 13 33 54  1 40 56\n",
      "  5 66 92 18 80 46 36 20 90 96 20 48 34 39 49 77 60 20 16 87 42 64 20 84\n",
      " 72 70 32 27 45 35 49 63]\n"
     ]
    }
   ],
   "source": [
    "print(np.random.randint(0,100,size=200))"
   ]
  },
  {
   "cell_type": "markdown",
   "id": "5652f9b8-3599-469f-a0f5-3f68598de020",
   "metadata": {},
   "source": [
    "## Random Numbers from a Normal Distribution"
   ]
  },
  {
   "cell_type": "code",
   "execution_count": 28,
   "id": "3e9b9f24-7268-49eb-b013-8858bff3b3ac",
   "metadata": {},
   "outputs": [
    {
     "data": {
      "text/plain": [
       "array([-4.8992709 , -4.83096319, -4.81533526, ...,  4.58484633,\n",
       "        4.7363307 ,  5.00733429])"
      ]
     },
     "execution_count": 28,
     "metadata": {},
     "output_type": "execute_result"
    }
   ],
   "source": [
    "x = np.arange(1000000)\n",
    "y = np.sort(np.random.normal(size=1000000))\n",
    "\n",
    "y"
   ]
  },
  {
   "cell_type": "code",
   "execution_count": 31,
   "id": "c5c6b29b-8d07-409d-b41e-b7e4ef678c55",
   "metadata": {},
   "outputs": [
    {
     "data": {
      "image/png": "[encoded data removed]",
      "text/plain": [
       "<Figure size 432x288 with 1 Axes>"
      ]
     },
     "metadata": {
      "needs_background": "light"
     },
     "output_type": "display_data"
    }
   ],
   "source": [
    "plt.plot(x,y)\n",
    "\n",
    "plt.show()"
   ]
  },
  {
   "cell_type": "code",
   "execution_count": 32,
   "id": "ef8eef7d-a504-403c-b7aa-8ea53dd3d826",
   "metadata": {},
   "outputs": [
    {
     "data": {
      "image/png": "[encoded data removed]",
      "text/plain": [
       "<Figure size 432x288 with 1 Axes>"
      ]
     },
     "metadata": {
      "needs_background": "light"
     },
     "output_type": "display_data"
    }
   ],
   "source": [
    "plt.hist(y, 1000)\n",
    "\n",
    "plt.show()"
   ]
  },
  {
   "cell_type": "code",
   "execution_count": null,
   "id": "8f66fa92-fb34-481d-9330-ccc968d56185",
   "metadata": {},
   "outputs": [],
   "source": []
  }
 ],
 "metadata": {
  "kernelspec": {
   "display_name": "Python 3",
   "language": "python",
   "name": "python3"
  },
  "language_info": {
   "codemirror_mode": {
    "name": "ipython",
    "version": 3
   },
   "file_extension": ".py",
   "mimetype": "text/x-python",
   "name": "python",
   "nbconvert_exporter": "python",
   "pygments_lexer": "ipython3",
   "version": "3.9.5"
  }
 },
 "nbformat": 4,
 "nbformat_minor": 5
}

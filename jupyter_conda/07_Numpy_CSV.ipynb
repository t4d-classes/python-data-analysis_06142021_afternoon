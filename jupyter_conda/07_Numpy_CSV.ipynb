{
 "cells": [
  {
   "cell_type": "markdown",
   "id": "e46879d1-5864-4669-abf7-618d5c8e97de",
   "metadata": {},
   "source": [
    "# CSV Files"
   ]
  },
  {
   "cell_type": "code",
   "execution_count": 1,
   "id": "5726bb41-f510-4ef1-bc99-7b3b148891fd",
   "metadata": {},
   "outputs": [],
   "source": [
    "import csv\n",
    "\n",
    "from matplotlib import pyplot as plt\n",
    "from matplotlib.ticker import MaxNLocator\n",
    "import numpy as np\n",
    "\n",
    "%matplotlib inline"
   ]
  },
  {
   "cell_type": "markdown",
   "id": "9826a468-438f-402b-96a9-b49593c88f10",
   "metadata": {},
   "source": [
    "## Python Standard Library"
   ]
  },
  {
   "cell_type": "markdown",
   "id": "0a83f6d2-e74a-43ee-94bd-10997e2d0433",
   "metadata": {},
   "source": [
    "### Read CSV data with a header..."
   ]
  },
  {
   "cell_type": "code",
   "execution_count": 8,
   "id": "c2895e1e-599f-4f3d-b273-090b9060f00c",
   "metadata": {},
   "outputs": [
    {
     "data": {
      "text/plain": [
       "[['1', '2', '3', '4', '5'],\n",
       " ['6', '7', '8', '9', '10'],\n",
       " ['11', '12', '13', '14', '15']]"
      ]
     },
     "execution_count": 8,
     "metadata": {},
     "output_type": "execute_result"
    }
   ],
   "source": [
    "data = []\n",
    "\n",
    "with open(\"data_with_headers.csv\") as csv_file:\n",
    "    \n",
    "    csv_reader = csv.DictReader(csv_file)\n",
    "    \n",
    "    for row in csv_reader:\n",
    "        data.append(list(row.values()))\n",
    "        # data.append([ int(v) for v in row.values() ])\n",
    "        \n",
    "data"
   ]
  },
  {
   "cell_type": "markdown",
   "id": "9b754044-7f7a-4e7c-af14-f9c7fb6c1d1c",
   "metadata": {},
   "source": [
    "### Read CSV data without a header..."
   ]
  },
  {
   "cell_type": "code",
   "execution_count": 13,
   "id": "d1979294-720f-4183-97e6-f334f511a222",
   "metadata": {},
   "outputs": [
    {
     "data": {
      "text/plain": [
       "[[1, 2, 3, 4, 5], [6, 7, 8, 9, 10], [11, 12, 13, 14, 15]]"
      ]
     },
     "execution_count": 13,
     "metadata": {},
     "output_type": "execute_result"
    }
   ],
   "source": [
    "data = []\n",
    "\n",
    "with open(\"data_without_headers.csv\") as csv_file:\n",
    "    \n",
    "    csv_reader = csv.reader(csv_file)\n",
    "    \n",
    "    for row in csv_reader:\n",
    "        # data.append(row)\n",
    "        data.append([ int(v) for v in row ])\n",
    "        \n",
    "data"
   ]
  },
  {
   "cell_type": "code",
   "execution_count": 14,
   "id": "7c8d11c3-6ac8-4a80-958f-eb69b0968f77",
   "metadata": {},
   "outputs": [
    {
     "name": "stdout",
     "output_type": "stream",
     "text": [
      "int8\n"
     ]
    },
    {
     "data": {
      "text/plain": [
       "array([[ 1,  2,  3,  4,  5],\n",
       "       [ 6,  7,  8,  9, 10],\n",
       "       [11, 12, 13, 14, 15]], dtype=int8)"
      ]
     },
     "execution_count": 14,
     "metadata": {},
     "output_type": "execute_result"
    }
   ],
   "source": [
    "data_arr = np.array(data, dtype=np.int8)\n",
    "\n",
    "print(data_arr.dtype)\n",
    "data_arr"
   ]
  },
  {
   "cell_type": "markdown",
   "id": "dee8152b-5ad3-4ae3-90e7-24e3e9a95048",
   "metadata": {},
   "source": [
    "## NumPy"
   ]
  },
  {
   "cell_type": "code",
   "execution_count": 22,
   "id": "7767bcad-9c5c-4b67-8f4a-5adcdb5e3737",
   "metadata": {},
   "outputs": [
    {
     "data": {
      "text/plain": [
       "array([[ 1,  2,  3,  4,  5],\n",
       "       [ 6,  7, 99,  9, 10],\n",
       "       [11, 12, 13, 14, 15]], dtype=int8)"
      ]
     },
     "execution_count": 22,
     "metadata": {},
     "output_type": "execute_result"
    }
   ],
   "source": [
    "data = np.loadtxt(\"data_with_headers.csv\", delimiter=\",\", skiprows=1, dtype=np.int8)\n",
    "\n",
    "data[1,2] = 99\n",
    "\n",
    "data"
   ]
  },
  {
   "cell_type": "markdown",
   "id": "9b24d98c-c40f-49c9-af2b-5bae5ee41c42",
   "metadata": {},
   "source": [
    "## Max, Min, and Sum"
   ]
  },
  {
   "cell_type": "code",
   "execution_count": 23,
   "id": "90292bc1-b251-479a-ba50-2ef27864ecf1",
   "metadata": {},
   "outputs": [
    {
     "name": "stdout",
     "output_type": "stream",
     "text": [
      "99\n",
      "1\n"
     ]
    }
   ],
   "source": [
    "print(np.max(data))\n",
    "print(np.min(data))"
   ]
  },
  {
   "cell_type": "code",
   "execution_count": 25,
   "id": "3ede8d3c-7eca-4abc-9149-b91d7610adac",
   "metadata": {},
   "outputs": [
    {
     "name": "stdout",
     "output_type": "stream",
     "text": [
      "[11 12 99 14 15]\n",
      "[1 2 3 4 5]\n"
     ]
    }
   ],
   "source": [
    "print(np.max(data, axis=0))\n",
    "print(np.min(data, axis=0))"
   ]
  },
  {
   "cell_type": "code",
   "execution_count": 26,
   "id": "ac82c154-8d9b-4d3b-bfa3-4679b5730c76",
   "metadata": {},
   "outputs": [
    {
     "name": "stdout",
     "output_type": "stream",
     "text": [
      "[ 5 99 15]\n",
      "[ 1  6 11]\n"
     ]
    }
   ],
   "source": [
    "print(np.max(data, axis=1))\n",
    "print(np.min(data, axis=1))"
   ]
  },
  {
   "cell_type": "code",
   "execution_count": 27,
   "id": "4dba7a8b-5da2-4e80-bede-b2133ff3ba1c",
   "metadata": {},
   "outputs": [
    {
     "name": "stdout",
     "output_type": "stream",
     "text": [
      "99\n",
      "1\n"
     ]
    }
   ],
   "source": [
    "print(data.max())\n",
    "print(data.min())"
   ]
  },
  {
   "cell_type": "code",
   "execution_count": 28,
   "id": "7c0c4c45-e78a-4543-898f-b535f68e3707",
   "metadata": {},
   "outputs": [
    {
     "name": "stdout",
     "output_type": "stream",
     "text": [
      "[11 12 99 14 15]\n",
      "[1 2 3 4 5]\n"
     ]
    }
   ],
   "source": [
    "print(data.max(axis=0))\n",
    "print(data.min(axis=0))"
   ]
  },
  {
   "cell_type": "code",
   "execution_count": 29,
   "id": "3b9b761b-f2fb-4fde-84ac-0b5dd3157940",
   "metadata": {},
   "outputs": [
    {
     "name": "stdout",
     "output_type": "stream",
     "text": [
      "[ 5 99 15]\n",
      "[ 1  6 11]\n"
     ]
    }
   ],
   "source": [
    "print(data.max(axis=1))\n",
    "print(data.min(axis=1))"
   ]
  },
  {
   "cell_type": "code",
   "execution_count": 31,
   "id": "07cecbaa-d4f7-4593-9809-2fcce22c9c58",
   "metadata": {},
   "outputs": [
    {
     "name": "stdout",
     "output_type": "stream",
     "text": [
      "211\n",
      "211\n"
     ]
    }
   ],
   "source": [
    "print(np.sum(data))\n",
    "print(data.sum())"
   ]
  },
  {
   "cell_type": "code",
   "execution_count": 32,
   "id": "74f745e3-9ed8-4033-a5aa-87c1c1a5f711",
   "metadata": {},
   "outputs": [
    {
     "name": "stdout",
     "output_type": "stream",
     "text": [
      "[ 18  21 115  27  30]\n",
      "[ 18  21 115  27  30]\n"
     ]
    }
   ],
   "source": [
    "print(np.sum(data, axis=0))\n",
    "print(data.sum(axis=0) )"
   ]
  },
  {
   "cell_type": "code",
   "execution_count": 33,
   "id": "7cf8795d-9bae-4890-8e4e-76cb31458ff6",
   "metadata": {},
   "outputs": [
    {
     "name": "stdout",
     "output_type": "stream",
     "text": [
      "[ 15 131  65]\n",
      "[ 15 131  65]\n"
     ]
    }
   ],
   "source": [
    "print(np.sum(data, axis=1))\n",
    "print(data.sum(axis=1))"
   ]
  },
  {
   "cell_type": "code",
   "execution_count": 34,
   "id": "a646befa-b09a-43e4-a5de-f6eec2fb1ee7",
   "metadata": {},
   "outputs": [
    {
     "name": "stdout",
     "output_type": "stream",
     "text": [
      "[ 18  21 115  27  30]\n"
     ]
    }
   ],
   "source": [
    "print(sum(data)) # np.sum(data, axis=0)"
   ]
  },
  {
   "cell_type": "markdown",
   "id": "22b6a469-c873-47eb-9ee1-bf5cfb880c34",
   "metadata": {},
   "source": [
    "## Row and Column Stacking"
   ]
  },
  {
   "cell_type": "code",
   "execution_count": 35,
   "id": "4c3d94fc-c844-4e9d-9b82-085cd7fd58dd",
   "metadata": {},
   "outputs": [
    {
     "data": {
      "text/plain": [
       "array([[ 1,  2,  3,  4,  5],\n",
       "       [ 6,  7, 99,  9, 10],\n",
       "       [11, 12, 13, 14, 15]], dtype=int8)"
      ]
     },
     "execution_count": 35,
     "metadata": {},
     "output_type": "execute_result"
    }
   ],
   "source": [
    "data"
   ]
  },
  {
   "cell_type": "code",
   "execution_count": 37,
   "id": "44ac591b-b25c-4069-8762-91a6bd5ea2d8",
   "metadata": {},
   "outputs": [
    {
     "data": {
      "text/plain": [
       "array([[  1,   2,   3,   4,   5,  15],\n",
       "       [  6,   7,  99,   9,  10, 131],\n",
       "       [ 11,  12,  13,  14,  15,  65]])"
      ]
     },
     "execution_count": 37,
     "metadata": {},
     "output_type": "execute_result"
    }
   ],
   "source": [
    "# col = np.array([997, 998, 999])\n",
    "\n",
    "col = data.sum(axis=1)\n",
    "\n",
    "data = np.column_stack([ data, col ])\n",
    "\n",
    "data"
   ]
  },
  {
   "cell_type": "code",
   "execution_count": 38,
   "id": "d785f310-9249-440a-939c-9157e7f2702c",
   "metadata": {},
   "outputs": [
    {
     "data": {
      "text/plain": [
       "array([[  1,   2,   3,   4,   5,  15],\n",
       "       [  6,   7,  99,   9,  10, 131],\n",
       "       [ 11,  12,  13,  14,  15,  65],\n",
       "       [ 18,  21, 115,  27,  30, 211]])"
      ]
     },
     "execution_count": 38,
     "metadata": {},
     "output_type": "execute_result"
    }
   ],
   "source": [
    "row = data.sum(axis=0)\n",
    "\n",
    "data = np.row_stack([ data, row ])\n",
    "\n",
    "data"
   ]
  },
  {
   "cell_type": "markdown",
   "id": "d2a442b0-7b99-4edf-9c60-75e73a6bce5f",
   "metadata": {},
   "source": [
    "## Matplotlib Multiple Plots and Chart Customizing"
   ]
  },
  {
   "cell_type": "code",
   "execution_count": 40,
   "id": "9bc1bca3-5ea7-49c7-8d8b-5f5b3e1e9a6a",
   "metadata": {},
   "outputs": [
    {
     "data": {
      "image/png": "[encoded data removed]",
      "text/plain": [
       "<Figure size 432x288 with 1 Axes>"
      ]
     },
     "metadata": {
      "needs_background": "light"
     },
     "output_type": "display_data"
    }
   ],
   "source": [
    "car_sales = np.array([\n",
    "    [1,2], [2,3], [3,1], [4,3]\n",
    "])\n",
    "\n",
    "boat_sales = np.array([\n",
    "    [1,1], [2,4], [3,2], [4,3]\n",
    "])\n",
    "\n",
    "ax = plt.figure().gca()\n",
    "ax.xaxis.set_major_locator(MaxNLocator(integer=True))\n",
    "ax.yaxis.set_major_locator(MaxNLocator(integer=True))\n",
    "\n",
    "plt.plot(car_sales[:, 0], car_sales[: ,1], label=\"Cars\", color=\"green\", linestyle=\"dashed\")\n",
    "plt.plot(boat_sales[:, 0], boat_sales[: ,1], label=\"Boats\", color=\"blue\", linestyle=\"dotted\")\n",
    "\n",
    "plt.title(\"Sales by Unit\")\n",
    "plt.xlabel(\"Quarter\")\n",
    "plt.ylabel(\"Units\")\n",
    "\n",
    "plt.legend(loc=\"upper right\")\n",
    "\n",
    "plt.show()"
   ]
  },
  {
   "cell_type": "code",
   "execution_count": null,
   "id": "5f02becf-bf92-4ba5-a478-3d98e448a0b6",
   "metadata": {},
   "outputs": [],
   "source": []
  }
 ],
 "metadata": {
  "kernelspec": {
   "display_name": "Python 3",
   "language": "python",
   "name": "python3"
  },
  "language_info": {
   "codemirror_mode": {
    "name": "ipython",
    "version": 3
   },
   "file_extension": ".py",
   "mimetype": "text/x-python",
   "name": "python",
   "nbconvert_exporter": "python",
   "pygments_lexer": "ipython3",
   "version": "3.9.5"
  }
 },
 "nbformat": 4,
 "nbformat_minor": 5
}

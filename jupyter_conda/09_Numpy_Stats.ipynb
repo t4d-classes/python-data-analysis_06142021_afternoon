{
 "cells": [
  {
   "cell_type": "markdown",
   "id": "54687c3d-9cf6-442c-9dca-8621983c1d6d",
   "metadata": {},
   "source": [
    "# NumPy Stats"
   ]
  },
  {
   "cell_type": "code",
   "execution_count": 20,
   "id": "e3ff2fe8-84ba-4ec5-a3e6-b344bc24ba3d",
   "metadata": {},
   "outputs": [],
   "source": [
    "import math\n",
    "import statistics as stats\n",
    "\n",
    "from matplotlib import pyplot as plt\n",
    "from matplotlib.ticker import MaxNLocator\n",
    "from scipy import stats as stats2\n",
    "import numpy as np\n",
    "\n",
    "%matplotlib inline"
   ]
  },
  {
   "cell_type": "code",
   "execution_count": 2,
   "id": "0dd440e0-7e96-4312-b4e6-52fd64dc5a9b",
   "metadata": {},
   "outputs": [
    {
     "name": "stdout",
     "output_type": "stream",
     "text": [
      "9.5\n"
     ]
    }
   ],
   "source": [
    "## Mean\n",
    "\n",
    "# population mean (array 0 to 19)\n",
    "population = np.arange(0,20)\n",
    "print(np.mean(population))"
   ]
  },
  {
   "cell_type": "code",
   "execution_count": 3,
   "id": "36dee17e-defc-4018-9e3a-eb011060a17a",
   "metadata": {},
   "outputs": [
    {
     "data": {
      "text/plain": [
       "9.5"
      ]
     },
     "execution_count": 3,
     "metadata": {},
     "output_type": "execute_result"
    }
   ],
   "source": [
    "population.mean()"
   ]
  },
  {
   "cell_type": "code",
   "execution_count": 9,
   "id": "88db97bc-543f-4beb-bbe7-5ade8c23c259",
   "metadata": {},
   "outputs": [
    {
     "name": "stdout",
     "output_type": "stream",
     "text": [
      "[ 3  0  6 16  4  5 19  8 15 18  7 11 10  2  1]\n",
      "8.333333333333334\n",
      "[15 12  3 18 14 13  0  8 11 16  9  1  7  6  4]\n",
      "9.133333333333333\n"
     ]
    }
   ],
   "source": [
    "# sample 1 mean\n",
    "sample1 = np.random.choice(population, size=15, replace=False)\n",
    "print(sample1)\n",
    "print(sample1.mean())\n",
    "\n",
    "# sample 2 mean\n",
    "sample2 = np.random.choice(population, size=15, replace=False)\n",
    "print(sample2)\n",
    "print(sample2.mean())"
   ]
  },
  {
   "cell_type": "code",
   "execution_count": 10,
   "id": "72f8d0d1-b70f-44e4-9134-23093271b0bb",
   "metadata": {},
   "outputs": [
    {
     "name": "stdout",
     "output_type": "stream",
     "text": [
      "10.0\n",
      "12.0\n",
      "12.0\n"
     ]
    }
   ],
   "source": [
    "## Median\n",
    "\n",
    "# population median (array 0 to 20)\n",
    "population = np.arange(0,21)\n",
    "print(np.median(population)) # Example Output: 10.0\n",
    "\n",
    "# sample 1 median\n",
    "sample1 = np.random.choice(population, size=15)\n",
    "print(np.median(sample1)) \n",
    "\n",
    "# sample 2 median\n",
    "sample2 = np.random.choice(population, size=15)\n",
    "print(np.median(sample2)) "
   ]
  },
  {
   "cell_type": "code",
   "execution_count": 21,
   "id": "ba7a1ba4-5cb9-4eea-9f92-9ed2cec5e37a",
   "metadata": {},
   "outputs": [
    {
     "name": "stdout",
     "output_type": "stream",
     "text": [
      "5.0\n",
      "ModeResult(mode=array([5.]), count=array([3]))\n"
     ]
    }
   ],
   "source": [
    "## Mode\n",
    "\n",
    "nums = np.array([3,5,1,7,2,5,9,1,4,2,6,5], dtype=float)\n",
    "\n",
    "print(stats.mode(nums)) \n",
    "print(stats2.mode(nums)) "
   ]
  },
  {
   "cell_type": "code",
   "execution_count": 12,
   "id": "a601d434-ad56-4894-a56c-5104a52d49d1",
   "metadata": {},
   "outputs": [
    {
     "name": "stdout",
     "output_type": "stream",
     "text": [
      "6.0\n",
      "3.0\n"
     ]
    }
   ],
   "source": [
    "## Effect of Outliers\n",
    "\n",
    "nums = np.array([1,2,3,4,20])\n",
    "\n",
    "# outputs 6.0\n",
    "print(np.mean(nums))\n",
    "\n",
    "# outputs 3.0\n",
    "print(np.median(nums))"
   ]
  },
  {
   "cell_type": "code",
   "execution_count": 23,
   "id": "7156de4c-44ce-49ac-9dac-5c938153a7ad",
   "metadata": {},
   "outputs": [
    {
     "name": "stdout",
     "output_type": "stream",
     "text": [
      "833\n",
      "756\n",
      "865\n"
     ]
    }
   ],
   "source": [
    "## Variance\n",
    "\n",
    "population = np.arange(0,100)\n",
    "print(stats.pvariance(population)) # output 833\n",
    "\n",
    "sample1 = np.random.choice(population, size=80)\n",
    "print(stats.variance(sample1)) \n",
    "\n",
    "sample2 = np.random.choice(population, size=80)\n",
    "print(stats.variance(sample2))"
   ]
  },
  {
   "cell_type": "code",
   "execution_count": 25,
   "id": "ec7ea565-d889-42c7-a2b4-59f98bb75609",
   "metadata": {},
   "outputs": [
    {
     "name": "stdout",
     "output_type": "stream",
     "text": [
      "28.861739379323623\n",
      "28.705400188814647\n",
      "29.206163733020468\n"
     ]
    }
   ],
   "source": [
    "## Standard Deviation\n",
    "\n",
    "population = np.arange(0,100)\n",
    "print(stats.pstdev(population)) # outputs 28.861739379323623\n",
    "\n",
    "sample1 = np.random.choice(population, size=80)\n",
    "print(stats.stdev(sample1))\n",
    "\n",
    "sample2 = np.random.choice(population, size=80)\n",
    "print(stats.stdev(sample2))"
   ]
  },
  {
   "cell_type": "code",
   "execution_count": 15,
   "id": "834efabc-2867-4b3c-b33a-d24c891231a8",
   "metadata": {},
   "outputs": [
    {
     "name": "stdout",
     "output_type": "stream",
     "text": [
      "20.0\n",
      "40.0\n",
      "36.0\n",
      "44.0\n"
     ]
    }
   ],
   "source": [
    "## Percentiles\n",
    "\n",
    "nums = np.array([10,20,30,40,50])\n",
    "\n",
    "# 25% percentile output 20.0\n",
    "print(np.percentile(nums, 25))\n",
    "\n",
    "# 75% percentile output 40.0\n",
    "print(np.percentile(nums, 75))\n",
    "\n",
    "# 65% percentile output 36.0\n",
    "print(np.percentile(nums, 65))\n",
    "\n",
    "# 85% percentile output 44.0\n",
    "print(np.percentile(nums, 85))"
   ]
  },
  {
   "cell_type": "code",
   "execution_count": 26,
   "id": "df64fa7b-dd49-427a-b0e6-be46790afb37",
   "metadata": {},
   "outputs": [
    {
     "name": "stdout",
     "output_type": "stream",
     "text": [
      "-0.5547214698212221\n"
     ]
    },
    {
     "data": {
      "image/png": "[encoded data removed]",
      "text/plain": [
       "<Figure size 432x288 with 1 Axes>"
      ]
     },
     "metadata": {
      "needs_background": "light"
     },
     "output_type": "display_data"
    }
   ],
   "source": [
    "nums = np.concatenate([\n",
    "    np.random.randint(\n",
    "        (x-1)*10, x*10, size=x*100)\n",
    "    for x in np.arange(10, 0, -1)\n",
    "])\n",
    "\n",
    "print(stats2.skew(nums))\n",
    "\n",
    "plt.hist(nums, bins=100)\n",
    "plt.show()"
   ]
  },
  {
   "cell_type": "code",
   "execution_count": 28,
   "id": "c81182cd-3b23-46f4-bb3e-e786663bc2cd",
   "metadata": {},
   "outputs": [
    {
     "name": "stdout",
     "output_type": "stream",
     "text": [
      "0.5619267809980343\n"
     ]
    },
    {
     "data": {
      "image/png": "[encoded data removed]",
      "text/plain": [
       "<Figure size 432x288 with 1 Axes>"
      ]
     },
     "metadata": {
      "needs_background": "light"
     },
     "output_type": "display_data"
    }
   ],
   "source": [
    "nums = np.concatenate([\n",
    "    np.random.randint(\n",
    "        x*10, (x+1)*10, size=(10-x)*100)\n",
    "    for x in np.arange(0, 10, 1)\n",
    "])\n",
    "\n",
    "print(stats2.skew(nums))\n",
    "\n",
    "plt.hist(nums, bins=100)\n",
    "plt.show()"
   ]
  },
  {
   "cell_type": "code",
   "execution_count": 29,
   "id": "1c5f5c1e-870e-43c7-a36b-922396c50baf",
   "metadata": {},
   "outputs": [
    {
     "name": "stdout",
     "output_type": "stream",
     "text": [
      "DescribeResult(nobs=20, minmax=(0, 19), mean=9.5, variance=35.0, skewness=0.0, kurtosis=-1.206015037593985)\n"
     ]
    }
   ],
   "source": [
    "nums = np.arange(0,20)\n",
    "\n",
    "# output\n",
    "# DescribeResult(\n",
    "#   nobs=20, minmax=(0, 19), mean=9.5,\n",
    "#   variance=35.0, skewness=0.0,\n",
    "#   kurtosis=-1.206015037593985\n",
    "# )\n",
    "\n",
    "print(stats2.describe(nums))"
   ]
  },
  {
   "cell_type": "code",
   "execution_count": 30,
   "id": "dcc5a912-4166-4038-a721-e542833b86ec",
   "metadata": {},
   "outputs": [
    {
     "data": {
      "text/plain": [
       "array([0, 0, 1, 1, 4, 2, 3, 1, 0, 4])"
      ]
     },
     "metadata": {},
     "output_type": "display_data"
    },
    {
     "data": {
      "text/plain": [
       "array([3, 0, 1, 2, 4])"
      ]
     },
     "metadata": {},
     "output_type": "display_data"
    },
    {
     "data": {
      "text/plain": [
       "array([9, 1, 7, 1, 9, 7, 7, 5, 7, 7])"
      ]
     },
     "metadata": {},
     "output_type": "display_data"
    }
   ],
   "source": [
    "# Choice\n",
    "\n",
    "display(np.random.choice(5, 10))\n",
    "\n",
    "display(np.random.choice(5, 5, replace=False))\n",
    "\n",
    "arr = np.array([1,3,5,7,9])\n",
    "\n",
    "display(np.random.choice(arr, 10))"
   ]
  },
  {
   "cell_type": "code",
   "execution_count": 31,
   "id": "177e482e-8bf8-4550-bd53-e807c1b7fa70",
   "metadata": {},
   "outputs": [
    {
     "data": {
      "image/png": "[encoded data removed]",
      "text/plain": [
       "<Figure size 432x288 with 1 Axes>"
      ]
     },
     "metadata": {
      "needs_background": "light"
     },
     "output_type": "display_data"
    }
   ],
   "source": [
    "# Boxplot\n",
    "\n",
    "first_semester = np.array([65, 67, 68, 72, 72, 80, 81, 82, 82, 91, 91, 91, 93, 94, 91, 91, 91, 93, 94, 100, 100, 100])\n",
    "second_semester = np.array([75, 77, 78, 72, 72, 70, 71, 72, 82, 91, 91, 91, 93, 94, 91, 91, 91, 93, 94, 100, 100, 100])\n",
    "\n",
    "plt.title('Scores by Semester')\n",
    "plt.xlabel('Semester')\n",
    "plt.ylabel('Scores')\n",
    "\n",
    "plt.boxplot([first_semester, second_semester], labels=[\"First\", \"Second\"])\n",
    "plt.show()"
   ]
  },
  {
   "cell_type": "code",
   "execution_count": null,
   "id": "afa4ecbc-612e-4040-8f5c-1d6adab1bf68",
   "metadata": {},
   "outputs": [],
   "source": []
  }
 ],
 "metadata": {
  "kernelspec": {
   "display_name": "Python 3",
   "language": "python",
   "name": "python3"
  },
  "language_info": {
   "codemirror_mode": {
    "name": "ipython",
    "version": 3
   },
   "file_extension": ".py",
   "mimetype": "text/x-python",
   "name": "python",
   "nbconvert_exporter": "python",
   "pygments_lexer": "ipython3",
   "version": "3.9.5"
  }
 },
 "nbformat": 4,
 "nbformat_minor": 5
}

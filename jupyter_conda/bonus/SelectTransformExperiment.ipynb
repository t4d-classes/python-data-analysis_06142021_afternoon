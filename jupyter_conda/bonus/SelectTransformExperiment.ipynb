{
 "cells": [
  {
   "cell_type": "markdown",
   "id": "36f56404-4b13-4036-b715-778b079dde33",
   "metadata": {},
   "source": [
    "# Select Transform Experiment"
   ]
  },
  {
   "cell_type": "code",
   "execution_count": 1,
   "id": "4b450498-7e42-4d28-8df7-60b0d0582d57",
   "metadata": {},
   "outputs": [
    {
     "data": {
      "text/plain": [
       "array([      0,       1,       2, ..., 9999997, 9999998, 9999999])"
      ]
     },
     "execution_count": 1,
     "metadata": {},
     "output_type": "execute_result"
    }
   ],
   "source": [
    "import numpy as np\n",
    "\n",
    "initial_nums = np.arange(10_000_000)\n",
    "\n",
    "initial_nums"
   ]
  },
  {
   "cell_type": "code",
   "execution_count": 2,
   "id": "96467d56-a6a1-489c-b110-3b747db126c5",
   "metadata": {},
   "outputs": [
    {
     "name": "stdout",
     "output_type": "stream",
     "text": [
      "[ 0  1  4  3  8  5 12  7 16  9]\n",
      "Wall time: 151 ms\n"
     ]
    }
   ],
   "source": [
    "%%time\n",
    "\n",
    "for _ in range(1):\n",
    "    nums = np.copy(initial_nums)\n",
    "    \n",
    "    mask = nums % 2 == 0\n",
    "    #print(mask.size)\n",
    "    \n",
    "    vals = nums[mask] * 2\n",
    "    #print(vals.size)\n",
    "    \n",
    "    nums[mask] = vals\n",
    "\n",
    "print(nums[:10])"
   ]
  },
  {
   "cell_type": "code",
   "execution_count": 3,
   "id": "9f08be88-7dc0-4d56-88e0-a09d646d1bf0",
   "metadata": {},
   "outputs": [
    {
     "name": "stdout",
     "output_type": "stream",
     "text": [
      "[ 0  1  4  3  8  5 12  7 16  9]\n",
      "Wall time: 143 ms\n"
     ]
    }
   ],
   "source": [
    "%%time\n",
    "\n",
    "for _ in range(1):\n",
    "    nums = np.copy(initial_nums)\n",
    "    \n",
    "    mask = nums % 2 == 0\n",
    "    #print(mask.size)\n",
    "    \n",
    "    nums[mask] *= 2\n",
    "    \n",
    "print(nums[:10])"
   ]
  },
  {
   "cell_type": "code",
   "execution_count": 4,
   "id": "35bc5dd3-6f4b-4295-90fb-c5847a0333c3",
   "metadata": {},
   "outputs": [
    {
     "name": "stdout",
     "output_type": "stream",
     "text": [
      "[ 0  0  2  4  6  8 10 12 14 16]\n",
      "Wall time: 143 ms\n"
     ]
    }
   ],
   "source": [
    "%%time\n",
    "\n",
    "for _ in range(1):\n",
    "    nums = np.copy(initial_nums)\n",
    "    \n",
    "    mask = nums % 2 == 0\n",
    "    #print(mask.size)\n",
    "    \n",
    "    vals = nums * 2\n",
    "    #print(vals.size)\n",
    "\n",
    "    np.place(nums, nums > 0, nums * 2)\n",
    "    \n",
    "print(nums[:10])"
   ]
  },
  {
   "cell_type": "code",
   "execution_count": 5,
   "id": "b9957f6c-4d11-4cdf-93b2-9072d7824f18",
   "metadata": {},
   "outputs": [
    {
     "name": "stdout",
     "output_type": "stream",
     "text": [
      "[ 0  1  4  3  8  5 12  7 16  9]\n",
      "Wall time: 8.16 s\n"
     ]
    }
   ],
   "source": [
    "%%time\n",
    "\n",
    "# do not set count above 1\n",
    "for _ in range(1):\n",
    "    nums = np.copy(initial_nums)\n",
    "    for idx, val in np.ndenumerate(nums):\n",
    "        if nums[idx[0]] % 2 == 0:\n",
    "            nums[idx[0]] = val * 2\n",
    "            \n",
    "print(nums[:10])"
   ]
  },
  {
   "cell_type": "code",
   "execution_count": 6,
   "id": "97dd6d14-35bf-4178-9c42-ba91ddde6dfc",
   "metadata": {},
   "outputs": [
    {
     "name": "stdout",
     "output_type": "stream",
     "text": [
      "[ 0  1  4  3  8  5 12  7 16  9]\n",
      "Wall time: 2.01 s\n"
     ]
    }
   ],
   "source": [
    "%%time\n",
    "\n",
    "# do not set count above 5\n",
    "for _ in range(1):\n",
    "    nums = np.copy(initial_nums)\n",
    "    nums = np.vectorize(lambda x: x * 2 if x % 2 == 0 else x)(nums)\n",
    "    \n",
    "print(nums[:10])"
   ]
  },
  {
   "cell_type": "code",
   "execution_count": null,
   "id": "51f67e41-4197-4f4b-96fc-f66c45e53ab0",
   "metadata": {},
   "outputs": [],
   "source": []
  }
 ],
 "metadata": {
  "kernelspec": {
   "display_name": "Python 3",
   "language": "python",
   "name": "python3"
  },
  "language_info": {
   "codemirror_mode": {
    "name": "ipython",
    "version": 3
   },
   "file_extension": ".py",
   "mimetype": "text/x-python",
   "name": "python",
   "nbconvert_exporter": "python",
   "pygments_lexer": "ipython3",
   "version": "3.9.5"
  }
 },
 "nbformat": 4,
 "nbformat_minor": 5
}

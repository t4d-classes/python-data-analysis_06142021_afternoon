{
 "cells": [
  {
   "cell_type": "markdown",
   "id": "01252145-662a-4e5a-9109-cacd0dc51788",
   "metadata": {},
   "source": [
    "# Pandas Intro"
   ]
  },
  {
   "cell_type": "code",
   "execution_count": 1,
   "id": "5bacce8b-405c-4aa8-81d0-faef4762d244",
   "metadata": {},
   "outputs": [],
   "source": [
    "import pandas as pd\n",
    "import numpy as np"
   ]
  },
  {
   "cell_type": "code",
   "execution_count": 2,
   "id": "191e88c9-880b-446f-81ea-532fadc20a6a",
   "metadata": {},
   "outputs": [
    {
     "data": {
      "text/plain": [
       "{'Alexandria': 80847,\n",
       " 'Amherst': 44757,\n",
       " 'Arlington': 94880,\n",
       " 'Augusta': 50612,\n",
       " 'Bedford': 54110,\n",
       " 'Botetourt': 64724,\n",
       " 'Fairfax': 105416,\n",
       " 'Falls Church': 114409,\n",
       " 'Prince William': 91098}"
      ]
     },
     "execution_count": 2,
     "metadata": {},
     "output_type": "execute_result"
    }
   ],
   "source": [
    "median_income_dict = {\n",
    "    \"Alexandria\": 80847,\n",
    "    \"Amherst\": 44757,\n",
    "    \"Arlington\": 94880,\n",
    "    \"Augusta\": 50612,\n",
    "    \"Bedford\": 54110,\n",
    "    \"Botetourt\": 64724,\n",
    "    \"Fairfax\": 105416,\n",
    "    \"Falls Church\": 114409,\n",
    "    \"Prince William\": 91098,\n",
    "}\n",
    "\n",
    "median_income_dict"
   ]
  },
  {
   "cell_type": "code",
   "execution_count": 3,
   "id": "fba13c63-1316-444c-99fd-6508e9600630",
   "metadata": {},
   "outputs": [
    {
     "data": {
      "text/plain": [
       "54110"
      ]
     },
     "execution_count": 3,
     "metadata": {},
     "output_type": "execute_result"
    }
   ],
   "source": [
    "median_income_dict[\"Bedford\"]"
   ]
  },
  {
   "cell_type": "code",
   "execution_count": 4,
   "id": "7c4599ff-9590-4e0c-ac88-6325dd169516",
   "metadata": {},
   "outputs": [
    {
     "data": {
      "text/plain": [
       "Alexandria         80847\n",
       "Amherst            44757\n",
       "Arlington          94880\n",
       "Augusta            50612\n",
       "Bedford            54110\n",
       "Botetourt          64724\n",
       "Fairfax           105416\n",
       "Falls Church      114409\n",
       "Prince William     91098\n",
       "dtype: int32"
      ]
     },
     "execution_count": 4,
     "metadata": {},
     "output_type": "execute_result"
    }
   ],
   "source": [
    "median_income_series = pd.Series(median_income_dict, dtype=np.int32)\n",
    "\n",
    "median_income_series"
   ]
  },
  {
   "cell_type": "code",
   "execution_count": 5,
   "id": "17da9086-916b-47d5-b597-e7f51e84ca61",
   "metadata": {},
   "outputs": [
    {
     "data": {
      "text/plain": [
       "Index(['Alexandria', 'Amherst', 'Arlington', 'Augusta', 'Bedford', 'Botetourt',\n",
       "       'Fairfax', 'Falls Church', 'Prince William'],\n",
       "      dtype='object')"
      ]
     },
     "execution_count": 5,
     "metadata": {},
     "output_type": "execute_result"
    }
   ],
   "source": [
    "median_income_series.index"
   ]
  },
  {
   "cell_type": "code",
   "execution_count": 7,
   "id": "fd7fffe7-dde1-45a1-954c-15d45eda7705",
   "metadata": {},
   "outputs": [
    {
     "data": {
      "text/plain": [
       "array([ 80847,  44757,  94880,  50612,  54110,  64724, 105416, 114409,\n",
       "        91098])"
      ]
     },
     "execution_count": 7,
     "metadata": {},
     "output_type": "execute_result"
    }
   ],
   "source": [
    "median_income_series.values"
   ]
  },
  {
   "cell_type": "code",
   "execution_count": 9,
   "id": "f64f38f1-faef-433c-b556-395dabda69ec",
   "metadata": {},
   "outputs": [
    {
     "data": {
      "text/plain": [
       "numpy.ndarray"
      ]
     },
     "execution_count": 9,
     "metadata": {},
     "output_type": "execute_result"
    }
   ],
   "source": [
    "type(median_income_series.values)"
   ]
  },
  {
   "cell_type": "code",
   "execution_count": 10,
   "id": "57ba857f-e551-4c20-88fb-e8bdec00f549",
   "metadata": {},
   "outputs": [
    {
     "data": {
      "text/plain": [
       "Alexandria    80847\n",
       "Amherst       44757\n",
       "Arlington     94880\n",
       "Augusta       50612\n",
       "Bedford       54110\n",
       "dtype: int32"
      ]
     },
     "execution_count": 10,
     "metadata": {},
     "output_type": "execute_result"
    }
   ],
   "source": [
    "median_income_series.head()"
   ]
  },
  {
   "cell_type": "code",
   "execution_count": 11,
   "id": "9cbfd0c1-79c9-4ce8-8082-3da305fa0ada",
   "metadata": {},
   "outputs": [
    {
     "data": {
      "text/plain": [
       "Alexandria    80847\n",
       "Amherst       44757\n",
       "Arlington     94880\n",
       "dtype: int32"
      ]
     },
     "execution_count": 11,
     "metadata": {},
     "output_type": "execute_result"
    }
   ],
   "source": [
    "median_income_series.head(3)"
   ]
  },
  {
   "cell_type": "code",
   "execution_count": 12,
   "id": "07154bae-523e-416e-9c40-dae576b193e9",
   "metadata": {},
   "outputs": [
    {
     "data": {
      "text/plain": [
       "Bedford            54110\n",
       "Botetourt          64724\n",
       "Fairfax           105416\n",
       "Falls Church      114409\n",
       "Prince William     91098\n",
       "dtype: int32"
      ]
     },
     "execution_count": 12,
     "metadata": {},
     "output_type": "execute_result"
    }
   ],
   "source": [
    "median_income_series.tail()"
   ]
  },
  {
   "cell_type": "code",
   "execution_count": 13,
   "id": "24d3ae28-562b-4e55-9d98-feaf027d8432",
   "metadata": {},
   "outputs": [
    {
     "data": {
      "text/plain": [
       "Fairfax           105416\n",
       "Falls Church      114409\n",
       "Prince William     91098\n",
       "dtype: int32"
      ]
     },
     "execution_count": 13,
     "metadata": {},
     "output_type": "execute_result"
    }
   ],
   "source": [
    "median_income_series.tail(3)"
   ]
  },
  {
   "cell_type": "code",
   "execution_count": 14,
   "id": "e9ad6320-b8e5-4cc7-9cb4-916d5fc6d43f",
   "metadata": {},
   "outputs": [
    {
     "data": {
      "text/plain": [
       "44757"
      ]
     },
     "execution_count": 14,
     "metadata": {},
     "output_type": "execute_result"
    }
   ],
   "source": [
    "median_income_series[\"Amherst\"]"
   ]
  },
  {
   "cell_type": "code",
   "execution_count": 17,
   "id": "5966ff8d-a575-4093-a4a1-08f0f592cd9c",
   "metadata": {},
   "outputs": [
    {
     "data": {
      "text/plain": [
       "numpy.int32"
      ]
     },
     "execution_count": 17,
     "metadata": {},
     "output_type": "execute_result"
    }
   ],
   "source": [
    "type(median_income_series[\"Amherst\"])"
   ]
  },
  {
   "cell_type": "code",
   "execution_count": 16,
   "id": "d799b305-b2f5-45f7-b915-fd40102fec6e",
   "metadata": {},
   "outputs": [
    {
     "data": {
      "text/plain": [
       "Amherst      44757\n",
       "Arlington    94880\n",
       "dtype: int32"
      ]
     },
     "execution_count": 16,
     "metadata": {},
     "output_type": "execute_result"
    }
   ],
   "source": [
    "median_income_series[ [\"Amherst\", \"Arlington\"] ]"
   ]
  },
  {
   "cell_type": "code",
   "execution_count": 18,
   "id": "6b36dc7f-4efd-4239-adb5-1856321bc058",
   "metadata": {},
   "outputs": [
    {
     "data": {
      "text/plain": [
       "pandas.core.series.Series"
      ]
     },
     "execution_count": 18,
     "metadata": {},
     "output_type": "execute_result"
    }
   ],
   "source": [
    "type(median_income_series[ [\"Amherst\", \"Arlington\"] ])"
   ]
  },
  {
   "cell_type": "code",
   "execution_count": 19,
   "id": "7803a456-6e40-4c71-b2cd-aaeedc955711",
   "metadata": {},
   "outputs": [
    {
     "data": {
      "text/plain": [
       "Amherst      44757\n",
       "Arlington    94880\n",
       "Augusta      50612\n",
       "Bedford      54110\n",
       "dtype: int32"
      ]
     },
     "execution_count": 19,
     "metadata": {},
     "output_type": "execute_result"
    }
   ],
   "source": [
    "median_income_series[\"Amherst\":\"Bedford\"]"
   ]
  },
  {
   "cell_type": "code",
   "execution_count": 20,
   "id": "817334c9-339f-48ec-b1d9-5bb9ea9d20eb",
   "metadata": {},
   "outputs": [
    {
     "data": {
      "text/plain": [
       "80847"
      ]
     },
     "execution_count": 20,
     "metadata": {},
     "output_type": "execute_result"
    }
   ],
   "source": [
    "median_income_series[0]"
   ]
  },
  {
   "cell_type": "code",
   "execution_count": 21,
   "id": "68e6bc5a-c0e5-4ec2-96cc-cf89cb8a3b26",
   "metadata": {},
   "outputs": [
    {
     "data": {
      "text/plain": [
       "Amherst    44757\n",
       "Augusta    50612\n",
       "dtype: int32"
      ]
     },
     "execution_count": 21,
     "metadata": {},
     "output_type": "execute_result"
    }
   ],
   "source": [
    "median_income_series[ [1,3] ]"
   ]
  },
  {
   "cell_type": "code",
   "execution_count": 22,
   "id": "2cd23ba6-fce7-4874-a5c4-83706796edad",
   "metadata": {},
   "outputs": [
    {
     "data": {
      "text/plain": [
       "Amherst      44757\n",
       "Arlington    94880\n",
       "Augusta      50612\n",
       "dtype: int32"
      ]
     },
     "execution_count": 22,
     "metadata": {},
     "output_type": "execute_result"
    }
   ],
   "source": [
    "median_income_series[1:4]"
   ]
  },
  {
   "cell_type": "code",
   "execution_count": 23,
   "id": "f609f1d4-1fbf-468d-95d7-abe770ac151f",
   "metadata": {},
   "outputs": [
    {
     "data": {
      "text/plain": [
       "44757"
      ]
     },
     "execution_count": 23,
     "metadata": {},
     "output_type": "execute_result"
    }
   ],
   "source": [
    "median_income_series.loc[ \"Amherst\" ]"
   ]
  },
  {
   "cell_type": "code",
   "execution_count": 24,
   "id": "a8e5570e-d7d4-480f-81a8-bb38f4d4ef83",
   "metadata": {},
   "outputs": [
    {
     "data": {
      "text/plain": [
       "Amherst    44757\n",
       "dtype: int32"
      ]
     },
     "execution_count": 24,
     "metadata": {},
     "output_type": "execute_result"
    }
   ],
   "source": [
    "median_income_series.loc[ [ \"Amherst\" ] ]"
   ]
  },
  {
   "cell_type": "code",
   "execution_count": 25,
   "id": "92a8cf31-972e-4b76-9d64-28d9abd3b680",
   "metadata": {},
   "outputs": [
    {
     "data": {
      "text/plain": [
       "Amherst    44757\n",
       "Augusta    50612\n",
       "dtype: int32"
      ]
     },
     "execution_count": 25,
     "metadata": {},
     "output_type": "execute_result"
    }
   ],
   "source": [
    "median_income_series.loc[ [ \"Amherst\", \"Augusta\" ] ]"
   ]
  },
  {
   "cell_type": "code",
   "execution_count": 26,
   "id": "88bcb0ed-874d-49ee-9397-acd88f117885",
   "metadata": {},
   "outputs": [
    {
     "data": {
      "text/plain": [
       "80847"
      ]
     },
     "execution_count": 26,
     "metadata": {},
     "output_type": "execute_result"
    }
   ],
   "source": [
    "median_income_series.iloc[ 0 ]"
   ]
  },
  {
   "cell_type": "code",
   "execution_count": 27,
   "id": "adf7db3b-f941-4ce4-abc8-2f8ad4245623",
   "metadata": {},
   "outputs": [
    {
     "data": {
      "text/plain": [
       "Alexandria    80847\n",
       "Arlington     94880\n",
       "dtype: int32"
      ]
     },
     "execution_count": 27,
     "metadata": {},
     "output_type": "execute_result"
    }
   ],
   "source": [
    "median_income_series.iloc[ [ 0,2 ] ]"
   ]
  },
  {
   "cell_type": "code",
   "execution_count": 28,
   "id": "f0ead87f-f2f6-4cfb-820e-4b4bb535a1c5",
   "metadata": {},
   "outputs": [],
   "source": [
    "households_dict = {\n",
    "    \"Alexandria\": 68082,\n",
    "    \"Amherst\": 12560,\n",
    "    \"Arlington\": 98050,\n",
    "    \"Augusta\": 28516,\n",
    "    \"Bedford\": 27465,\n",
    "    \"Botetourt\": 13126,\n",
    "    \"Fairfax\": 391627,\n",
    "    \"Falls Church\":\t5101,\n",
    "    \"Prince William\": 130785,\n",
    "}"
   ]
  },
  {
   "cell_type": "code",
   "execution_count": 29,
   "id": "12147f90-8c7c-4711-8e95-90293c3bf77f",
   "metadata": {},
   "outputs": [
    {
     "data": {
      "text/plain": [
       "Alexandria         68082\n",
       "Amherst            12560\n",
       "Arlington          98050\n",
       "Augusta            28516\n",
       "Bedford            27465\n",
       "Botetourt          13126\n",
       "Fairfax           391627\n",
       "Falls Church        5101\n",
       "Prince William    130785\n",
       "dtype: int64"
      ]
     },
     "execution_count": 29,
     "metadata": {},
     "output_type": "execute_result"
    }
   ],
   "source": [
    "households_series = pd.Series(households_dict)\n",
    "\n",
    "households_series"
   ]
  },
  {
   "cell_type": "code",
   "execution_count": 30,
   "id": "9e6e5152-f412-4cb0-bedd-675970ab19b4",
   "metadata": {},
   "outputs": [
    {
     "data": {
      "text/html": [
       "<div>\n",
       "<style scoped>\n",
       "    .dataframe tbody tr th:only-of-type {\n",
       "        vertical-align: middle;\n",
       "    }\n",
       "\n",
       "    .dataframe tbody tr th {\n",
       "        vertical-align: top;\n",
       "    }\n",
       "\n",
       "    .dataframe thead th {\n",
       "        text-align: right;\n",
       "    }\n",
       "</style>\n",
       "<table border=\"1\" class=\"dataframe\">\n",
       "  <thead>\n",
       "    <tr style=\"text-align: right;\">\n",
       "      <th></th>\n",
       "      <th>median_income</th>\n",
       "      <th>households</th>\n",
       "    </tr>\n",
       "  </thead>\n",
       "  <tbody>\n",
       "    <tr>\n",
       "      <th>Alexandria</th>\n",
       "      <td>80847</td>\n",
       "      <td>68082</td>\n",
       "    </tr>\n",
       "    <tr>\n",
       "      <th>Amherst</th>\n",
       "      <td>44757</td>\n",
       "      <td>12560</td>\n",
       "    </tr>\n",
       "    <tr>\n",
       "      <th>Arlington</th>\n",
       "      <td>94880</td>\n",
       "      <td>98050</td>\n",
       "    </tr>\n",
       "    <tr>\n",
       "      <th>Augusta</th>\n",
       "      <td>50612</td>\n",
       "      <td>28516</td>\n",
       "    </tr>\n",
       "    <tr>\n",
       "      <th>Bedford</th>\n",
       "      <td>54110</td>\n",
       "      <td>27465</td>\n",
       "    </tr>\n",
       "    <tr>\n",
       "      <th>Botetourt</th>\n",
       "      <td>64724</td>\n",
       "      <td>13126</td>\n",
       "    </tr>\n",
       "    <tr>\n",
       "      <th>Fairfax</th>\n",
       "      <td>105416</td>\n",
       "      <td>391627</td>\n",
       "    </tr>\n",
       "    <tr>\n",
       "      <th>Falls Church</th>\n",
       "      <td>114409</td>\n",
       "      <td>5101</td>\n",
       "    </tr>\n",
       "    <tr>\n",
       "      <th>Prince William</th>\n",
       "      <td>91098</td>\n",
       "      <td>130785</td>\n",
       "    </tr>\n",
       "  </tbody>\n",
       "</table>\n",
       "</div>"
      ],
      "text/plain": [
       "                median_income  households\n",
       "Alexandria              80847       68082\n",
       "Amherst                 44757       12560\n",
       "Arlington               94880       98050\n",
       "Augusta                 50612       28516\n",
       "Bedford                 54110       27465\n",
       "Botetourt               64724       13126\n",
       "Fairfax                105416      391627\n",
       "Falls Church           114409        5101\n",
       "Prince William          91098      130785"
      ]
     },
     "execution_count": 30,
     "metadata": {},
     "output_type": "execute_result"
    }
   ],
   "source": [
    "counties = pd.DataFrame({\n",
    "    \"median_income\": median_income_series,\n",
    "    \"households\": households_series\n",
    "})\n",
    "\n",
    "counties"
   ]
  },
  {
   "cell_type": "code",
   "execution_count": 31,
   "id": "6d23d91a-fd12-4840-8241-9d2eef19fcbf",
   "metadata": {},
   "outputs": [
    {
     "data": {
      "text/plain": [
       "Index(['median_income', 'households'], dtype='object')"
      ]
     },
     "execution_count": 31,
     "metadata": {},
     "output_type": "execute_result"
    }
   ],
   "source": [
    "counties.columns"
   ]
  },
  {
   "cell_type": "code",
   "execution_count": 32,
   "id": "99a410f4-d77b-4a33-96b6-cc30ecec8ad1",
   "metadata": {},
   "outputs": [
    {
     "data": {
      "text/plain": [
       "Index(['Alexandria', 'Amherst', 'Arlington', 'Augusta', 'Bedford', 'Botetourt',\n",
       "       'Fairfax', 'Falls Church', 'Prince William'],\n",
       "      dtype='object')"
      ]
     },
     "execution_count": 32,
     "metadata": {},
     "output_type": "execute_result"
    }
   ],
   "source": [
    "counties.index"
   ]
  },
  {
   "cell_type": "code",
   "execution_count": 34,
   "id": "eb160048-956c-4d14-8d7f-6faf86003c83",
   "metadata": {},
   "outputs": [
    {
     "data": {
      "text/plain": [
       "array([[ 80847,  68082],\n",
       "       [ 44757,  12560],\n",
       "       [ 94880,  98050],\n",
       "       [ 50612,  28516],\n",
       "       [ 54110,  27465],\n",
       "       [ 64724,  13126],\n",
       "       [105416, 391627],\n",
       "       [114409,   5101],\n",
       "       [ 91098, 130785]], dtype=int64)"
      ]
     },
     "execution_count": 34,
     "metadata": {},
     "output_type": "execute_result"
    }
   ],
   "source": [
    "counties.values"
   ]
  },
  {
   "cell_type": "code",
   "execution_count": 35,
   "id": "43dfde17-6480-439a-9058-63b964579c6c",
   "metadata": {},
   "outputs": [
    {
     "data": {
      "text/plain": [
       "median_income    int32\n",
       "households       int64\n",
       "dtype: object"
      ]
     },
     "execution_count": 35,
     "metadata": {},
     "output_type": "execute_result"
    }
   ],
   "source": [
    "counties.dtypes"
   ]
  },
  {
   "cell_type": "code",
   "execution_count": 36,
   "id": "f9204c54-7857-46f1-9410-cc6e5a5cd2ba",
   "metadata": {},
   "outputs": [
    {
     "data": {
      "text/html": [
       "<div>\n",
       "<style scoped>\n",
       "    .dataframe tbody tr th:only-of-type {\n",
       "        vertical-align: middle;\n",
       "    }\n",
       "\n",
       "    .dataframe tbody tr th {\n",
       "        vertical-align: top;\n",
       "    }\n",
       "\n",
       "    .dataframe thead th {\n",
       "        text-align: right;\n",
       "    }\n",
       "</style>\n",
       "<table border=\"1\" class=\"dataframe\">\n",
       "  <thead>\n",
       "    <tr style=\"text-align: right;\">\n",
       "      <th></th>\n",
       "      <th>Median Income</th>\n",
       "      <th>Households</th>\n",
       "    </tr>\n",
       "  </thead>\n",
       "  <tbody>\n",
       "    <tr>\n",
       "      <th>Alexandria</th>\n",
       "      <td>80847</td>\n",
       "      <td>68082</td>\n",
       "    </tr>\n",
       "    <tr>\n",
       "      <th>Amherst</th>\n",
       "      <td>44757</td>\n",
       "      <td>12560</td>\n",
       "    </tr>\n",
       "    <tr>\n",
       "      <th>Arlington</th>\n",
       "      <td>94880</td>\n",
       "      <td>98050</td>\n",
       "    </tr>\n",
       "    <tr>\n",
       "      <th>Augusta</th>\n",
       "      <td>50612</td>\n",
       "      <td>28516</td>\n",
       "    </tr>\n",
       "    <tr>\n",
       "      <th>Bedford</th>\n",
       "      <td>54110</td>\n",
       "      <td>27465</td>\n",
       "    </tr>\n",
       "    <tr>\n",
       "      <th>Botetourt</th>\n",
       "      <td>64724</td>\n",
       "      <td>13126</td>\n",
       "    </tr>\n",
       "    <tr>\n",
       "      <th>Fairfax</th>\n",
       "      <td>105416</td>\n",
       "      <td>391627</td>\n",
       "    </tr>\n",
       "    <tr>\n",
       "      <th>Falls Church</th>\n",
       "      <td>114409</td>\n",
       "      <td>5101</td>\n",
       "    </tr>\n",
       "    <tr>\n",
       "      <th>Prince William</th>\n",
       "      <td>91098</td>\n",
       "      <td>130785</td>\n",
       "    </tr>\n",
       "  </tbody>\n",
       "</table>\n",
       "</div>"
      ],
      "text/plain": [
       "                Median Income  Households\n",
       "Alexandria              80847       68082\n",
       "Amherst                 44757       12560\n",
       "Arlington               94880       98050\n",
       "Augusta                 50612       28516\n",
       "Bedford                 54110       27465\n",
       "Botetourt               64724       13126\n",
       "Fairfax                105416      391627\n",
       "Falls Church           114409        5101\n",
       "Prince William          91098      130785"
      ]
     },
     "execution_count": 36,
     "metadata": {},
     "output_type": "execute_result"
    }
   ],
   "source": [
    "counties.columns = [ \"Median Income\", \"Households\" ]\n",
    "\n",
    "counties"
   ]
  },
  {
   "cell_type": "code",
   "execution_count": 37,
   "id": "307be250-5186-404b-b014-a3a400fb2018",
   "metadata": {},
   "outputs": [
    {
     "data": {
      "text/plain": [
       "Alexandria      Median Income     80847\n",
       "                Households        68082\n",
       "Amherst         Median Income     44757\n",
       "                Households        12560\n",
       "Arlington       Median Income     94880\n",
       "                Households        98050\n",
       "Augusta         Median Income     50612\n",
       "                Households        28516\n",
       "Bedford         Median Income     54110\n",
       "                Households        27465\n",
       "Botetourt       Median Income     64724\n",
       "                Households        13126\n",
       "Fairfax         Median Income    105416\n",
       "                Households       391627\n",
       "Falls Church    Median Income    114409\n",
       "                Households         5101\n",
       "Prince William  Median Income     91098\n",
       "                Households       130785\n",
       "dtype: int64"
      ]
     },
     "execution_count": 37,
     "metadata": {},
     "output_type": "execute_result"
    }
   ],
   "source": [
    "counties2 = counties.stack()\n",
    "\n",
    "counties2"
   ]
  },
  {
   "cell_type": "code",
   "execution_count": 38,
   "id": "0e1e6449-05de-47f5-bfcb-a4e067a7f3d6",
   "metadata": {},
   "outputs": [
    {
     "data": {
      "text/plain": [
       "MultiIndex([(    'Alexandria', 'Median Income'),\n",
       "            (    'Alexandria',    'Households'),\n",
       "            (       'Amherst', 'Median Income'),\n",
       "            (       'Amherst',    'Households'),\n",
       "            (     'Arlington', 'Median Income'),\n",
       "            (     'Arlington',    'Households'),\n",
       "            (       'Augusta', 'Median Income'),\n",
       "            (       'Augusta',    'Households'),\n",
       "            (       'Bedford', 'Median Income'),\n",
       "            (       'Bedford',    'Households'),\n",
       "            (     'Botetourt', 'Median Income'),\n",
       "            (     'Botetourt',    'Households'),\n",
       "            (       'Fairfax', 'Median Income'),\n",
       "            (       'Fairfax',    'Households'),\n",
       "            (  'Falls Church', 'Median Income'),\n",
       "            (  'Falls Church',    'Households'),\n",
       "            ('Prince William', 'Median Income'),\n",
       "            ('Prince William',    'Households')],\n",
       "           )"
      ]
     },
     "execution_count": 38,
     "metadata": {},
     "output_type": "execute_result"
    }
   ],
   "source": [
    "counties2.index"
   ]
  },
  {
   "cell_type": "code",
   "execution_count": 39,
   "id": "b7236d77-26cd-4e0d-afa2-6e678a7dfc45",
   "metadata": {},
   "outputs": [
    {
     "data": {
      "text/plain": [
       "pandas.core.series.Series"
      ]
     },
     "execution_count": 39,
     "metadata": {},
     "output_type": "execute_result"
    }
   ],
   "source": [
    "type(counties2)"
   ]
  },
  {
   "cell_type": "code",
   "execution_count": 40,
   "id": "9e1a46e9-d6e6-4178-986a-46680e4751c5",
   "metadata": {},
   "outputs": [
    {
     "data": {
      "text/plain": [
       "array([ 80847,  68082,  44757,  12560,  94880,  98050,  50612,  28516,\n",
       "        54110,  27465,  64724,  13126, 105416, 391627, 114409,   5101,\n",
       "        91098, 130785], dtype=int64)"
      ]
     },
     "execution_count": 40,
     "metadata": {},
     "output_type": "execute_result"
    }
   ],
   "source": [
    "counties2.values"
   ]
  },
  {
   "cell_type": "code",
   "execution_count": 42,
   "id": "7e172fe6-d070-436b-940b-de51c902b22d",
   "metadata": {},
   "outputs": [
    {
     "data": {
      "text/html": [
       "<div>\n",
       "<style scoped>\n",
       "    .dataframe tbody tr th:only-of-type {\n",
       "        vertical-align: middle;\n",
       "    }\n",
       "\n",
       "    .dataframe tbody tr th {\n",
       "        vertical-align: top;\n",
       "    }\n",
       "\n",
       "    .dataframe thead th {\n",
       "        text-align: right;\n",
       "    }\n",
       "</style>\n",
       "<table border=\"1\" class=\"dataframe\">\n",
       "  <thead>\n",
       "    <tr style=\"text-align: right;\">\n",
       "      <th></th>\n",
       "      <th>Alexandria</th>\n",
       "      <th>Amherst</th>\n",
       "      <th>Arlington</th>\n",
       "      <th>Augusta</th>\n",
       "      <th>Bedford</th>\n",
       "      <th>Botetourt</th>\n",
       "      <th>Fairfax</th>\n",
       "      <th>Falls Church</th>\n",
       "      <th>Prince William</th>\n",
       "    </tr>\n",
       "  </thead>\n",
       "  <tbody>\n",
       "    <tr>\n",
       "      <th>Median Income</th>\n",
       "      <td>80847</td>\n",
       "      <td>44757</td>\n",
       "      <td>94880</td>\n",
       "      <td>50612</td>\n",
       "      <td>54110</td>\n",
       "      <td>64724</td>\n",
       "      <td>105416</td>\n",
       "      <td>114409</td>\n",
       "      <td>91098</td>\n",
       "    </tr>\n",
       "    <tr>\n",
       "      <th>Households</th>\n",
       "      <td>68082</td>\n",
       "      <td>12560</td>\n",
       "      <td>98050</td>\n",
       "      <td>28516</td>\n",
       "      <td>27465</td>\n",
       "      <td>13126</td>\n",
       "      <td>391627</td>\n",
       "      <td>5101</td>\n",
       "      <td>130785</td>\n",
       "    </tr>\n",
       "  </tbody>\n",
       "</table>\n",
       "</div>"
      ],
      "text/plain": [
       "               Alexandria  Amherst  Arlington  Augusta  Bedford  Botetourt  \\\n",
       "Median Income       80847    44757      94880    50612    54110      64724   \n",
       "Households          68082    12560      98050    28516    27465      13126   \n",
       "\n",
       "               Fairfax  Falls Church  Prince William  \n",
       "Median Income   105416        114409           91098  \n",
       "Households      391627          5101          130785  "
      ]
     },
     "execution_count": 42,
     "metadata": {},
     "output_type": "execute_result"
    }
   ],
   "source": [
    "counties2.unstack(0)"
   ]
  },
  {
   "cell_type": "code",
   "execution_count": 43,
   "id": "28807ef5-e368-4409-9340-4185d4f96af4",
   "metadata": {},
   "outputs": [
    {
     "data": {
      "text/html": [
       "<div>\n",
       "<style scoped>\n",
       "    .dataframe tbody tr th:only-of-type {\n",
       "        vertical-align: middle;\n",
       "    }\n",
       "\n",
       "    .dataframe tbody tr th {\n",
       "        vertical-align: top;\n",
       "    }\n",
       "\n",
       "    .dataframe thead th {\n",
       "        text-align: right;\n",
       "    }\n",
       "</style>\n",
       "<table border=\"1\" class=\"dataframe\">\n",
       "  <thead>\n",
       "    <tr style=\"text-align: right;\">\n",
       "      <th></th>\n",
       "      <th>Median Income</th>\n",
       "      <th>Households</th>\n",
       "    </tr>\n",
       "  </thead>\n",
       "  <tbody>\n",
       "    <tr>\n",
       "      <th>Alexandria</th>\n",
       "      <td>80847</td>\n",
       "      <td>68082</td>\n",
       "    </tr>\n",
       "    <tr>\n",
       "      <th>Amherst</th>\n",
       "      <td>44757</td>\n",
       "      <td>12560</td>\n",
       "    </tr>\n",
       "    <tr>\n",
       "      <th>Arlington</th>\n",
       "      <td>94880</td>\n",
       "      <td>98050</td>\n",
       "    </tr>\n",
       "    <tr>\n",
       "      <th>Augusta</th>\n",
       "      <td>50612</td>\n",
       "      <td>28516</td>\n",
       "    </tr>\n",
       "    <tr>\n",
       "      <th>Bedford</th>\n",
       "      <td>54110</td>\n",
       "      <td>27465</td>\n",
       "    </tr>\n",
       "    <tr>\n",
       "      <th>Botetourt</th>\n",
       "      <td>64724</td>\n",
       "      <td>13126</td>\n",
       "    </tr>\n",
       "    <tr>\n",
       "      <th>Fairfax</th>\n",
       "      <td>105416</td>\n",
       "      <td>391627</td>\n",
       "    </tr>\n",
       "    <tr>\n",
       "      <th>Falls Church</th>\n",
       "      <td>114409</td>\n",
       "      <td>5101</td>\n",
       "    </tr>\n",
       "    <tr>\n",
       "      <th>Prince William</th>\n",
       "      <td>91098</td>\n",
       "      <td>130785</td>\n",
       "    </tr>\n",
       "  </tbody>\n",
       "</table>\n",
       "</div>"
      ],
      "text/plain": [
       "                Median Income  Households\n",
       "Alexandria              80847       68082\n",
       "Amherst                 44757       12560\n",
       "Arlington               94880       98050\n",
       "Augusta                 50612       28516\n",
       "Bedford                 54110       27465\n",
       "Botetourt               64724       13126\n",
       "Fairfax                105416      391627\n",
       "Falls Church           114409        5101\n",
       "Prince William          91098      130785"
      ]
     },
     "execution_count": 43,
     "metadata": {},
     "output_type": "execute_result"
    }
   ],
   "source": [
    "counties"
   ]
  },
  {
   "cell_type": "code",
   "execution_count": 46,
   "id": "2edf35be-dbd9-4386-aa5d-0f5213759974",
   "metadata": {},
   "outputs": [
    {
     "data": {
      "text/plain": [
       "Alexandria         80847\n",
       "Amherst            44757\n",
       "Arlington          94880\n",
       "Augusta            50612\n",
       "Bedford            54110\n",
       "Botetourt          64724\n",
       "Fairfax           105416\n",
       "Falls Church      114409\n",
       "Prince William     91098\n",
       "Name: Median Income, dtype: int32"
      ]
     },
     "execution_count": 46,
     "metadata": {},
     "output_type": "execute_result"
    }
   ],
   "source": [
    "counties[\"Median Income\"]"
   ]
  },
  {
   "cell_type": "code",
   "execution_count": 48,
   "id": "f50d3e49-506f-480e-945a-95e495501497",
   "metadata": {},
   "outputs": [
    {
     "data": {
      "text/html": [
       "<div>\n",
       "<style scoped>\n",
       "    .dataframe tbody tr th:only-of-type {\n",
       "        vertical-align: middle;\n",
       "    }\n",
       "\n",
       "    .dataframe tbody tr th {\n",
       "        vertical-align: top;\n",
       "    }\n",
       "\n",
       "    .dataframe thead th {\n",
       "        text-align: right;\n",
       "    }\n",
       "</style>\n",
       "<table border=\"1\" class=\"dataframe\">\n",
       "  <thead>\n",
       "    <tr style=\"text-align: right;\">\n",
       "      <th></th>\n",
       "      <th>Median Income</th>\n",
       "      <th>Households</th>\n",
       "    </tr>\n",
       "  </thead>\n",
       "  <tbody>\n",
       "    <tr>\n",
       "      <th>Alexandria</th>\n",
       "      <td>80847</td>\n",
       "      <td>68082</td>\n",
       "    </tr>\n",
       "    <tr>\n",
       "      <th>Amherst</th>\n",
       "      <td>44757</td>\n",
       "      <td>12560</td>\n",
       "    </tr>\n",
       "    <tr>\n",
       "      <th>Arlington</th>\n",
       "      <td>94880</td>\n",
       "      <td>98050</td>\n",
       "    </tr>\n",
       "    <tr>\n",
       "      <th>Augusta</th>\n",
       "      <td>50612</td>\n",
       "      <td>28516</td>\n",
       "    </tr>\n",
       "  </tbody>\n",
       "</table>\n",
       "</div>"
      ],
      "text/plain": [
       "            Median Income  Households\n",
       "Alexandria          80847       68082\n",
       "Amherst             44757       12560\n",
       "Arlington           94880       98050\n",
       "Augusta             50612       28516"
      ]
     },
     "execution_count": 48,
     "metadata": {},
     "output_type": "execute_result"
    }
   ],
   "source": [
    "counties[\"Alexandria\":\"Augusta\"]"
   ]
  },
  {
   "cell_type": "code",
   "execution_count": 50,
   "id": "ed8ad067-477b-42cd-ba40-3b7a7ce0a38a",
   "metadata": {},
   "outputs": [
    {
     "data": {
      "text/html": [
       "<div>\n",
       "<style scoped>\n",
       "    .dataframe tbody tr th:only-of-type {\n",
       "        vertical-align: middle;\n",
       "    }\n",
       "\n",
       "    .dataframe tbody tr th {\n",
       "        vertical-align: top;\n",
       "    }\n",
       "\n",
       "    .dataframe thead th {\n",
       "        text-align: right;\n",
       "    }\n",
       "</style>\n",
       "<table border=\"1\" class=\"dataframe\">\n",
       "  <thead>\n",
       "    <tr style=\"text-align: right;\">\n",
       "      <th></th>\n",
       "      <th>Median Income</th>\n",
       "      <th>Households</th>\n",
       "    </tr>\n",
       "  </thead>\n",
       "  <tbody>\n",
       "    <tr>\n",
       "      <th>Alexandria</th>\n",
       "      <td>80847</td>\n",
       "      <td>68082</td>\n",
       "    </tr>\n",
       "    <tr>\n",
       "      <th>Amherst</th>\n",
       "      <td>44757</td>\n",
       "      <td>12560</td>\n",
       "    </tr>\n",
       "    <tr>\n",
       "      <th>Arlington</th>\n",
       "      <td>94880</td>\n",
       "      <td>98050</td>\n",
       "    </tr>\n",
       "    <tr>\n",
       "      <th>Augusta</th>\n",
       "      <td>50612</td>\n",
       "      <td>28516</td>\n",
       "    </tr>\n",
       "    <tr>\n",
       "      <th>Bedford</th>\n",
       "      <td>54110</td>\n",
       "      <td>27465</td>\n",
       "    </tr>\n",
       "    <tr>\n",
       "      <th>Botetourt</th>\n",
       "      <td>64724</td>\n",
       "      <td>13126</td>\n",
       "    </tr>\n",
       "    <tr>\n",
       "      <th>Fairfax</th>\n",
       "      <td>105416</td>\n",
       "      <td>391627</td>\n",
       "    </tr>\n",
       "    <tr>\n",
       "      <th>Falls Church</th>\n",
       "      <td>114409</td>\n",
       "      <td>5101</td>\n",
       "    </tr>\n",
       "    <tr>\n",
       "      <th>Prince William</th>\n",
       "      <td>91098</td>\n",
       "      <td>130785</td>\n",
       "    </tr>\n",
       "  </tbody>\n",
       "</table>\n",
       "</div>"
      ],
      "text/plain": [
       "                Median Income  Households\n",
       "Alexandria              80847       68082\n",
       "Amherst                 44757       12560\n",
       "Arlington               94880       98050\n",
       "Augusta                 50612       28516\n",
       "Bedford                 54110       27465\n",
       "Botetourt               64724       13126\n",
       "Fairfax                105416      391627\n",
       "Falls Church           114409        5101\n",
       "Prince William          91098      130785"
      ]
     },
     "execution_count": 50,
     "metadata": {},
     "output_type": "execute_result"
    }
   ],
   "source": [
    "counties[ [\"Median Income\", \"Households\"] ]"
   ]
  },
  {
   "cell_type": "code",
   "execution_count": 52,
   "id": "39506d4c-2f9c-489e-9833-68e46f1e7a31",
   "metadata": {},
   "outputs": [
    {
     "data": {
      "text/html": [
       "<div>\n",
       "<style scoped>\n",
       "    .dataframe tbody tr th:only-of-type {\n",
       "        vertical-align: middle;\n",
       "    }\n",
       "\n",
       "    .dataframe tbody tr th {\n",
       "        vertical-align: top;\n",
       "    }\n",
       "\n",
       "    .dataframe thead th {\n",
       "        text-align: right;\n",
       "    }\n",
       "</style>\n",
       "<table border=\"1\" class=\"dataframe\">\n",
       "  <thead>\n",
       "    <tr style=\"text-align: right;\">\n",
       "      <th></th>\n",
       "      <th>Median Income</th>\n",
       "      <th>Households</th>\n",
       "    </tr>\n",
       "  </thead>\n",
       "  <tbody>\n",
       "    <tr>\n",
       "      <th>Alexandria</th>\n",
       "      <td>80847</td>\n",
       "      <td>68082</td>\n",
       "    </tr>\n",
       "    <tr>\n",
       "      <th>Augusta</th>\n",
       "      <td>50612</td>\n",
       "      <td>28516</td>\n",
       "    </tr>\n",
       "  </tbody>\n",
       "</table>\n",
       "</div>"
      ],
      "text/plain": [
       "            Median Income  Households\n",
       "Alexandria          80847       68082\n",
       "Augusta             50612       28516"
      ]
     },
     "execution_count": 52,
     "metadata": {},
     "output_type": "execute_result"
    }
   ],
   "source": [
    "counties.loc[ [\"Alexandria\",\"Augusta\"] ]"
   ]
  },
  {
   "cell_type": "code",
   "execution_count": 53,
   "id": "f5e8bb84-7f3b-4462-8068-e558a96687fb",
   "metadata": {},
   "outputs": [],
   "source": [
    "counties[\"Region\"] = [\n",
    "    \"Northern\",\n",
    "    \"Central\",\n",
    "    \"Northern\",\n",
    "    \"Central\",\n",
    "    \"Central\",\n",
    "    \"Southwestern\",\n",
    "    \"Northern\",\n",
    "    \"Northern\",\n",
    "    \"Northern\",\n",
    "]"
   ]
  },
  {
   "cell_type": "code",
   "execution_count": 54,
   "id": "4c87594e-7eab-420d-8455-2ffef74b96dc",
   "metadata": {},
   "outputs": [
    {
     "data": {
      "text/html": [
       "<div>\n",
       "<style scoped>\n",
       "    .dataframe tbody tr th:only-of-type {\n",
       "        vertical-align: middle;\n",
       "    }\n",
       "\n",
       "    .dataframe tbody tr th {\n",
       "        vertical-align: top;\n",
       "    }\n",
       "\n",
       "    .dataframe thead th {\n",
       "        text-align: right;\n",
       "    }\n",
       "</style>\n",
       "<table border=\"1\" class=\"dataframe\">\n",
       "  <thead>\n",
       "    <tr style=\"text-align: right;\">\n",
       "      <th></th>\n",
       "      <th>Median Income</th>\n",
       "      <th>Households</th>\n",
       "      <th>Region</th>\n",
       "    </tr>\n",
       "  </thead>\n",
       "  <tbody>\n",
       "    <tr>\n",
       "      <th>Alexandria</th>\n",
       "      <td>80847</td>\n",
       "      <td>68082</td>\n",
       "      <td>Northern</td>\n",
       "    </tr>\n",
       "    <tr>\n",
       "      <th>Amherst</th>\n",
       "      <td>44757</td>\n",
       "      <td>12560</td>\n",
       "      <td>Central</td>\n",
       "    </tr>\n",
       "    <tr>\n",
       "      <th>Arlington</th>\n",
       "      <td>94880</td>\n",
       "      <td>98050</td>\n",
       "      <td>Northern</td>\n",
       "    </tr>\n",
       "    <tr>\n",
       "      <th>Augusta</th>\n",
       "      <td>50612</td>\n",
       "      <td>28516</td>\n",
       "      <td>Central</td>\n",
       "    </tr>\n",
       "    <tr>\n",
       "      <th>Bedford</th>\n",
       "      <td>54110</td>\n",
       "      <td>27465</td>\n",
       "      <td>Central</td>\n",
       "    </tr>\n",
       "    <tr>\n",
       "      <th>Botetourt</th>\n",
       "      <td>64724</td>\n",
       "      <td>13126</td>\n",
       "      <td>Southwestern</td>\n",
       "    </tr>\n",
       "    <tr>\n",
       "      <th>Fairfax</th>\n",
       "      <td>105416</td>\n",
       "      <td>391627</td>\n",
       "      <td>Northern</td>\n",
       "    </tr>\n",
       "    <tr>\n",
       "      <th>Falls Church</th>\n",
       "      <td>114409</td>\n",
       "      <td>5101</td>\n",
       "      <td>Northern</td>\n",
       "    </tr>\n",
       "    <tr>\n",
       "      <th>Prince William</th>\n",
       "      <td>91098</td>\n",
       "      <td>130785</td>\n",
       "      <td>Northern</td>\n",
       "    </tr>\n",
       "  </tbody>\n",
       "</table>\n",
       "</div>"
      ],
      "text/plain": [
       "                Median Income  Households        Region\n",
       "Alexandria              80847       68082      Northern\n",
       "Amherst                 44757       12560       Central\n",
       "Arlington               94880       98050      Northern\n",
       "Augusta                 50612       28516       Central\n",
       "Bedford                 54110       27465       Central\n",
       "Botetourt               64724       13126  Southwestern\n",
       "Fairfax                105416      391627      Northern\n",
       "Falls Church           114409        5101      Northern\n",
       "Prince William          91098      130785      Northern"
      ]
     },
     "execution_count": 54,
     "metadata": {},
     "output_type": "execute_result"
    }
   ],
   "source": [
    "counties"
   ]
  },
  {
   "cell_type": "code",
   "execution_count": 56,
   "id": "42823223-f6d6-4f14-9184-00369c47319f",
   "metadata": {},
   "outputs": [
    {
     "data": {
      "text/html": [
       "<div>\n",
       "<style scoped>\n",
       "    .dataframe tbody tr th:only-of-type {\n",
       "        vertical-align: middle;\n",
       "    }\n",
       "\n",
       "    .dataframe tbody tr th {\n",
       "        vertical-align: top;\n",
       "    }\n",
       "\n",
       "    .dataframe thead th {\n",
       "        text-align: right;\n",
       "    }\n",
       "</style>\n",
       "<table border=\"1\" class=\"dataframe\">\n",
       "  <thead>\n",
       "    <tr style=\"text-align: right;\">\n",
       "      <th></th>\n",
       "      <th>Median Income</th>\n",
       "      <th>Households</th>\n",
       "      <th>Region</th>\n",
       "      <th>Total Household Income</th>\n",
       "    </tr>\n",
       "  </thead>\n",
       "  <tbody>\n",
       "    <tr>\n",
       "      <th>Alexandria</th>\n",
       "      <td>80847</td>\n",
       "      <td>68082</td>\n",
       "      <td>Northern</td>\n",
       "      <td>5504225454</td>\n",
       "    </tr>\n",
       "    <tr>\n",
       "      <th>Amherst</th>\n",
       "      <td>44757</td>\n",
       "      <td>12560</td>\n",
       "      <td>Central</td>\n",
       "      <td>562147920</td>\n",
       "    </tr>\n",
       "    <tr>\n",
       "      <th>Arlington</th>\n",
       "      <td>94880</td>\n",
       "      <td>98050</td>\n",
       "      <td>Northern</td>\n",
       "      <td>9302984000</td>\n",
       "    </tr>\n",
       "    <tr>\n",
       "      <th>Augusta</th>\n",
       "      <td>50612</td>\n",
       "      <td>28516</td>\n",
       "      <td>Central</td>\n",
       "      <td>1443251792</td>\n",
       "    </tr>\n",
       "    <tr>\n",
       "      <th>Bedford</th>\n",
       "      <td>54110</td>\n",
       "      <td>27465</td>\n",
       "      <td>Central</td>\n",
       "      <td>1486131150</td>\n",
       "    </tr>\n",
       "    <tr>\n",
       "      <th>Botetourt</th>\n",
       "      <td>64724</td>\n",
       "      <td>13126</td>\n",
       "      <td>Southwestern</td>\n",
       "      <td>849567224</td>\n",
       "    </tr>\n",
       "    <tr>\n",
       "      <th>Fairfax</th>\n",
       "      <td>105416</td>\n",
       "      <td>391627</td>\n",
       "      <td>Northern</td>\n",
       "      <td>41283751832</td>\n",
       "    </tr>\n",
       "    <tr>\n",
       "      <th>Falls Church</th>\n",
       "      <td>114409</td>\n",
       "      <td>5101</td>\n",
       "      <td>Northern</td>\n",
       "      <td>583600309</td>\n",
       "    </tr>\n",
       "    <tr>\n",
       "      <th>Prince William</th>\n",
       "      <td>91098</td>\n",
       "      <td>130785</td>\n",
       "      <td>Northern</td>\n",
       "      <td>11914251930</td>\n",
       "    </tr>\n",
       "  </tbody>\n",
       "</table>\n",
       "</div>"
      ],
      "text/plain": [
       "                Median Income  Households        Region  \\\n",
       "Alexandria              80847       68082      Northern   \n",
       "Amherst                 44757       12560       Central   \n",
       "Arlington               94880       98050      Northern   \n",
       "Augusta                 50612       28516       Central   \n",
       "Bedford                 54110       27465       Central   \n",
       "Botetourt               64724       13126  Southwestern   \n",
       "Fairfax                105416      391627      Northern   \n",
       "Falls Church           114409        5101      Northern   \n",
       "Prince William          91098      130785      Northern   \n",
       "\n",
       "                Total Household Income  \n",
       "Alexandria                  5504225454  \n",
       "Amherst                      562147920  \n",
       "Arlington                   9302984000  \n",
       "Augusta                     1443251792  \n",
       "Bedford                     1486131150  \n",
       "Botetourt                    849567224  \n",
       "Fairfax                    41283751832  \n",
       "Falls Church                 583600309  \n",
       "Prince William             11914251930  "
      ]
     },
     "execution_count": 56,
     "metadata": {},
     "output_type": "execute_result"
    }
   ],
   "source": [
    "counties[\"Total Household Income\"] = counties[\"Median Income\"] * counties[\"Households\"]\n",
    "\n",
    "counties"
   ]
  },
  {
   "cell_type": "code",
   "execution_count": 58,
   "id": "e60575fa-4780-4bd4-bc04-ad8dde24d673",
   "metadata": {},
   "outputs": [],
   "source": [
    "counties.index.name = \"County\"\n",
    "\n",
    "counties.to_csv(\"counties.csv\")"
   ]
  },
  {
   "cell_type": "code",
   "execution_count": 66,
   "id": "d518f346-34a7-467e-aa04-406350830406",
   "metadata": {},
   "outputs": [
    {
     "data": {
      "text/html": [
       "<div>\n",
       "<style scoped>\n",
       "    .dataframe tbody tr th:only-of-type {\n",
       "        vertical-align: middle;\n",
       "    }\n",
       "\n",
       "    .dataframe tbody tr th {\n",
       "        vertical-align: top;\n",
       "    }\n",
       "\n",
       "    .dataframe thead th {\n",
       "        text-align: right;\n",
       "    }\n",
       "</style>\n",
       "<table border=\"1\" class=\"dataframe\">\n",
       "  <thead>\n",
       "    <tr style=\"text-align: right;\">\n",
       "      <th></th>\n",
       "      <th>Median Income</th>\n",
       "      <th>Households</th>\n",
       "      <th>Region</th>\n",
       "      <th>Total Household Income</th>\n",
       "    </tr>\n",
       "    <tr>\n",
       "      <th>County</th>\n",
       "      <th></th>\n",
       "      <th></th>\n",
       "      <th></th>\n",
       "      <th></th>\n",
       "    </tr>\n",
       "  </thead>\n",
       "  <tbody>\n",
       "    <tr>\n",
       "      <th>Alexandria</th>\n",
       "      <td>80847</td>\n",
       "      <td>68082</td>\n",
       "      <td>Northern</td>\n",
       "      <td>5504225454</td>\n",
       "    </tr>\n",
       "    <tr>\n",
       "      <th>Amherst</th>\n",
       "      <td>44757</td>\n",
       "      <td>12560</td>\n",
       "      <td>Central</td>\n",
       "      <td>562147920</td>\n",
       "    </tr>\n",
       "    <tr>\n",
       "      <th>Arlington</th>\n",
       "      <td>94880</td>\n",
       "      <td>98050</td>\n",
       "      <td>Northern</td>\n",
       "      <td>9302984000</td>\n",
       "    </tr>\n",
       "    <tr>\n",
       "      <th>Augusta</th>\n",
       "      <td>50612</td>\n",
       "      <td>28516</td>\n",
       "      <td>Central</td>\n",
       "      <td>1443251792</td>\n",
       "    </tr>\n",
       "    <tr>\n",
       "      <th>Bedford</th>\n",
       "      <td>54110</td>\n",
       "      <td>27465</td>\n",
       "      <td>Central</td>\n",
       "      <td>1486131150</td>\n",
       "    </tr>\n",
       "    <tr>\n",
       "      <th>Botetourt</th>\n",
       "      <td>64724</td>\n",
       "      <td>13126</td>\n",
       "      <td>Southwestern</td>\n",
       "      <td>849567224</td>\n",
       "    </tr>\n",
       "    <tr>\n",
       "      <th>Fairfax</th>\n",
       "      <td>105416</td>\n",
       "      <td>391627</td>\n",
       "      <td>Northern</td>\n",
       "      <td>41283751832</td>\n",
       "    </tr>\n",
       "    <tr>\n",
       "      <th>Falls Church</th>\n",
       "      <td>114409</td>\n",
       "      <td>5101</td>\n",
       "      <td>Northern</td>\n",
       "      <td>583600309</td>\n",
       "    </tr>\n",
       "    <tr>\n",
       "      <th>Prince William</th>\n",
       "      <td>91098</td>\n",
       "      <td>130785</td>\n",
       "      <td>Northern</td>\n",
       "      <td>11914251930</td>\n",
       "    </tr>\n",
       "  </tbody>\n",
       "</table>\n",
       "</div>"
      ],
      "text/plain": [
       "                Median Income  Households        Region  \\\n",
       "County                                                    \n",
       "Alexandria              80847       68082      Northern   \n",
       "Amherst                 44757       12560       Central   \n",
       "Arlington               94880       98050      Northern   \n",
       "Augusta                 50612       28516       Central   \n",
       "Bedford                 54110       27465       Central   \n",
       "Botetourt               64724       13126  Southwestern   \n",
       "Fairfax                105416      391627      Northern   \n",
       "Falls Church           114409        5101      Northern   \n",
       "Prince William          91098      130785      Northern   \n",
       "\n",
       "                Total Household Income  \n",
       "County                                  \n",
       "Alexandria                  5504225454  \n",
       "Amherst                      562147920  \n",
       "Arlington                   9302984000  \n",
       "Augusta                     1443251792  \n",
       "Bedford                     1486131150  \n",
       "Botetourt                    849567224  \n",
       "Fairfax                    41283751832  \n",
       "Falls Church                 583600309  \n",
       "Prince William             11914251930  "
      ]
     },
     "execution_count": 66,
     "metadata": {},
     "output_type": "execute_result"
    }
   ],
   "source": [
    "counties3 = pd.read_csv(\"counties.csv\", index_col=0)\n",
    "\n",
    "counties3"
   ]
  },
  {
   "cell_type": "code",
   "execution_count": 67,
   "id": "6fab2869-9012-46b9-a0de-00eae4b0c64d",
   "metadata": {},
   "outputs": [
    {
     "data": {
      "text/plain": [
       "Index(['Alexandria', 'Amherst', 'Arlington', 'Augusta', 'Bedford', 'Botetourt',\n",
       "       'Fairfax', 'Falls Church', 'Prince William'],\n",
       "      dtype='object', name='County')"
      ]
     },
     "execution_count": 67,
     "metadata": {},
     "output_type": "execute_result"
    }
   ],
   "source": [
    "counties3.index"
   ]
  },
  {
   "cell_type": "code",
   "execution_count": 69,
   "id": "0122e657-daec-499b-a532-62b7b2420d5c",
   "metadata": {},
   "outputs": [
    {
     "data": {
      "text/html": [
       "<div>\n",
       "<style scoped>\n",
       "    .dataframe tbody tr th:only-of-type {\n",
       "        vertical-align: middle;\n",
       "    }\n",
       "\n",
       "    .dataframe tbody tr th {\n",
       "        vertical-align: top;\n",
       "    }\n",
       "\n",
       "    .dataframe thead th {\n",
       "        text-align: right;\n",
       "    }\n",
       "</style>\n",
       "<table border=\"1\" class=\"dataframe\">\n",
       "  <thead>\n",
       "    <tr style=\"text-align: right;\">\n",
       "      <th></th>\n",
       "      <th>Median Income</th>\n",
       "      <th>Households</th>\n",
       "      <th>Total Household Income</th>\n",
       "    </tr>\n",
       "    <tr>\n",
       "      <th>County</th>\n",
       "      <th></th>\n",
       "      <th></th>\n",
       "      <th></th>\n",
       "    </tr>\n",
       "  </thead>\n",
       "  <tbody>\n",
       "    <tr>\n",
       "      <th>Alexandria</th>\n",
       "      <td>80847</td>\n",
       "      <td>68082</td>\n",
       "      <td>5504225454</td>\n",
       "    </tr>\n",
       "    <tr>\n",
       "      <th>Amherst</th>\n",
       "      <td>44757</td>\n",
       "      <td>12560</td>\n",
       "      <td>562147920</td>\n",
       "    </tr>\n",
       "    <tr>\n",
       "      <th>Arlington</th>\n",
       "      <td>94880</td>\n",
       "      <td>98050</td>\n",
       "      <td>9302984000</td>\n",
       "    </tr>\n",
       "    <tr>\n",
       "      <th>Augusta</th>\n",
       "      <td>50612</td>\n",
       "      <td>28516</td>\n",
       "      <td>1443251792</td>\n",
       "    </tr>\n",
       "    <tr>\n",
       "      <th>Bedford</th>\n",
       "      <td>54110</td>\n",
       "      <td>27465</td>\n",
       "      <td>1486131150</td>\n",
       "    </tr>\n",
       "    <tr>\n",
       "      <th>Botetourt</th>\n",
       "      <td>64724</td>\n",
       "      <td>13126</td>\n",
       "      <td>849567224</td>\n",
       "    </tr>\n",
       "    <tr>\n",
       "      <th>Fairfax</th>\n",
       "      <td>105416</td>\n",
       "      <td>391627</td>\n",
       "      <td>41283751832</td>\n",
       "    </tr>\n",
       "    <tr>\n",
       "      <th>Falls Church</th>\n",
       "      <td>114409</td>\n",
       "      <td>5101</td>\n",
       "      <td>583600309</td>\n",
       "    </tr>\n",
       "    <tr>\n",
       "      <th>Prince William</th>\n",
       "      <td>91098</td>\n",
       "      <td>130785</td>\n",
       "      <td>11914251930</td>\n",
       "    </tr>\n",
       "  </tbody>\n",
       "</table>\n",
       "</div>"
      ],
      "text/plain": [
       "                Median Income  Households  Total Household Income\n",
       "County                                                           \n",
       "Alexandria              80847       68082              5504225454\n",
       "Amherst                 44757       12560               562147920\n",
       "Arlington               94880       98050              9302984000\n",
       "Augusta                 50612       28516              1443251792\n",
       "Bedford                 54110       27465              1486131150\n",
       "Botetourt               64724       13126               849567224\n",
       "Fairfax                105416      391627             41283751832\n",
       "Falls Church           114409        5101               583600309\n",
       "Prince William          91098      130785             11914251930"
      ]
     },
     "execution_count": 69,
     "metadata": {},
     "output_type": "execute_result"
    }
   ],
   "source": [
    "counties3.drop(\"Region\", axis=1)"
   ]
  },
  {
   "cell_type": "code",
   "execution_count": 73,
   "id": "0cf333a1-23da-416b-bb68-10a5cb4543a3",
   "metadata": {},
   "outputs": [
    {
     "name": "stdout",
     "output_type": "stream",
     "text": [
      "Collecting package metadata (current_repodata.json): ...working... done\n",
      "Solving environment: ...working... done\n",
      "\n",
      "## Package Plan ##\n",
      "\n",
      "  environment location: C:\\Users\\ericwgreene\\anaconda3\\envs\\jupyter_conda_pm\n",
      "\n",
      "  added / updated specs:\n",
      "    - openpyxl\n",
      "\n",
      "\n",
      "The following NEW packages will be INSTALLED:\n",
      "\n",
      "  et_xmlfile         pkgs/main/win-64::et_xmlfile-1.1.0-py39haa95532_0\n",
      "  jdcal              pkgs/main/noarch::jdcal-1.4.1-py_0\n",
      "  openpyxl           pkgs/main/noarch::openpyxl-3.0.7-pyhd3eb1b0_0\n",
      "\n",
      "The following packages will be SUPERSEDED by a higher-priority channel:\n",
      "\n",
      "  ca-certificates    conda-forge::ca-certificates-2021.5.3~ --> pkgs/main::ca-certificates-2021.5.25-haa95532_1\n",
      "  certifi            conda-forge::certifi-2021.5.30-py39hc~ --> pkgs/main::certifi-2021.5.30-py39haa95532_0\n",
      "  openssl            conda-forge::openssl-1.1.1k-h8ffe710_0 --> pkgs/main::openssl-1.1.1k-h2bbff1b_0\n",
      "\n",
      "\n",
      "Preparing transaction: ...working... done\n",
      "Verifying transaction: ...working... done\n",
      "Executing transaction: ...working... done\n"
     ]
    }
   ],
   "source": [
    "import sys\n",
    "!conda install --yes --prefix {sys.prefix} openpyxl\n",
    "# !pip install openpyxl"
   ]
  },
  {
   "cell_type": "code",
   "execution_count": 82,
   "id": "dc9ac0a0-251c-4f5c-a7d7-c8a0c1b80b2f",
   "metadata": {},
   "outputs": [],
   "source": [
    "import pathlib\n",
    "\n",
    "wine_data_file_name = pathlib.Path(\"exercises\", \"data\", \"Portuguese_VinhoVerde_RedWine_Quality.xlsx\")"
   ]
  },
  {
   "cell_type": "code",
   "execution_count": 83,
   "id": "9006358d-c256-4f60-8847-27c73ab91bb0",
   "metadata": {},
   "outputs": [
    {
     "data": {
      "text/html": [
       "<div>\n",
       "<style scoped>\n",
       "    .dataframe tbody tr th:only-of-type {\n",
       "        vertical-align: middle;\n",
       "    }\n",
       "\n",
       "    .dataframe tbody tr th {\n",
       "        vertical-align: top;\n",
       "    }\n",
       "\n",
       "    .dataframe thead th {\n",
       "        text-align: right;\n",
       "    }\n",
       "</style>\n",
       "<table border=\"1\" class=\"dataframe\">\n",
       "  <thead>\n",
       "    <tr style=\"text-align: right;\">\n",
       "      <th></th>\n",
       "      <th>fixed acidity</th>\n",
       "      <th>volatile acidity</th>\n",
       "      <th>citric acid</th>\n",
       "      <th>residual sugar</th>\n",
       "      <th>chlorides</th>\n",
       "      <th>free sulfur dioxide</th>\n",
       "      <th>total sulfur dioxide</th>\n",
       "      <th>density</th>\n",
       "      <th>pH</th>\n",
       "      <th>sulphates</th>\n",
       "      <th>alcohol</th>\n",
       "      <th>quality</th>\n",
       "    </tr>\n",
       "  </thead>\n",
       "  <tbody>\n",
       "    <tr>\n",
       "      <th>0</th>\n",
       "      <td>11.6</td>\n",
       "      <td>0.580</td>\n",
       "      <td>0.66</td>\n",
       "      <td>2.20</td>\n",
       "      <td>0.074</td>\n",
       "      <td>10.0</td>\n",
       "      <td>47.0</td>\n",
       "      <td>1.00080</td>\n",
       "      <td>3.25</td>\n",
       "      <td>0.57</td>\n",
       "      <td>9.0</td>\n",
       "      <td>3</td>\n",
       "    </tr>\n",
       "    <tr>\n",
       "      <th>1</th>\n",
       "      <td>10.4</td>\n",
       "      <td>0.610</td>\n",
       "      <td>0.49</td>\n",
       "      <td>2.10</td>\n",
       "      <td>0.200</td>\n",
       "      <td>5.0</td>\n",
       "      <td>16.0</td>\n",
       "      <td>0.99940</td>\n",
       "      <td>3.16</td>\n",
       "      <td>0.63</td>\n",
       "      <td>8.4</td>\n",
       "      <td>3</td>\n",
       "    </tr>\n",
       "    <tr>\n",
       "      <th>2</th>\n",
       "      <td>7.4</td>\n",
       "      <td>1.185</td>\n",
       "      <td>0.00</td>\n",
       "      <td>4.25</td>\n",
       "      <td>0.097</td>\n",
       "      <td>5.0</td>\n",
       "      <td>14.0</td>\n",
       "      <td>0.99660</td>\n",
       "      <td>3.63</td>\n",
       "      <td>0.54</td>\n",
       "      <td>10.7</td>\n",
       "      <td>3</td>\n",
       "    </tr>\n",
       "    <tr>\n",
       "      <th>3</th>\n",
       "      <td>10.4</td>\n",
       "      <td>0.440</td>\n",
       "      <td>0.42</td>\n",
       "      <td>1.50</td>\n",
       "      <td>0.145</td>\n",
       "      <td>34.0</td>\n",
       "      <td>48.0</td>\n",
       "      <td>0.99832</td>\n",
       "      <td>3.38</td>\n",
       "      <td>0.86</td>\n",
       "      <td>9.9</td>\n",
       "      <td>3</td>\n",
       "    </tr>\n",
       "    <tr>\n",
       "      <th>4</th>\n",
       "      <td>8.3</td>\n",
       "      <td>1.020</td>\n",
       "      <td>0.02</td>\n",
       "      <td>3.40</td>\n",
       "      <td>0.084</td>\n",
       "      <td>6.0</td>\n",
       "      <td>11.0</td>\n",
       "      <td>0.99892</td>\n",
       "      <td>3.48</td>\n",
       "      <td>0.49</td>\n",
       "      <td>11.0</td>\n",
       "      <td>3</td>\n",
       "    </tr>\n",
       "  </tbody>\n",
       "</table>\n",
       "</div>"
      ],
      "text/plain": [
       "   fixed acidity  volatile acidity  citric acid  residual sugar  chlorides  \\\n",
       "0           11.6             0.580         0.66            2.20      0.074   \n",
       "1           10.4             0.610         0.49            2.10      0.200   \n",
       "2            7.4             1.185         0.00            4.25      0.097   \n",
       "3           10.4             0.440         0.42            1.50      0.145   \n",
       "4            8.3             1.020         0.02            3.40      0.084   \n",
       "\n",
       "   free sulfur dioxide  total sulfur dioxide  density    pH  sulphates  \\\n",
       "0                 10.0                  47.0  1.00080  3.25       0.57   \n",
       "1                  5.0                  16.0  0.99940  3.16       0.63   \n",
       "2                  5.0                  14.0  0.99660  3.63       0.54   \n",
       "3                 34.0                  48.0  0.99832  3.38       0.86   \n",
       "4                  6.0                  11.0  0.99892  3.48       0.49   \n",
       "\n",
       "   alcohol  quality  \n",
       "0      9.0        3  \n",
       "1      8.4        3  \n",
       "2     10.7        3  \n",
       "3      9.9        3  \n",
       "4     11.0        3  "
      ]
     },
     "execution_count": 83,
     "metadata": {},
     "output_type": "execute_result"
    }
   ],
   "source": [
    "wine_data = pd.read_excel(wine_data_file_name, \"data\")\n",
    "\n",
    "wine_data.head()"
   ]
  },
  {
   "cell_type": "code",
   "execution_count": 84,
   "id": "d6ca9f78-c44c-4147-8c63-4f85b895b7e4",
   "metadata": {},
   "outputs": [
    {
     "data": {
      "text/plain": [
       "153504"
      ]
     },
     "execution_count": 84,
     "metadata": {},
     "output_type": "execute_result"
    }
   ],
   "source": [
    "wine_data.values.nbytes"
   ]
  },
  {
   "cell_type": "code",
   "execution_count": 77,
   "id": "603a5963-c44a-40e5-b139-0a7851c5a380",
   "metadata": {},
   "outputs": [
    {
     "data": {
      "text/html": [
       "<div>\n",
       "<style scoped>\n",
       "    .dataframe tbody tr th:only-of-type {\n",
       "        vertical-align: middle;\n",
       "    }\n",
       "\n",
       "    .dataframe tbody tr th {\n",
       "        vertical-align: top;\n",
       "    }\n",
       "\n",
       "    .dataframe thead th {\n",
       "        text-align: right;\n",
       "    }\n",
       "</style>\n",
       "<table border=\"1\" class=\"dataframe\">\n",
       "  <thead>\n",
       "    <tr style=\"text-align: right;\">\n",
       "      <th></th>\n",
       "      <th>Name</th>\n",
       "      <th>Description</th>\n",
       "    </tr>\n",
       "  </thead>\n",
       "  <tbody>\n",
       "    <tr>\n",
       "      <th>0</th>\n",
       "      <td>fixed acidity</td>\n",
       "      <td>most acids involved with wine or fixed or nonv...</td>\n",
       "    </tr>\n",
       "    <tr>\n",
       "      <th>1</th>\n",
       "      <td>volatile acidity</td>\n",
       "      <td>the amount of acetic acid in wine, which at to...</td>\n",
       "    </tr>\n",
       "    <tr>\n",
       "      <th>2</th>\n",
       "      <td>citric acid</td>\n",
       "      <td>found in small quantities, citric acid can add...</td>\n",
       "    </tr>\n",
       "    <tr>\n",
       "      <th>3</th>\n",
       "      <td>residual sugar</td>\n",
       "      <td>the amount of sugar remaining after fermentati...</td>\n",
       "    </tr>\n",
       "    <tr>\n",
       "      <th>4</th>\n",
       "      <td>chlorides</td>\n",
       "      <td>the amount of salt in the wine</td>\n",
       "    </tr>\n",
       "    <tr>\n",
       "      <th>5</th>\n",
       "      <td>free sulfur dioxide</td>\n",
       "      <td>the free form of SO2 exists in equilibrium bet...</td>\n",
       "    </tr>\n",
       "    <tr>\n",
       "      <th>6</th>\n",
       "      <td>total sulfur dioxide</td>\n",
       "      <td>amount of free and bound forms of S02; in low ...</td>\n",
       "    </tr>\n",
       "    <tr>\n",
       "      <th>7</th>\n",
       "      <td>density</td>\n",
       "      <td>the density of water is close to that of water...</td>\n",
       "    </tr>\n",
       "    <tr>\n",
       "      <th>8</th>\n",
       "      <td>pH</td>\n",
       "      <td>describes how acidic or basic a wine is on a s...</td>\n",
       "    </tr>\n",
       "    <tr>\n",
       "      <th>9</th>\n",
       "      <td>sulphates</td>\n",
       "      <td>a wine additive which can contribute to sulfur...</td>\n",
       "    </tr>\n",
       "    <tr>\n",
       "      <th>10</th>\n",
       "      <td>alcohol</td>\n",
       "      <td>the percent alcohol content of the wine</td>\n",
       "    </tr>\n",
       "    <tr>\n",
       "      <th>11</th>\n",
       "      <td>quality</td>\n",
       "      <td>output variable (based on sensory data, score ...</td>\n",
       "    </tr>\n",
       "  </tbody>\n",
       "</table>\n",
       "</div>"
      ],
      "text/plain": [
       "                    Name                                        Description\n",
       "0          fixed acidity  most acids involved with wine or fixed or nonv...\n",
       "1       volatile acidity  the amount of acetic acid in wine, which at to...\n",
       "2            citric acid  found in small quantities, citric acid can add...\n",
       "3         residual sugar  the amount of sugar remaining after fermentati...\n",
       "4              chlorides                     the amount of salt in the wine\n",
       "5    free sulfur dioxide  the free form of SO2 exists in equilibrium bet...\n",
       "6   total sulfur dioxide  amount of free and bound forms of S02; in low ...\n",
       "7                density  the density of water is close to that of water...\n",
       "8                     pH  describes how acidic or basic a wine is on a s...\n",
       "9              sulphates  a wine additive which can contribute to sulfur...\n",
       "10               alcohol            the percent alcohol content of the wine\n",
       "11               quality  output variable (based on sensory data, score ..."
      ]
     },
     "execution_count": 77,
     "metadata": {},
     "output_type": "execute_result"
    }
   ],
   "source": [
    "wine_column_descriptions = pd.read_excel(wine_data_file_name, \"column-descriptions\")\n",
    "\n",
    "wine_column_descriptions"
   ]
  },
  {
   "cell_type": "code",
   "execution_count": 78,
   "id": "2d33aefa-dfe2-4a06-8dcd-c59f9030c2c8",
   "metadata": {},
   "outputs": [
    {
     "data": {
      "text/plain": [
       "fixed acidity           float64\n",
       "volatile acidity        float64\n",
       "citric acid             float64\n",
       "residual sugar          float64\n",
       "chlorides               float64\n",
       "free sulfur dioxide     float64\n",
       "total sulfur dioxide    float64\n",
       "density                 float64\n",
       "pH                      float64\n",
       "sulphates               float64\n",
       "alcohol                 float64\n",
       "quality                   int64\n",
       "dtype: object"
      ]
     },
     "execution_count": 78,
     "metadata": {},
     "output_type": "execute_result"
    }
   ],
   "source": [
    "wine_data.dtypes"
   ]
  },
  {
   "cell_type": "code",
   "execution_count": 79,
   "id": "69cc5b1a-ef11-4e75-b61b-c7e7e449374c",
   "metadata": {},
   "outputs": [
    {
     "data": {
      "text/html": [
       "<div>\n",
       "<style scoped>\n",
       "    .dataframe tbody tr th:only-of-type {\n",
       "        vertical-align: middle;\n",
       "    }\n",
       "\n",
       "    .dataframe tbody tr th {\n",
       "        vertical-align: top;\n",
       "    }\n",
       "\n",
       "    .dataframe thead th {\n",
       "        text-align: right;\n",
       "    }\n",
       "</style>\n",
       "<table border=\"1\" class=\"dataframe\">\n",
       "  <thead>\n",
       "    <tr style=\"text-align: right;\">\n",
       "      <th></th>\n",
       "      <th>fixed acidity</th>\n",
       "      <th>volatile acidity</th>\n",
       "      <th>citric acid</th>\n",
       "      <th>residual sugar</th>\n",
       "      <th>chlorides</th>\n",
       "      <th>free sulfur dioxide</th>\n",
       "      <th>total sulfur dioxide</th>\n",
       "      <th>density</th>\n",
       "      <th>pH</th>\n",
       "      <th>sulphates</th>\n",
       "      <th>alcohol</th>\n",
       "      <th>quality</th>\n",
       "    </tr>\n",
       "  </thead>\n",
       "  <tbody>\n",
       "    <tr>\n",
       "      <th>0</th>\n",
       "      <td>11.6</td>\n",
       "      <td>0.580</td>\n",
       "      <td>0.66</td>\n",
       "      <td>2.20</td>\n",
       "      <td>0.074</td>\n",
       "      <td>10</td>\n",
       "      <td>47</td>\n",
       "      <td>1.00080</td>\n",
       "      <td>3.25</td>\n",
       "      <td>0.57</td>\n",
       "      <td>9.0</td>\n",
       "      <td>3</td>\n",
       "    </tr>\n",
       "    <tr>\n",
       "      <th>1</th>\n",
       "      <td>10.4</td>\n",
       "      <td>0.610</td>\n",
       "      <td>0.49</td>\n",
       "      <td>2.10</td>\n",
       "      <td>0.200</td>\n",
       "      <td>5</td>\n",
       "      <td>16</td>\n",
       "      <td>0.99940</td>\n",
       "      <td>3.16</td>\n",
       "      <td>0.63</td>\n",
       "      <td>8.4</td>\n",
       "      <td>3</td>\n",
       "    </tr>\n",
       "    <tr>\n",
       "      <th>2</th>\n",
       "      <td>7.4</td>\n",
       "      <td>1.185</td>\n",
       "      <td>0.00</td>\n",
       "      <td>4.25</td>\n",
       "      <td>0.097</td>\n",
       "      <td>5</td>\n",
       "      <td>14</td>\n",
       "      <td>0.99660</td>\n",
       "      <td>3.63</td>\n",
       "      <td>0.54</td>\n",
       "      <td>10.7</td>\n",
       "      <td>3</td>\n",
       "    </tr>\n",
       "    <tr>\n",
       "      <th>3</th>\n",
       "      <td>10.4</td>\n",
       "      <td>0.440</td>\n",
       "      <td>0.42</td>\n",
       "      <td>1.50</td>\n",
       "      <td>0.145</td>\n",
       "      <td>34</td>\n",
       "      <td>48</td>\n",
       "      <td>0.99832</td>\n",
       "      <td>3.38</td>\n",
       "      <td>0.86</td>\n",
       "      <td>9.9</td>\n",
       "      <td>3</td>\n",
       "    </tr>\n",
       "    <tr>\n",
       "      <th>4</th>\n",
       "      <td>8.3</td>\n",
       "      <td>1.020</td>\n",
       "      <td>0.02</td>\n",
       "      <td>3.40</td>\n",
       "      <td>0.084</td>\n",
       "      <td>6</td>\n",
       "      <td>11</td>\n",
       "      <td>0.99892</td>\n",
       "      <td>3.48</td>\n",
       "      <td>0.49</td>\n",
       "      <td>11.0</td>\n",
       "      <td>3</td>\n",
       "    </tr>\n",
       "    <tr>\n",
       "      <th>...</th>\n",
       "      <td>...</td>\n",
       "      <td>...</td>\n",
       "      <td>...</td>\n",
       "      <td>...</td>\n",
       "      <td>...</td>\n",
       "      <td>...</td>\n",
       "      <td>...</td>\n",
       "      <td>...</td>\n",
       "      <td>...</td>\n",
       "      <td>...</td>\n",
       "      <td>...</td>\n",
       "      <td>...</td>\n",
       "    </tr>\n",
       "    <tr>\n",
       "      <th>1594</th>\n",
       "      <td>8.6</td>\n",
       "      <td>0.420</td>\n",
       "      <td>0.39</td>\n",
       "      <td>1.80</td>\n",
       "      <td>0.068</td>\n",
       "      <td>6</td>\n",
       "      <td>12</td>\n",
       "      <td>0.99516</td>\n",
       "      <td>3.35</td>\n",
       "      <td>0.69</td>\n",
       "      <td>11.7</td>\n",
       "      <td>8</td>\n",
       "    </tr>\n",
       "    <tr>\n",
       "      <th>1595</th>\n",
       "      <td>5.5</td>\n",
       "      <td>0.490</td>\n",
       "      <td>0.03</td>\n",
       "      <td>1.80</td>\n",
       "      <td>0.044</td>\n",
       "      <td>28</td>\n",
       "      <td>87</td>\n",
       "      <td>0.99080</td>\n",
       "      <td>3.50</td>\n",
       "      <td>0.82</td>\n",
       "      <td>14.0</td>\n",
       "      <td>8</td>\n",
       "    </tr>\n",
       "    <tr>\n",
       "      <th>1596</th>\n",
       "      <td>7.2</td>\n",
       "      <td>0.330</td>\n",
       "      <td>0.33</td>\n",
       "      <td>1.70</td>\n",
       "      <td>0.061</td>\n",
       "      <td>3</td>\n",
       "      <td>13</td>\n",
       "      <td>0.99600</td>\n",
       "      <td>3.23</td>\n",
       "      <td>1.10</td>\n",
       "      <td>10.0</td>\n",
       "      <td>8</td>\n",
       "    </tr>\n",
       "    <tr>\n",
       "      <th>1597</th>\n",
       "      <td>7.2</td>\n",
       "      <td>0.380</td>\n",
       "      <td>0.31</td>\n",
       "      <td>2.00</td>\n",
       "      <td>0.056</td>\n",
       "      <td>15</td>\n",
       "      <td>29</td>\n",
       "      <td>0.99472</td>\n",
       "      <td>3.23</td>\n",
       "      <td>0.76</td>\n",
       "      <td>11.3</td>\n",
       "      <td>8</td>\n",
       "    </tr>\n",
       "    <tr>\n",
       "      <th>1598</th>\n",
       "      <td>7.4</td>\n",
       "      <td>0.360</td>\n",
       "      <td>0.30</td>\n",
       "      <td>1.80</td>\n",
       "      <td>0.074</td>\n",
       "      <td>17</td>\n",
       "      <td>24</td>\n",
       "      <td>0.99419</td>\n",
       "      <td>3.24</td>\n",
       "      <td>0.70</td>\n",
       "      <td>11.4</td>\n",
       "      <td>8</td>\n",
       "    </tr>\n",
       "  </tbody>\n",
       "</table>\n",
       "<p>1599 rows × 12 columns</p>\n",
       "</div>"
      ],
      "text/plain": [
       "      fixed acidity  volatile acidity  citric acid  residual sugar  chlorides  \\\n",
       "0              11.6             0.580         0.66            2.20      0.074   \n",
       "1              10.4             0.610         0.49            2.10      0.200   \n",
       "2               7.4             1.185         0.00            4.25      0.097   \n",
       "3              10.4             0.440         0.42            1.50      0.145   \n",
       "4               8.3             1.020         0.02            3.40      0.084   \n",
       "...             ...               ...          ...             ...        ...   \n",
       "1594            8.6             0.420         0.39            1.80      0.068   \n",
       "1595            5.5             0.490         0.03            1.80      0.044   \n",
       "1596            7.2             0.330         0.33            1.70      0.061   \n",
       "1597            7.2             0.380         0.31            2.00      0.056   \n",
       "1598            7.4             0.360         0.30            1.80      0.074   \n",
       "\n",
       "      free sulfur dioxide  total sulfur dioxide  density    pH  sulphates  \\\n",
       "0                      10                    47  1.00080  3.25       0.57   \n",
       "1                       5                    16  0.99940  3.16       0.63   \n",
       "2                       5                    14  0.99660  3.63       0.54   \n",
       "3                      34                    48  0.99832  3.38       0.86   \n",
       "4                       6                    11  0.99892  3.48       0.49   \n",
       "...                   ...                   ...      ...   ...        ...   \n",
       "1594                    6                    12  0.99516  3.35       0.69   \n",
       "1595                   28                    87  0.99080  3.50       0.82   \n",
       "1596                    3                    13  0.99600  3.23       1.10   \n",
       "1597                   15                    29  0.99472  3.23       0.76   \n",
       "1598                   17                    24  0.99419  3.24       0.70   \n",
       "\n",
       "      alcohol  quality  \n",
       "0         9.0        3  \n",
       "1         8.4        3  \n",
       "2        10.7        3  \n",
       "3         9.9        3  \n",
       "4        11.0        3  \n",
       "...       ...      ...  \n",
       "1594     11.7        8  \n",
       "1595     14.0        8  \n",
       "1596     10.0        8  \n",
       "1597     11.3        8  \n",
       "1598     11.4        8  \n",
       "\n",
       "[1599 rows x 12 columns]"
      ]
     },
     "execution_count": 79,
     "metadata": {},
     "output_type": "execute_result"
    }
   ],
   "source": [
    "wine_dtypes = {\n",
    "    \"fixed acidity\": np.float32,\n",
    "    \"volatile acidity\": np.float32,\n",
    "    \"citric acid\": np.float32,\n",
    "    \"residual sugar\": np.float32,\n",
    "    \"chlorides\": np.float32,\n",
    "    \"free sulfur dioxide\": np.int8,\n",
    "    \"total sulfur dioxide\": np.int8,\n",
    "    \"density\": np.float32,\n",
    "    \"pH\": np.float32,\n",
    "    \"sulphates\": np.float32,\n",
    "    \"alcohol\": np.float32,\n",
    "    \"quality\": np.int8,\n",
    "}\n",
    "\n",
    "\n",
    "wine_data = pd.read_excel(wine_data_file_name, \"data\", dtype=wine_dtypes)\n",
    "\n",
    "wine_data"
   ]
  },
  {
   "cell_type": "code",
   "execution_count": 81,
   "id": "14bb3d90-80d2-4992-aad7-1d6a50315b1c",
   "metadata": {},
   "outputs": [
    {
     "data": {
      "text/plain": [
       "76752"
      ]
     },
     "execution_count": 81,
     "metadata": {},
     "output_type": "execute_result"
    }
   ],
   "source": [
    "wine_data.values.nbytes"
   ]
  },
  {
   "cell_type": "code",
   "execution_count": 92,
   "id": "f034e0ed-7e83-48da-8cde-daeab380a1c3",
   "metadata": {},
   "outputs": [
    {
     "data": {
      "text/html": [
       "<div>\n",
       "<style scoped>\n",
       "    .dataframe tbody tr th:only-of-type {\n",
       "        vertical-align: middle;\n",
       "    }\n",
       "\n",
       "    .dataframe tbody tr th {\n",
       "        vertical-align: top;\n",
       "    }\n",
       "\n",
       "    .dataframe thead th {\n",
       "        text-align: right;\n",
       "    }\n",
       "</style>\n",
       "<table border=\"1\" class=\"dataframe\">\n",
       "  <thead>\n",
       "    <tr style=\"text-align: right;\">\n",
       "      <th></th>\n",
       "      <th>A</th>\n",
       "      <th>B</th>\n",
       "    </tr>\n",
       "  </thead>\n",
       "  <tbody>\n",
       "    <tr>\n",
       "      <th>0</th>\n",
       "      <td>0</td>\n",
       "      <td>4</td>\n",
       "    </tr>\n",
       "    <tr>\n",
       "      <th>1</th>\n",
       "      <td>0</td>\n",
       "      <td>4</td>\n",
       "    </tr>\n",
       "  </tbody>\n",
       "</table>\n",
       "</div>"
      ],
      "text/plain": [
       "   A  B\n",
       "0  0  4\n",
       "1  0  4"
      ]
     },
     "metadata": {},
     "output_type": "display_data"
    },
    {
     "data": {
      "text/html": [
       "<div>\n",
       "<style scoped>\n",
       "    .dataframe tbody tr th:only-of-type {\n",
       "        vertical-align: middle;\n",
       "    }\n",
       "\n",
       "    .dataframe tbody tr th {\n",
       "        vertical-align: top;\n",
       "    }\n",
       "\n",
       "    .dataframe thead th {\n",
       "        text-align: right;\n",
       "    }\n",
       "</style>\n",
       "<table border=\"1\" class=\"dataframe\">\n",
       "  <thead>\n",
       "    <tr style=\"text-align: right;\">\n",
       "      <th></th>\n",
       "      <th>C</th>\n",
       "      <th>D</th>\n",
       "    </tr>\n",
       "  </thead>\n",
       "  <tbody>\n",
       "    <tr>\n",
       "      <th>0</th>\n",
       "      <td>1</td>\n",
       "      <td>3</td>\n",
       "    </tr>\n",
       "    <tr>\n",
       "      <th>1</th>\n",
       "      <td>1</td>\n",
       "      <td>3</td>\n",
       "    </tr>\n",
       "    <tr>\n",
       "      <th>2</th>\n",
       "      <td>6</td>\n",
       "      <td>8</td>\n",
       "    </tr>\n",
       "  </tbody>\n",
       "</table>\n",
       "</div>"
      ],
      "text/plain": [
       "   C  D\n",
       "0  1  3\n",
       "1  1  3\n",
       "2  6  8"
      ]
     },
     "metadata": {},
     "output_type": "display_data"
    }
   ],
   "source": [
    "df1 = pd.DataFrame({'A': [0, 0], 'B': [4, 4]})\n",
    "\n",
    "df2 = pd.DataFrame({'C': [1, 1,6], 'D': [3, 3,8]})\n",
    "\n",
    "display(df1)\n",
    "display(df2)"
   ]
  },
  {
   "cell_type": "code",
   "execution_count": 91,
   "id": "05b0073c-2869-41d3-a666-28cd55b6c59e",
   "metadata": {},
   "outputs": [
    {
     "data": {
      "text/html": [
       "<div>\n",
       "<style scoped>\n",
       "    .dataframe tbody tr th:only-of-type {\n",
       "        vertical-align: middle;\n",
       "    }\n",
       "\n",
       "    .dataframe tbody tr th {\n",
       "        vertical-align: top;\n",
       "    }\n",
       "\n",
       "    .dataframe thead th {\n",
       "        text-align: right;\n",
       "    }\n",
       "</style>\n",
       "<table border=\"1\" class=\"dataframe\">\n",
       "  <thead>\n",
       "    <tr style=\"text-align: right;\">\n",
       "      <th></th>\n",
       "      <th>A</th>\n",
       "      <th>B</th>\n",
       "      <th>C</th>\n",
       "      <th>D</th>\n",
       "    </tr>\n",
       "  </thead>\n",
       "  <tbody>\n",
       "    <tr>\n",
       "      <th>0</th>\n",
       "      <td>0.0</td>\n",
       "      <td>4.0</td>\n",
       "      <td>1</td>\n",
       "      <td>3</td>\n",
       "    </tr>\n",
       "    <tr>\n",
       "      <th>1</th>\n",
       "      <td>0.0</td>\n",
       "      <td>4.0</td>\n",
       "      <td>1</td>\n",
       "      <td>3</td>\n",
       "    </tr>\n",
       "    <tr>\n",
       "      <th>2</th>\n",
       "      <td>NaN</td>\n",
       "      <td>NaN</td>\n",
       "      <td>6</td>\n",
       "      <td>8</td>\n",
       "    </tr>\n",
       "  </tbody>\n",
       "</table>\n",
       "</div>"
      ],
      "text/plain": [
       "     A    B  C  D\n",
       "0  0.0  4.0  1  3\n",
       "1  0.0  4.0  1  3\n",
       "2  NaN  NaN  6  8"
      ]
     },
     "execution_count": 91,
     "metadata": {},
     "output_type": "execute_result"
    }
   ],
   "source": [
    "df3 = df1.join(df2, how=\"right\")\n",
    "\n",
    "df3"
   ]
  },
  {
   "cell_type": "code",
   "execution_count": 89,
   "id": "d3750750-47e9-4fba-b64d-a94827b7a81a",
   "metadata": {},
   "outputs": [
    {
     "data": {
      "text/html": [
       "<div>\n",
       "<style scoped>\n",
       "    .dataframe tbody tr th:only-of-type {\n",
       "        vertical-align: middle;\n",
       "    }\n",
       "\n",
       "    .dataframe tbody tr th {\n",
       "        vertical-align: top;\n",
       "    }\n",
       "\n",
       "    .dataframe thead th {\n",
       "        text-align: right;\n",
       "    }\n",
       "</style>\n",
       "<table border=\"1\" class=\"dataframe\">\n",
       "  <thead>\n",
       "    <tr style=\"text-align: right;\">\n",
       "      <th></th>\n",
       "      <th>C</th>\n",
       "      <th>D</th>\n",
       "      <th>A</th>\n",
       "      <th>B</th>\n",
       "    </tr>\n",
       "  </thead>\n",
       "  <tbody>\n",
       "    <tr>\n",
       "      <th>0</th>\n",
       "      <td>1</td>\n",
       "      <td>3</td>\n",
       "      <td>0.0</td>\n",
       "      <td>4.0</td>\n",
       "    </tr>\n",
       "    <tr>\n",
       "      <th>1</th>\n",
       "      <td>1</td>\n",
       "      <td>3</td>\n",
       "      <td>0.0</td>\n",
       "      <td>4.0</td>\n",
       "    </tr>\n",
       "    <tr>\n",
       "      <th>2</th>\n",
       "      <td>6</td>\n",
       "      <td>8</td>\n",
       "      <td>NaN</td>\n",
       "      <td>NaN</td>\n",
       "    </tr>\n",
       "  </tbody>\n",
       "</table>\n",
       "</div>"
      ],
      "text/plain": [
       "   C  D    A    B\n",
       "0  1  3  0.0  4.0\n",
       "1  1  3  0.0  4.0\n",
       "2  6  8  NaN  NaN"
      ]
     },
     "execution_count": 89,
     "metadata": {},
     "output_type": "execute_result"
    }
   ],
   "source": [
    "df2.join(df1)\n"
   ]
  },
  {
   "cell_type": "code",
   "execution_count": 93,
   "id": "bd4b126a-ce89-4465-be46-541bbf1cb692",
   "metadata": {},
   "outputs": [
    {
     "data": {
      "text/html": [
       "<div>\n",
       "<style scoped>\n",
       "    .dataframe tbody tr th:only-of-type {\n",
       "        vertical-align: middle;\n",
       "    }\n",
       "\n",
       "    .dataframe tbody tr th {\n",
       "        vertical-align: top;\n",
       "    }\n",
       "\n",
       "    .dataframe thead th {\n",
       "        text-align: right;\n",
       "    }\n",
       "</style>\n",
       "<table border=\"1\" class=\"dataframe\">\n",
       "  <thead>\n",
       "    <tr style=\"text-align: right;\">\n",
       "      <th></th>\n",
       "      <th>A</th>\n",
       "      <th>B</th>\n",
       "    </tr>\n",
       "  </thead>\n",
       "  <tbody>\n",
       "    <tr>\n",
       "      <th>0</th>\n",
       "      <td>0</td>\n",
       "      <td>4</td>\n",
       "    </tr>\n",
       "    <tr>\n",
       "      <th>1</th>\n",
       "      <td>0</td>\n",
       "      <td>4</td>\n",
       "    </tr>\n",
       "  </tbody>\n",
       "</table>\n",
       "</div>"
      ],
      "text/plain": [
       "   A  B\n",
       "0  0  4\n",
       "1  0  4"
      ]
     },
     "metadata": {},
     "output_type": "display_data"
    },
    {
     "data": {
      "text/html": [
       "<div>\n",
       "<style scoped>\n",
       "    .dataframe tbody tr th:only-of-type {\n",
       "        vertical-align: middle;\n",
       "    }\n",
       "\n",
       "    .dataframe tbody tr th {\n",
       "        vertical-align: top;\n",
       "    }\n",
       "\n",
       "    .dataframe thead th {\n",
       "        text-align: right;\n",
       "    }\n",
       "</style>\n",
       "<table border=\"1\" class=\"dataframe\">\n",
       "  <thead>\n",
       "    <tr style=\"text-align: right;\">\n",
       "      <th></th>\n",
       "      <th>A</th>\n",
       "      <th>B</th>\n",
       "    </tr>\n",
       "  </thead>\n",
       "  <tbody>\n",
       "    <tr>\n",
       "      <th>0</th>\n",
       "      <td>1</td>\n",
       "      <td>3</td>\n",
       "    </tr>\n",
       "    <tr>\n",
       "      <th>1</th>\n",
       "      <td>1</td>\n",
       "      <td>3</td>\n",
       "    </tr>\n",
       "    <tr>\n",
       "      <th>2</th>\n",
       "      <td>6</td>\n",
       "      <td>8</td>\n",
       "    </tr>\n",
       "  </tbody>\n",
       "</table>\n",
       "</div>"
      ],
      "text/plain": [
       "   A  B\n",
       "0  1  3\n",
       "1  1  3\n",
       "2  6  8"
      ]
     },
     "metadata": {},
     "output_type": "display_data"
    }
   ],
   "source": [
    "df1 = pd.DataFrame({'A': [0, 0], 'B': [4, 4]})\n",
    "\n",
    "df2 = pd.DataFrame({'A': [1, 1,6], 'B': [3, 3,8]})\n",
    "\n",
    "display(df1)\n",
    "display(df2)"
   ]
  },
  {
   "cell_type": "code",
   "execution_count": 99,
   "id": "1f0f9c4f-cc93-4fcf-b352-f9093072b2bc",
   "metadata": {},
   "outputs": [
    {
     "data": {
      "text/html": [
       "<div>\n",
       "<style scoped>\n",
       "    .dataframe tbody tr th:only-of-type {\n",
       "        vertical-align: middle;\n",
       "    }\n",
       "\n",
       "    .dataframe tbody tr th {\n",
       "        vertical-align: top;\n",
       "    }\n",
       "\n",
       "    .dataframe thead th {\n",
       "        text-align: right;\n",
       "    }\n",
       "</style>\n",
       "<table border=\"1\" class=\"dataframe\">\n",
       "  <thead>\n",
       "    <tr style=\"text-align: right;\">\n",
       "      <th></th>\n",
       "      <th>A</th>\n",
       "      <th>B</th>\n",
       "    </tr>\n",
       "  </thead>\n",
       "  <tbody>\n",
       "    <tr>\n",
       "      <th>0</th>\n",
       "      <td>0</td>\n",
       "      <td>4</td>\n",
       "    </tr>\n",
       "    <tr>\n",
       "      <th>1</th>\n",
       "      <td>0</td>\n",
       "      <td>4</td>\n",
       "    </tr>\n",
       "    <tr>\n",
       "      <th>2</th>\n",
       "      <td>1</td>\n",
       "      <td>3</td>\n",
       "    </tr>\n",
       "    <tr>\n",
       "      <th>3</th>\n",
       "      <td>1</td>\n",
       "      <td>3</td>\n",
       "    </tr>\n",
       "    <tr>\n",
       "      <th>4</th>\n",
       "      <td>6</td>\n",
       "      <td>8</td>\n",
       "    </tr>\n",
       "  </tbody>\n",
       "</table>\n",
       "</div>"
      ],
      "text/plain": [
       "   A  B\n",
       "0  0  4\n",
       "1  0  4\n",
       "2  1  3\n",
       "3  1  3\n",
       "4  6  8"
      ]
     },
     "execution_count": 99,
     "metadata": {},
     "output_type": "execute_result"
    }
   ],
   "source": [
    "df3 = pd.concat([ df1, df2 ])\n",
    "df3.reset_index(drop=True, inplace=True)\n",
    "\n",
    "df3\n"
   ]
  },
  {
   "cell_type": "code",
   "execution_count": null,
   "id": "400fcdeb-6d95-4901-ab60-3a57eeb9bae0",
   "metadata": {},
   "outputs": [],
   "source": []
  }
 ],
 "metadata": {
  "kernelspec": {
   "display_name": "Python 3",
   "language": "python",
   "name": "python3"
  },
  "language_info": {
   "codemirror_mode": {
    "name": "ipython",
    "version": 3
   },
   "file_extension": ".py",
   "mimetype": "text/x-python",
   "name": "python",
   "nbconvert_exporter": "python",
   "pygments_lexer": "ipython3",
   "version": "3.9.5"
  }
 },
 "nbformat": 4,
 "nbformat_minor": 5
}

{
 "cells": [
  {
   "cell_type": "markdown",
   "id": "6907c3bc-f074-4671-b6c6-823a62f73367",
   "metadata": {},
   "source": [
    "# NumPy Array Element Selection"
   ]
  },
  {
   "cell_type": "code",
   "execution_count": 9,
   "id": "83c84071-3f0e-439e-8478-f2bea9a167c2",
   "metadata": {},
   "outputs": [],
   "source": [
    "import numpy as np"
   ]
  },
  {
   "cell_type": "code",
   "execution_count": 28,
   "id": "853a7dba-46d7-47fb-91d6-935a1a80d165",
   "metadata": {},
   "outputs": [
    {
     "data": {
      "text/plain": [
       "array([10, 11, 12, 13, 14, 15, 16, 17, 18, 19])"
      ]
     },
     "execution_count": 28,
     "metadata": {},
     "output_type": "execute_result"
    }
   ],
   "source": [
    "nums = np.arange(10, 20)\n",
    "\n",
    "nums"
   ]
  },
  {
   "cell_type": "code",
   "execution_count": 11,
   "id": "ac0a6b60-0bf1-4150-afb7-6ab44b0b83df",
   "metadata": {},
   "outputs": [
    {
     "name": "stdout",
     "output_type": "stream",
     "text": [
      "<class 'numpy.ndarray'>\n"
     ]
    },
    {
     "data": {
      "text/plain": [
       "array([15, 16, 17, 18, 19])"
      ]
     },
     "execution_count": 11,
     "metadata": {},
     "output_type": "execute_result"
    }
   ],
   "source": [
    "gt4 = nums > 14\n",
    "\n",
    "print(type(gt4))\n",
    "\n",
    "# nums[gt4]\n",
    "nums[ [False, False, False, False, False,  True,  True,  True,  True,  True] ]"
   ]
  },
  {
   "cell_type": "code",
   "execution_count": 12,
   "id": "08c49b2a-e40b-4cb4-9667-538d8a69ade9",
   "metadata": {},
   "outputs": [
    {
     "data": {
      "text/plain": [
       "array([11, 13, 15])"
      ]
     },
     "execution_count": 12,
     "metadata": {},
     "output_type": "execute_result"
    }
   ],
   "source": [
    "nums[ [1,3,5 ] ]"
   ]
  },
  {
   "cell_type": "code",
   "execution_count": 15,
   "id": "1ecc4672-6bf4-4220-b02b-052e9e48d159",
   "metadata": {},
   "outputs": [
    {
     "data": {
      "text/plain": [
       "array([30, 32, 34, 36, 38])"
      ]
     },
     "execution_count": 15,
     "metadata": {},
     "output_type": "execute_result"
    }
   ],
   "source": [
    "nums[nums > 14] * 2"
   ]
  },
  {
   "cell_type": "code",
   "execution_count": 30,
   "id": "d9886e05-22c8-43a4-b6f6-adb33e425772",
   "metadata": {},
   "outputs": [
    {
     "data": {
      "text/plain": [
       "array([10, 11, 12, 13, 14, 30, 32, 34, 36, 38])"
      ]
     },
     "execution_count": 30,
     "metadata": {},
     "output_type": "execute_result"
    }
   ],
   "source": [
    "# nums[nums > 14] = nums[nums > 14] * 2\n",
    "\n",
    "gt14 = nums > 14\n",
    "\n",
    "nums[gt14] *= 2\n",
    "\n",
    "nums[gt14] = nums[gt14] * 2\n",
    "\n",
    "nums"
   ]
  },
  {
   "cell_type": "code",
   "execution_count": 19,
   "id": "a4f14264-ff17-418e-adae-012e5a3b8a8d",
   "metadata": {},
   "outputs": [
    {
     "data": {
      "text/plain": [
       "array([999,  11,  12,  13,  14, 120, 128, 136, 144, 152])"
      ]
     },
     "execution_count": 19,
     "metadata": {},
     "output_type": "execute_result"
    }
   ],
   "source": [
    "nums[0] = 999\n",
    "\n",
    "nums"
   ]
  },
  {
   "cell_type": "code",
   "execution_count": 29,
   "id": "3073e596-73ae-48f0-ba1a-94dc59fcc546",
   "metadata": {},
   "outputs": [
    {
     "name": "stdout",
     "output_type": "stream",
     "text": [
      "[10 11 12 13 14 30 32 34 36 38]\n"
     ]
    },
    {
     "data": {
      "text/plain": [
       "array([10, 11, 12, 13, 14, 15, 16, 17, 18, 19])"
      ]
     },
     "execution_count": 29,
     "metadata": {},
     "output_type": "execute_result"
    }
   ],
   "source": [
    "# for index, value in np.ndenumerate(nums):\n",
    "#     nums[index[0]] = value * 2\n",
    "    \n",
    "# nums\n",
    "\n",
    "double_me_if_gt14 = lambda value: value * 2 if value > 14 else value\n",
    "\n",
    "double_me_if_gt14 = np.vectorize(double_me_if_gt14)\n",
    "\n",
    "print(double_me_if_gt14(nums))\n",
    "\n",
    "nums\n",
    "    "
   ]
  },
  {
   "cell_type": "code",
   "execution_count": 31,
   "id": "6cc7ee4a-5455-45c3-9194-b1fa190723bc",
   "metadata": {},
   "outputs": [
    {
     "data": {
      "text/plain": [
       "array([[ 0,  1,  2,  3,  4,  5],\n",
       "       [ 6,  7,  8,  9, 10, 11],\n",
       "       [12, 13, 14, 15, 16, 17],\n",
       "       [18, 19, 20, 21, 22, 23],\n",
       "       [24, 25, 26, 27, 28, 29],\n",
       "       [30, 31, 32, 33, 34, 35]])"
      ]
     },
     "execution_count": 31,
     "metadata": {},
     "output_type": "execute_result"
    }
   ],
   "source": [
    "matrix_nums = np.arange(36).reshape(6,6)\n",
    "\n",
    "matrix_nums"
   ]
  },
  {
   "cell_type": "code",
   "execution_count": 34,
   "id": "1316c84e-bf6c-43b0-ae7b-a505f88aa8da",
   "metadata": {},
   "outputs": [
    {
     "data": {
      "text/plain": [
       "array([ 0,  1,  2,  3,  4,  5,  6,  7,  8,  9, 10, 11, 12, 13, 14, 15, 16,\n",
       "       17, 18, 19, 20, 21, 22, 23, 24, 25, 26, 27, 28, 29, 30, 31, 32, 33,\n",
       "       34, 35])"
      ]
     },
     "execution_count": 34,
     "metadata": {},
     "output_type": "execute_result"
    }
   ],
   "source": [
    "onedim_matrix_nums = matrix_nums.reshape(36)\n",
    "\n",
    "onedim_matrix_nums"
   ]
  },
  {
   "cell_type": "code",
   "execution_count": 35,
   "id": "70feec0d-9440-40eb-9829-911777c37f51",
   "metadata": {},
   "outputs": [],
   "source": [
    "onedim_matrix_nums[5] = 9999"
   ]
  },
  {
   "cell_type": "code",
   "execution_count": 36,
   "id": "445932f4-b99b-44d0-83ea-3e9e8a3aca42",
   "metadata": {},
   "outputs": [
    {
     "data": {
      "text/plain": [
       "array([   0,    1,    2,    3,    4, 9999,    6,    7,    8,    9,   10,\n",
       "         11,   12,   13,   14,   15,   16,   17,   18,   19,   20,   21,\n",
       "         22,   23,   24,   25,   26,   27,   28,   29,   30,   31,   32,\n",
       "         33,   34,   35])"
      ]
     },
     "execution_count": 36,
     "metadata": {},
     "output_type": "execute_result"
    }
   ],
   "source": [
    "onedim_matrix_nums"
   ]
  },
  {
   "cell_type": "code",
   "execution_count": 37,
   "id": "f5733781-9a95-4aca-a9ef-f3821c37f039",
   "metadata": {},
   "outputs": [
    {
     "data": {
      "text/plain": [
       "array([[   0,    1,    2,    3,    4, 9999],\n",
       "       [   6,    7,    8,    9,   10,   11],\n",
       "       [  12,   13,   14,   15,   16,   17],\n",
       "       [  18,   19,   20,   21,   22,   23],\n",
       "       [  24,   25,   26,   27,   28,   29],\n",
       "       [  30,   31,   32,   33,   34,   35]])"
      ]
     },
     "execution_count": 37,
     "metadata": {},
     "output_type": "execute_result"
    }
   ],
   "source": [
    "matrix_nums"
   ]
  },
  {
   "cell_type": "code",
   "execution_count": 38,
   "id": "6d982c99-7133-4135-8375-231a345cefa1",
   "metadata": {},
   "outputs": [
    {
     "data": {
      "text/plain": [
       "array([ 6,  7,  8,  9, 10, 11])"
      ]
     },
     "execution_count": 38,
     "metadata": {},
     "output_type": "execute_result"
    }
   ],
   "source": [
    "matrix_nums[1,:]"
   ]
  },
  {
   "cell_type": "code",
   "execution_count": 39,
   "id": "302dcfc5-4067-41bd-a6c2-089243f3a789",
   "metadata": {},
   "outputs": [
    {
     "data": {
      "text/plain": [
       "array([ 1,  7, 13, 19, 25, 31])"
      ]
     },
     "execution_count": 39,
     "metadata": {},
     "output_type": "execute_result"
    }
   ],
   "source": [
    "matrix_nums[:,1]"
   ]
  },
  {
   "cell_type": "code",
   "execution_count": 41,
   "id": "4b1258b2-1cdd-4904-9341-632d0b40605f",
   "metadata": {},
   "outputs": [
    {
     "data": {
      "text/plain": [
       "array([[ 1,  3],\n",
       "       [ 7,  9],\n",
       "       [13, 15],\n",
       "       [19, 21],\n",
       "       [25, 27],\n",
       "       [31, 33]])"
      ]
     },
     "execution_count": 41,
     "metadata": {},
     "output_type": "execute_result"
    }
   ],
   "source": [
    "matrix_nums[:,1:5:2]"
   ]
  },
  {
   "cell_type": "code",
   "execution_count": null,
   "id": "ec152ec4-135b-47e2-9973-fa7c3e2ecd35",
   "metadata": {},
   "outputs": [],
   "source": []
  }
 ],
 "metadata": {
  "kernelspec": {
   "display_name": "Python 3",
   "language": "python",
   "name": "python3"
  },
  "language_info": {
   "codemirror_mode": {
    "name": "ipython",
    "version": 3
   },
   "file_extension": ".py",
   "mimetype": "text/x-python",
   "name": "python",
   "nbconvert_exporter": "python",
   "pygments_lexer": "ipython3",
   "version": "3.9.5"
  }
 },
 "nbformat": 4,
 "nbformat_minor": 5
}

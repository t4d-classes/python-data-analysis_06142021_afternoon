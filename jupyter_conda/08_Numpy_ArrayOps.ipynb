{
 "cells": [
  {
   "cell_type": "markdown",
   "id": "fc975dcf-5447-4317-8678-c02bef24fc72",
   "metadata": {},
   "source": [
    "# NumPy Array Ops"
   ]
  },
  {
   "cell_type": "code",
   "execution_count": 1,
   "id": "8178de56-55f2-4803-a084-e9abb119813f",
   "metadata": {},
   "outputs": [],
   "source": [
    "import numpy as np"
   ]
  },
  {
   "cell_type": "code",
   "execution_count": 6,
   "id": "130d57b6-1499-4a7d-8f58-fe1f51b9205d",
   "metadata": {},
   "outputs": [],
   "source": [
    "arr1 = np.array([1,2,3], dtype=np.int16)\n",
    "\n",
    "arr2 = np.array([4,5,6], dtype=np.int16)\n",
    "\n",
    "arr3 = np.array([7,8], dtype=np.int16)\n",
    "\n",
    "arr4 = np.array([7], dtype=np.int16)"
   ]
  },
  {
   "cell_type": "code",
   "execution_count": 8,
   "id": "e8b9c3de-d1db-49e6-b9df-4e34915f0537",
   "metadata": {},
   "outputs": [
    {
     "name": "stdout",
     "output_type": "stream",
     "text": [
      "(3,)\n",
      "(3,)\n"
     ]
    },
    {
     "data": {
      "text/plain": [
       "array([5, 7, 9], dtype=int16)"
      ]
     },
     "execution_count": 8,
     "metadata": {},
     "output_type": "execute_result"
    }
   ],
   "source": [
    "print(arr1.shape)\n",
    "print(arr2.shape)\n",
    "\n",
    "arr1 + arr2"
   ]
  },
  {
   "cell_type": "code",
   "execution_count": 10,
   "id": "785c26e2-1efe-44c7-8ba1-a2a68479849e",
   "metadata": {},
   "outputs": [
    {
     "name": "stdout",
     "output_type": "stream",
     "text": [
      "(3,)\n",
      "(2,)\n"
     ]
    },
    {
     "ename": "ValueError",
     "evalue": "operands could not be broadcast together with shapes (3,) (2,) ",
     "output_type": "error",
     "traceback": [
      "\u001b[1;31m---------------------------------------------------------------------------\u001b[0m",
      "\u001b[1;31mValueError\u001b[0m                                Traceback (most recent call last)",
      "\u001b[1;32m<ipython-input-10-c28b9d2fdb8f>\u001b[0m in \u001b[0;36m<module>\u001b[1;34m\u001b[0m\n\u001b[0;32m      2\u001b[0m \u001b[0mprint\u001b[0m\u001b[1;33m(\u001b[0m\u001b[0marr3\u001b[0m\u001b[1;33m.\u001b[0m\u001b[0mshape\u001b[0m\u001b[1;33m)\u001b[0m\u001b[1;33m\u001b[0m\u001b[1;33m\u001b[0m\u001b[0m\n\u001b[0;32m      3\u001b[0m \u001b[1;33m\u001b[0m\u001b[0m\n\u001b[1;32m----> 4\u001b[1;33m \u001b[0marr1\u001b[0m \u001b[1;33m+\u001b[0m \u001b[0marr3\u001b[0m\u001b[1;33m\u001b[0m\u001b[1;33m\u001b[0m\u001b[0m\n\u001b[0m",
      "\u001b[1;31mValueError\u001b[0m: operands could not be broadcast together with shapes (3,) (2,) "
     ]
    }
   ],
   "source": [
    "print(arr1.shape)\n",
    "print(arr3.shape)\n",
    "\n",
    "arr1 + arr3"
   ]
  },
  {
   "cell_type": "code",
   "execution_count": 9,
   "id": "61ad680e-e78a-4c8f-ab78-086e58ef3e9a",
   "metadata": {},
   "outputs": [
    {
     "name": "stdout",
     "output_type": "stream",
     "text": [
      "(3,)\n",
      "(1,)\n"
     ]
    },
    {
     "data": {
      "text/plain": [
       "array([ 8,  9, 10], dtype=int16)"
      ]
     },
     "execution_count": 9,
     "metadata": {},
     "output_type": "execute_result"
    }
   ],
   "source": [
    "print(arr1.shape)\n",
    "print(arr4.shape)\n",
    "\n",
    "arr1 + arr4"
   ]
  },
  {
   "cell_type": "code",
   "execution_count": 11,
   "id": "f7c1cc2d-7222-42e5-bdbb-c97e90425acb",
   "metadata": {},
   "outputs": [
    {
     "data": {
      "text/plain": [
       "array([[7],\n",
       "       [8]], dtype=int16)"
      ]
     },
     "execution_count": 11,
     "metadata": {},
     "output_type": "execute_result"
    }
   ],
   "source": [
    "arr5 = arr3[:, np.newaxis]\n",
    "\n",
    "arr5"
   ]
  },
  {
   "cell_type": "code",
   "execution_count": 12,
   "id": "5e57f572-0320-4f88-9f1a-648b9416bc50",
   "metadata": {},
   "outputs": [
    {
     "name": "stdout",
     "output_type": "stream",
     "text": [
      "(3,)\n",
      "(2, 1)\n"
     ]
    }
   ],
   "source": [
    "print(arr1.shape)\n",
    "print(arr5.shape)"
   ]
  },
  {
   "cell_type": "code",
   "execution_count": 13,
   "id": "9e3bfd0a-ff73-411a-8ba3-b078cf5821f7",
   "metadata": {},
   "outputs": [
    {
     "data": {
      "text/plain": [
       "array([[ 8,  9, 10],\n",
       "       [ 9, 10, 11]], dtype=int16)"
      ]
     },
     "execution_count": 13,
     "metadata": {},
     "output_type": "execute_result"
    }
   ],
   "source": [
    "arr1 + arr5"
   ]
  },
  {
   "cell_type": "code",
   "execution_count": 14,
   "id": "530cc23a-05d0-4903-8764-3d04acd1c9a2",
   "metadata": {},
   "outputs": [
    {
     "data": {
      "text/plain": [
       "56"
      ]
     },
     "execution_count": 14,
     "metadata": {},
     "output_type": "execute_result"
    }
   ],
   "source": [
    "np.dot( [7,], [8,] )"
   ]
  },
  {
   "cell_type": "code",
   "execution_count": 15,
   "id": "c1366d33-2bce-4e24-a46f-4b12d2a0883a",
   "metadata": {},
   "outputs": [
    {
     "data": {
      "text/plain": [
       "62"
      ]
     },
     "execution_count": 15,
     "metadata": {},
     "output_type": "execute_result"
    }
   ],
   "source": [
    "np.dot( [7,3], [8,2] )"
   ]
  },
  {
   "cell_type": "code",
   "execution_count": 22,
   "id": "331a42fe-8e1f-47db-bef8-6f06620b98a9",
   "metadata": {},
   "outputs": [
    {
     "name": "stdout",
     "output_type": "stream",
     "text": [
      "(2, 2)\n",
      "[[7 3]\n",
      " [9 7]]\n",
      "(2, 1)\n",
      "[[8]\n",
      " [2]]\n"
     ]
    },
    {
     "data": {
      "text/plain": [
       "array([[62],\n",
       "       [86]])"
      ]
     },
     "execution_count": 22,
     "metadata": {},
     "output_type": "execute_result"
    }
   ],
   "source": [
    "vector1 = np.array( [[7, 3], [9,7]] )\n",
    "vector2 = np.array( [[8],[2]] )\n",
    "\n",
    "print(vector1.shape)\n",
    "print(vector1)\n",
    "\n",
    "print(vector2.shape)\n",
    "print(vector2)\n",
    "\n",
    "\n",
    "np.dot( vector1, vector2 )"
   ]
  },
  {
   "cell_type": "code",
   "execution_count": null,
   "id": "ae06f64a-07d3-44d9-9263-636bd778b24f",
   "metadata": {},
   "outputs": [],
   "source": []
  }
 ],
 "metadata": {
  "kernelspec": {
   "display_name": "Python 3",
   "language": "python",
   "name": "python3"
  },
  "language_info": {
   "codemirror_mode": {
    "name": "ipython",
    "version": 3
   },
   "file_extension": ".py",
   "mimetype": "text/x-python",
   "name": "python",
   "nbconvert_exporter": "python",
   "pygments_lexer": "ipython3",
   "version": "3.9.5"
  }
 },
 "nbformat": 4,
 "nbformat_minor": 5
}
